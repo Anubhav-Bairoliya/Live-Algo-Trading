{
 "cells": [
  {
   "cell_type": "code",
   "execution_count": 1,
   "id": "41be521d",
   "metadata": {},
   "outputs": [
    {
     "name": "stdout",
     "output_type": "stream",
     "text": [
      "Collecting yfinance\n",
      "  Downloading yfinance-0.1.77-py2.py3-none-any.whl (28 kB)\n",
      "Requirement already satisfied: pandas>=0.24.0 in c:\\users\\naman\\anaconda3\\lib\\site-packages (from yfinance) (1.4.2)\n",
      "Requirement already satisfied: lxml>=4.5.1 in c:\\users\\naman\\anaconda3\\lib\\site-packages (from yfinance) (4.8.0)\n",
      "Requirement already satisfied: requests>=2.26 in c:\\users\\naman\\anaconda3\\lib\\site-packages (from yfinance) (2.27.1)\n",
      "Requirement already satisfied: appdirs>=1.4.4 in c:\\users\\naman\\anaconda3\\lib\\site-packages (from yfinance) (1.4.4)\n",
      "Requirement already satisfied: numpy>=1.15 in c:\\users\\naman\\anaconda3\\lib\\site-packages (from yfinance) (1.21.5)\n",
      "Collecting multitasking>=0.0.7\n",
      "  Downloading multitasking-0.0.11-py3-none-any.whl (8.5 kB)\n",
      "Requirement already satisfied: python-dateutil>=2.8.1 in c:\\users\\naman\\anaconda3\\lib\\site-packages (from pandas>=0.24.0->yfinance) (2.8.2)\n",
      "Requirement already satisfied: pytz>=2020.1 in c:\\users\\naman\\anaconda3\\lib\\site-packages (from pandas>=0.24.0->yfinance) (2021.3)\n",
      "Requirement already satisfied: six>=1.5 in c:\\users\\naman\\anaconda3\\lib\\site-packages (from python-dateutil>=2.8.1->pandas>=0.24.0->yfinance) (1.16.0)\n",
      "Requirement already satisfied: charset-normalizer~=2.0.0 in c:\\users\\naman\\anaconda3\\lib\\site-packages (from requests>=2.26->yfinance) (2.0.4)\n",
      "Requirement already satisfied: idna<4,>=2.5 in c:\\users\\naman\\anaconda3\\lib\\site-packages (from requests>=2.26->yfinance) (3.3)\n",
      "Requirement already satisfied: urllib3<1.27,>=1.21.1 in c:\\users\\naman\\anaconda3\\lib\\site-packages (from requests>=2.26->yfinance) (1.26.9)\n",
      "Requirement already satisfied: certifi>=2017.4.17 in c:\\users\\naman\\anaconda3\\lib\\site-packages (from requests>=2.26->yfinance) (2021.10.8)\n",
      "Installing collected packages: multitasking, yfinance\n",
      "Successfully installed multitasking-0.0.11 yfinance-0.1.77\n"
     ]
    }
   ],
   "source": [
    "!pip install yfinance"
   ]
  },
  {
   "cell_type": "code",
   "execution_count": 4,
   "id": "2cd64a41",
   "metadata": {},
   "outputs": [],
   "source": [
    "#Imported all the libaries\n",
    "import yfinance as yf\n",
    "import pandas as pd"
   ]
  },
  {
   "cell_type": "code",
   "execution_count": 5,
   "id": "b6fe8302",
   "metadata": {},
   "outputs": [],
   "source": [
    "#Defining a Function Based on the Stock Ticker to Dowload all the data\n",
    "def comb(s):\n",
    "      Y2=yf.download(s,'2020-10-06','2022-10-06')\n",
    "      W1=yf.download(s,'2022-09-28','2022-10-06')\n",
    "      W2=yf.download(s,'2022-09-21','2022-10-06')\n",
    "      W4=yf.download(s,'2022-09-07','2022-10-06')\n",
    "      W8=yf.download(s,'2022-08-10','2022-10-06')\n",
    "      W16=yf.download(s,'2022-06-15','2022-10-06')\n",
    "      M6=yf.download(s,'2021-04-06','2022-10-06')\n",
    "      Y1=yf.download(s,'2021-10-06','2022-10-06')\n",
    "# Dowloading year wise data inorder to Classify the data\n",
    "      L=[0.35,0.5,1,2,3.5]  \n",
    "# Performing various K Value based calculations\n",
    "\n",
    "      k=0.35\n",
    "      high_ch = pd.DataFrame(columns=['Lord'])\n",
    "      high_ch['Lord'] = (((W1['High']-W1['Open'])*100 )/W1['Open'])\n",
    "      final_W1=high_ch[high_ch.Lord > k]\n",
    "\n",
    "      high_ch1 = pd.DataFrame(columns=['Lord'])\n",
    "      high_ch1['Lord'] = (((W2['High']-W2['Open'])*100 )/W2['Open'])\n",
    "      final_W2=high_ch1[high_ch1.Lord > k]\n",
    "\n",
    "      high_ch2 = pd.DataFrame(columns=['Lord'])\n",
    "      high_ch2['Lord'] = (((W4['High']-W4['Open'])*100 )/W4['Open'])\n",
    "      final_W4=high_ch2[high_ch2.Lord > k]\n",
    "\n",
    "      high_ch3 = pd.DataFrame(columns=['Lord'])\n",
    "      high_ch3['Lord'] = (((W8['High']-W8['Open'])*100 )/W8['Open'])\n",
    "      final_W8=high_ch3[high_ch3.Lord > k]\n",
    "\n",
    "      high_ch4 = pd.DataFrame(columns=['Lord'])\n",
    "      high_ch4['Lord'] = (((W16['High']-W16['Open'])*100 )/W16['Open'])\n",
    "      final_W16=high_ch4[high_ch4.Lord > k]\n",
    "\n",
    "      high_ch5 = pd.DataFrame(columns=['Lord'])\n",
    "      high_ch5['Lord'] = (((M6['High']-M6['Open'])*100 )/M6['Open'])\n",
    "      final_M6=high_ch5[high_ch5.Lord > k]\n",
    "\n",
    "      high_ch6 = pd.DataFrame(columns=['Lord'])\n",
    "      high_ch6['Lord'] = (((Y1['High']-Y1['Open'])*100 )/Y1['Open'])\n",
    "      final_Y1=high_ch6[high_ch6.Lord > k]\n",
    "\n",
    "      high_ch7 = pd.DataFrame(columns=['Lord'])\n",
    "      high_ch7['Lord'] = (((Y2['High']-Y2['Open'])*100 )/Y2['Open'])\n",
    "      final_Y2=high_ch7[high_ch7.Lord > k]\n",
    "    \n",
    "      k_num_35=256*((final_W1.size*100)/(W1.size))+128*((final_W2.size*100)/(W2.size))+64*((final_W4.size*100)/(W4.size))+32*((final_W8.size*100)/(W8.size))+16*((final_W16.size*100)/(W16.size))+8*((final_M6.size*100)/M6.size)+4*((final_Y1.size*100)/(Y1.size))+2*((final_Y2.size*100)/(Y2.size))\n",
    "      ## For k = 0.5 \n",
    "    \n",
    "      k=0.50\n",
    "      high_ch = pd.DataFrame(columns=['Lord'])\n",
    "      high_ch['Lord'] = (((W1['High']-W1['Open'])*100 )/W1['Open'])\n",
    "      final_W1=high_ch[high_ch.Lord > k]\n",
    "\n",
    "      high_ch1 = pd.DataFrame(columns=['Lord'])\n",
    "      high_ch1['Lord'] = (((W2['High']-W2['Open'])*100 )/W2['Open'])\n",
    "      final_W2=high_ch1[high_ch1.Lord > k]\n",
    "\n",
    "      high_ch2 = pd.DataFrame(columns=['Lord'])\n",
    "      high_ch2['Lord'] = (((W4['High']-W4['Open'])*100 )/W4['Open'])\n",
    "      final_W4=high_ch2[high_ch2.Lord > k]\n",
    "\n",
    "      high_ch3 = pd.DataFrame(columns=['Lord'])\n",
    "      high_ch3['Lord'] = (((W8['High']-W8['Open'])*100 )/W8['Open'])\n",
    "      final_W8=high_ch3[high_ch3.Lord > k]\n",
    "\n",
    "      high_ch4 = pd.DataFrame(columns=['Lord'])\n",
    "      high_ch4['Lord'] = (((W16['High']-W16['Open'])*100 )/W16['Open'])\n",
    "      final_W16=high_ch4[high_ch4.Lord > k]\n",
    "\n",
    "      high_ch5 = pd.DataFrame(columns=['Lord'])\n",
    "      high_ch5['Lord'] = (((M6['High']-M6['Open'])*100 )/M6['Open'])\n",
    "      final_M6=high_ch5[high_ch5.Lord > k]\n",
    "\n",
    "      high_ch6 = pd.DataFrame(columns=['Lord'])\n",
    "      high_ch6['Lord'] = (((Y1['High']-Y1['Open'])*100 )/Y1['Open'])\n",
    "      final_Y1=high_ch6[high_ch6.Lord > k]\n",
    "\n",
    "      high_ch7 = pd.DataFrame(columns=['Lord'])\n",
    "      high_ch7['Lord'] = (((Y2['High']-Y2['Open'])*100 )/Y2['Open'])\n",
    "      final_Y2=high_ch7[high_ch7.Lord > k]\n",
    "      \n",
    "      k_num_50=256*((final_W1.size*100)/(W1.size))+128*((final_W2.size*100)/(W2.size))+64*((final_W4.size*100)/(W4.size))+32*((final_W8.size*100)/(W8.size))+16*((final_W16.size*100)/(W16.size))+8*((final_M6.size*100)/M6.size)+4*((final_Y1.size*100)/(Y1.size))+2*((final_Y2.size*100)/(Y2.size))\n",
    "      \n",
    "    ## k = 1.0\n",
    "      k=1.0\n",
    "      high_ch = pd.DataFrame(columns=['Lord'])\n",
    "      high_ch['Lord'] = (((W1['High']-W1['Open'])*100 )/W1['Open'])\n",
    "      final_W1=high_ch[high_ch.Lord > k]\n",
    "\n",
    "      high_ch1 = pd.DataFrame(columns=['Lord'])\n",
    "      high_ch1['Lord'] = (((W2['High']-W2['Open'])*100 )/W2['Open'])\n",
    "      final_W2=high_ch1[high_ch1.Lord > k]\n",
    "\n",
    "      high_ch2 = pd.DataFrame(columns=['Lord'])\n",
    "      high_ch2['Lord'] = (((W4['High']-W4['Open'])*100 )/W4['Open'])\n",
    "      final_W4=high_ch2[high_ch2.Lord > k]\n",
    "\n",
    "      high_ch3 = pd.DataFrame(columns=['Lord'])\n",
    "      high_ch3['Lord'] = (((W8['High']-W8['Open'])*100 )/W8['Open'])\n",
    "      final_W8=high_ch3[high_ch3.Lord > k]\n",
    "\n",
    "      high_ch4 = pd.DataFrame(columns=['Lord'])\n",
    "      high_ch4['Lord'] = (((W16['High']-W16['Open'])*100 )/W16['Open'])\n",
    "      final_W16=high_ch4[high_ch4.Lord > k]\n",
    "\n",
    "      high_ch5 = pd.DataFrame(columns=['Lord'])\n",
    "      high_ch5['Lord'] = (((M6['High']-M6['Open'])*100 )/M6['Open'])\n",
    "      final_M6=high_ch5[high_ch5.Lord > k]\n",
    "\n",
    "      high_ch6 = pd.DataFrame(columns=['Lord'])\n",
    "      high_ch6['Lord'] = (((Y1['High']-Y1['Open'])*100 )/Y1['Open'])\n",
    "      final_Y1=high_ch6[high_ch6.Lord > k]\n",
    "\n",
    "      high_ch7 = pd.DataFrame(columns=['Lord'])\n",
    "      high_ch7['Lord'] = (((Y2['High']-Y2['Open'])*100 )/Y2['Open'])\n",
    "      final_Y2=high_ch7[high_ch7.Lord > k]\n",
    "      \n",
    "      k_num_100=256*((final_W1.size*100)/(W1.size))+128*((final_W2.size*100)/(W2.size))+64*((final_W4.size*100)/(W4.size))+32*((final_W8.size*100)/(W8.size))+16*((final_W16.size*100)/(W16.size))+8*((final_M6.size*100)/M6.size)+4*((final_Y1.size*100)/(Y1.size))+2*((final_Y2.size*100)/(Y2.size)) \n",
    "        \n",
    "      ## k = 2\n",
    "      k= 2.0\n",
    "      high_ch = pd.DataFrame(columns=['Lord'])\n",
    "      high_ch['Lord'] = (((W1['High']-W1['Open'])*100 )/W1['Open'])\n",
    "      final_W1=high_ch[high_ch.Lord > k]\n",
    "\n",
    "      high_ch1 = pd.DataFrame(columns=['Lord'])\n",
    "      high_ch1['Lord'] = (((W2['High']-W2['Open'])*100 )/W2['Open'])\n",
    "      final_W2=high_ch1[high_ch1.Lord > k]\n",
    "\n",
    "      high_ch2 = pd.DataFrame(columns=['Lord'])\n",
    "      high_ch2['Lord'] = (((W4['High']-W4['Open'])*100 )/W4['Open'])\n",
    "      final_W4=high_ch2[high_ch2.Lord > k]\n",
    "\n",
    "      high_ch3 = pd.DataFrame(columns=['Lord'])\n",
    "      high_ch3['Lord'] = (((W8['High']-W8['Open'])*100 )/W8['Open'])\n",
    "      final_W8=high_ch3[high_ch3.Lord > k]\n",
    "\n",
    "      high_ch4 = pd.DataFrame(columns=['Lord'])\n",
    "      high_ch4['Lord'] = (((W16['High']-W16['Open'])*100 )/W16['Open'])\n",
    "      final_W16=high_ch4[high_ch4.Lord > k]\n",
    "\n",
    "      high_ch5 = pd.DataFrame(columns=['Lord'])\n",
    "      high_ch5['Lord'] = (((M6['High']-M6['Open'])*100 )/M6['Open'])\n",
    "      final_M6=high_ch5[high_ch5.Lord > k]\n",
    "\n",
    "      high_ch6 = pd.DataFrame(columns=['Lord'])\n",
    "      high_ch6['Lord'] = (((Y1['High']-Y1['Open'])*100 )/Y1['Open'])\n",
    "      final_Y1=high_ch6[high_ch6.Lord > k]\n",
    "\n",
    "      high_ch7 = pd.DataFrame(columns=['Lord'])\n",
    "      high_ch7['Lord'] = (((Y2['High']-Y2['Open'])*100 )/Y2['Open'])\n",
    "      final_Y2=high_ch7[high_ch7.Lord > k]\n",
    "      \n",
    "      k_num_200=256*((final_W1.size*100)/(W1.size))+128*((final_W2.size*100)/(W2.size))+64*((final_W4.size*100)/(W4.size))+32*((final_W8.size*100)/(W8.size))+16*((final_W16.size*100)/(W16.size))+8*((final_M6.size*100)/M6.size)+4*((final_Y1.size*100)/(Y1.size))+2*((final_Y2.size*100)/(Y2.size))\n",
    "      \n",
    "      ##k = 3.5\n",
    "      k=3.50\n",
    "      high_ch = pd.DataFrame(columns=['Lord'])\n",
    "      high_ch['Lord'] = (((W1['High']-W1['Open'])*100 )/W1['Open'])\n",
    "      final_W1=high_ch[high_ch.Lord > k]\n",
    "\n",
    "      high_ch1 = pd.DataFrame(columns=['Lord'])\n",
    "      high_ch1['Lord'] = (((W2['High']-W2['Open'])*100 )/W2['Open'])\n",
    "      final_W2=high_ch1[high_ch1.Lord > k]\n",
    "\n",
    "      high_ch2 = pd.DataFrame(columns=['Lord'])\n",
    "      high_ch2['Lord'] = (((W4['High']-W4['Open'])*100 )/W4['Open'])\n",
    "      final_W4=high_ch2[high_ch2.Lord > k]\n",
    "\n",
    "      high_ch3 = pd.DataFrame(columns=['Lord'])\n",
    "      high_ch3['Lord'] = (((W8['High']-W8['Open'])*100 )/W8['Open'])\n",
    "      final_W8=high_ch3[high_ch3.Lord > k]\n",
    "\n",
    "      high_ch4 = pd.DataFrame(columns=['Lord'])\n",
    "      high_ch4['Lord'] = (((W16['High']-W16['Open'])*100 )/W16['Open'])\n",
    "      final_W16=high_ch4[high_ch4.Lord > k]\n",
    "\n",
    "      high_ch5 = pd.DataFrame(columns=['Lord'])\n",
    "      high_ch5['Lord'] = (((M6['High']-M6['Open'])*100 )/M6['Open'])\n",
    "      final_M6=high_ch5[high_ch5.Lord > k]\n",
    "\n",
    "      high_ch6 = pd.DataFrame(columns=['Lord'])\n",
    "      high_ch6['Lord'] = (((Y1['High']-Y1['Open'])*100 )/Y1['Open'])\n",
    "      final_Y1=high_ch6[high_ch6.Lord > k]\n",
    "\n",
    "      high_ch7 = pd.DataFrame(columns=['Lord'])\n",
    "      high_ch7['Lord'] = (((Y2['High']-Y2['Open'])*100 )/Y2['Open'])\n",
    "      final_Y2=high_ch7[high_ch7.Lord > k]\n",
    "      \n",
    "      k_num_350=256*((final_W1.size*100)/(W1.size))+128*((final_W2.size*100)/(W2.size))+64*((final_W4.size*100)/(W4.size))+32*((final_W8.size*100)/(W8.size))+16*((final_W16.size*100)/(W16.size))+8*((final_M6.size*100)/M6.size)+4*((final_Y1.size*100)/(Y1.size))+2*((final_Y2.size*100)/(Y2.size))\n",
    "    \n",
    "      #Risk\n",
    "      \n",
    "      #Risk = 0.0\n",
    "      k=0.00\n",
    "      high_ch = pd.DataFrame(columns=['Lord'])\n",
    "      high_ch['Lord'] = (((W1['High']-W1['Open'])*100 )/W1['Open'])\n",
    "      final_W1=high_ch[high_ch.Lord <= k]\n",
    "\n",
    "      high_ch1 = pd.DataFrame(columns=['Lord'])\n",
    "      high_ch1['Lord'] = (((W2['High']-W2['Open'])*100 )/W2['Open'])\n",
    "      final_W2=high_ch1[high_ch1.Lord <= k]\n",
    "\n",
    "      high_ch2 = pd.DataFrame(columns=['Lord'])\n",
    "      high_ch2['Lord'] = (((W4['High']-W4['Open'])*100 )/W4['Open'])\n",
    "      final_W4=high_ch2[high_ch2.Lord <= k]\n",
    "\n",
    "      high_ch3 = pd.DataFrame(columns=['Lord'])\n",
    "      high_ch3['Lord'] = (((W8['High']-W8['Open'])*100 )/W8['Open'])\n",
    "      final_W8=high_ch3[high_ch3.Lord <= k]\n",
    "\n",
    "      high_ch4 = pd.DataFrame(columns=['Lord'])\n",
    "      high_ch4['Lord'] = (((W16['High']-W16['Open'])*100 )/W16['Open'])\n",
    "      final_W16=high_ch4[high_ch4.Lord <= k]\n",
    "\n",
    "      high_ch5 = pd.DataFrame(columns=['Lord'])\n",
    "      high_ch5['Lord'] = (((M6['High']-M6['Open'])*100 )/M6['Open'])\n",
    "      final_M6=high_ch5[high_ch5.Lord <= k]\n",
    "\n",
    "      high_ch6 = pd.DataFrame(columns=['Lord'])\n",
    "      high_ch6['Lord'] = (((Y1['High']-Y1['Open'])*100 )/Y1['Open'])\n",
    "      final_Y1=high_ch6[high_ch6.Lord <= k]\n",
    "\n",
    "      high_ch7 = pd.DataFrame(columns=['Lord'])\n",
    "      high_ch7['Lord'] = (((Y2['High']-Y2['Open'])*100 )/Y2['Open'])\n",
    "      final_Y2=high_ch7[high_ch7.Lord <= k]\n",
    "      \n",
    "      risk_num_00=256*((final_W1.size*100)/(W1.size))+128*((final_W2.size*100)/(W2.size))+64*((final_W4.size*100)/(W4.size))+32*((final_W8.size*100)/(W8.size))+16*((final_W16.size*100)/(W16.size))+8*((final_M6.size*100)/M6.size)+4*((final_Y1.size*100)/(Y1.size))+2*((final_Y2.size*100)/(Y2.size))  \n",
    "    \n",
    "      ##Risk =0.30\n",
    "      \n",
    "      k=0.30\n",
    "      high_ch = pd.DataFrame(columns=['Lord'])\n",
    "      high_ch['Lord'] = (((W1['High']-W1['Open'])*100 )/W1['Open'])\n",
    "      final_W1=high_ch[high_ch.Lord <= k]\n",
    "\n",
    "      high_ch1 = pd.DataFrame(columns=['Lord'])\n",
    "      high_ch1['Lord'] = (((W2['High']-W2['Open'])*100 )/W2['Open'])\n",
    "      final_W2=high_ch1[high_ch1.Lord <= k]\n",
    "\n",
    "      high_ch2 = pd.DataFrame(columns=['Lord'])\n",
    "      high_ch2['Lord'] = (((W4['High']-W4['Open'])*100 )/W4['Open'])\n",
    "      final_W4=high_ch2[high_ch2.Lord <= k]\n",
    "\n",
    "      high_ch3 = pd.DataFrame(columns=['Lord'])\n",
    "      high_ch3['Lord'] = (((W8['High']-W8['Open'])*100 )/W8['Open'])\n",
    "      final_W8=high_ch3[high_ch3.Lord <= k]\n",
    "\n",
    "      high_ch4 = pd.DataFrame(columns=['Lord'])\n",
    "      high_ch4['Lord'] = (((W16['High']-W16['Open'])*100 )/W16['Open'])\n",
    "      final_W16=high_ch4[high_ch4.Lord <= k]\n",
    "\n",
    "      high_ch5 = pd.DataFrame(columns=['Lord'])\n",
    "      high_ch5['Lord'] = (((M6['High']-M6['Open'])*100 )/M6['Open'])\n",
    "      final_M6=high_ch5[high_ch5.Lord <= k]\n",
    "\n",
    "      high_ch6 = pd.DataFrame(columns=['Lord'])\n",
    "      high_ch6['Lord'] = (((Y1['High']-Y1['Open'])*100 )/Y1['Open'])\n",
    "      final_Y1=high_ch6[high_ch6.Lord <= k]\n",
    "\n",
    "      high_ch7 = pd.DataFrame(columns=['Lord'])\n",
    "      high_ch7['Lord'] = (((Y2['High']-Y2['Open'])*100 )/Y2['Open'])\n",
    "      final_Y2=high_ch7[high_ch7.Lord <= k]\n",
    "      \n",
    "      risk_num_30=256*((final_W1.size*100)/(W1.size))+128*((final_W2.size*100)/(W2.size))+64*((final_W4.size*100)/(W4.size))+32*((final_W8.size*100)/(W8.size))+16*((final_W16.size*100)/(W16.size))+8*((final_M6.size*100)/M6.size)+4*((final_Y1.size*100)/(Y1.size))+2*((final_Y2.size*100)/(Y2.size))  \n",
    "        \n",
    "      ##Risk = 0.50\n",
    "    \n",
    "      k=0.50\n",
    "      high_ch = pd.DataFrame(columns=['Lord'])\n",
    "      high_ch['Lord'] = (((W1['High']-W1['Open'])*100 )/W1['Open'])\n",
    "      final_W1=high_ch[high_ch.Lord < k]\n",
    "\n",
    "      high_ch1 = pd.DataFrame(columns=['Lord'])\n",
    "      high_ch1['Lord'] = (((W2['High']-W2['Open'])*100 )/W2['Open'])\n",
    "      final_W2=high_ch1[high_ch1.Lord < k]\n",
    "\n",
    "      high_ch2 = pd.DataFrame(columns=['Lord'])\n",
    "      high_ch2['Lord'] = (((W4['High']-W4['Open'])*100 )/W4['Open'])\n",
    "      final_W4=high_ch2[high_ch2.Lord < k]\n",
    "\n",
    "      high_ch3 = pd.DataFrame(columns=['Lord'])\n",
    "      high_ch3['Lord'] = (((W8['High']-W8['Open'])*100 )/W8['Open'])\n",
    "      final_W8=high_ch3[high_ch3.Lord < k]\n",
    "\n",
    "      high_ch4 = pd.DataFrame(columns=['Lord'])\n",
    "      high_ch4['Lord'] = (((W16['High']-W16['Open'])*100 )/W16['Open'])\n",
    "      final_W16=high_ch4[high_ch4.Lord < k]\n",
    "\n",
    "      high_ch5 = pd.DataFrame(columns=['Lord'])\n",
    "      high_ch5['Lord'] = (((M6['High']-M6['Open'])*100 )/M6['Open'])\n",
    "      final_M6=high_ch5[high_ch5.Lord < k]\n",
    "\n",
    "      high_ch6 = pd.DataFrame(columns=['Lord'])\n",
    "      high_ch6['Lord'] = (((Y1['High']-Y1['Open'])*100 )/Y1['Open'])\n",
    "      final_Y1=high_ch6[high_ch6.Lord < k]\n",
    "\n",
    "      high_ch7 = pd.DataFrame(columns=['Lord'])\n",
    "      high_ch7['Lord'] = (((Y2['High']-Y2['Open'])*100 )/Y2['Open'])\n",
    "      final_Y2=high_ch7[high_ch7.Lord < k]\n",
    "      \n",
    "      risk_num_50=256*((final_W1.size*100)/(W1.size))+128*((final_W2.size*100)/(W2.size))+64*((final_W4.size*100)/(W4.size))+32*((final_W8.size*100)/(W8.size))+16*((final_W16.size*100)/(W16.size))+8*((final_M6.size*100)/M6.size)+4*((final_Y1.size*100)/(Y1.size))+2*((final_Y2.size*100)/(Y2.size))\n",
    "    \n",
    "      ## risk =1 \n",
    "      k=1\n",
    "      high_ch = pd.DataFrame(columns=['Lord'])\n",
    "      high_ch['Lord'] = (((W1['High']-W1['Open'])*100 )/W1['Open'])\n",
    "      final_W1=high_ch[high_ch.Lord < k]\n",
    "\n",
    "      high_ch1 = pd.DataFrame(columns=['Lord'])\n",
    "      high_ch1['Lord'] = (((W2['High']-W2['Open'])*100 )/W2['Open'])\n",
    "      final_W2=high_ch1[high_ch1.Lord < k]\n",
    "\n",
    "      high_ch2 = pd.DataFrame(columns=['Lord'])\n",
    "      high_ch2['Lord'] = (((W4['High']-W4['Open'])*100 )/W4['Open'])\n",
    "      final_W4=high_ch2[high_ch2.Lord < k]\n",
    "\n",
    "      high_ch3 = pd.DataFrame(columns=['Lord'])\n",
    "      high_ch3['Lord'] = (((W8['High']-W8['Open'])*100 )/W8['Open'])\n",
    "      final_W8=high_ch3[high_ch3.Lord < k]\n",
    "\n",
    "      high_ch4 = pd.DataFrame(columns=['Lord'])\n",
    "      high_ch4['Lord'] = (((W16['High']-W16['Open'])*100 )/W16['Open'])\n",
    "      final_W16=high_ch4[high_ch4.Lord < k]\n",
    "\n",
    "      high_ch5 = pd.DataFrame(columns=['Lord'])\n",
    "      high_ch5['Lord'] = (((M6['High']-M6['Open'])*100 )/M6['Open'])\n",
    "      final_M6=high_ch5[high_ch5.Lord < k]\n",
    "\n",
    "      high_ch6 = pd.DataFrame(columns=['Lord'])\n",
    "      high_ch6['Lord'] = (((Y1['High']-Y1['Open'])*100 )/Y1['Open'])\n",
    "      final_Y1=high_ch6[high_ch6.Lord < k]\n",
    "\n",
    "      high_ch7 = pd.DataFrame(columns=['Lord'])\n",
    "      high_ch7['Lord'] = (((Y2['High']-Y2['Open'])*100 )/Y2['Open'])\n",
    "      final_Y2=high_ch7[high_ch7.Lord < k]\n",
    "      \n",
    "      risk_num_100=256*((final_W1.size*100)/(W1.size))+128*((final_W2.size*100)/(W2.size))+64*((final_W4.size*100)/(W4.size))+32*((final_W8.size*100)/(W8.size))+16*((final_W16.size*100)/(W16.size))+8*((final_M6.size*100)/M6.size)+4*((final_Y1.size*100)/(Y1.size))+2*((final_Y2.size*100)/(Y2.size))\n",
    "      \n",
    "      df2 ={\n",
    "         'Stock': s, 'P035':k_num_35, 'P05': k_num_50, 'P1': k_num_100, 'P2':k_num_200, 'P35':k_num_350, 'R05':risk_num_50, 'R1':risk_num_100, 'R03' :risk_num_30, 'R0' : risk_num_00\n",
    "      }\n",
    "      return df2 "
   ]
  },
  {
   "cell_type": "code",
   "execution_count": 6,
   "id": "d51b24e2",
   "metadata": {},
   "outputs": [],
   "source": [
    "column_names = [\"Code\"]\n",
    "symb = pd.read_csv(\"harshad.csv\", names=column_names)\n",
    "symbols = symb.Code.to_list()"
   ]
  },
  {
   "cell_type": "code",
   "execution_count": 7,
   "id": "9b13291d",
   "metadata": {
    "scrolled": true
   },
   "outputs": [
    {
     "name": "stdout",
     "output_type": "stream",
     "text": [
      "ABB.NS\n",
      "[*********************100%***********************]  1 of 1 completed\n",
      "[*********************100%***********************]  1 of 1 completed\n",
      "[*********************100%***********************]  1 of 1 completed\n",
      "[*********************100%***********************]  1 of 1 completed\n",
      "[*********************100%***********************]  1 of 1 completed\n",
      "[*********************100%***********************]  1 of 1 completed\n",
      "[*********************100%***********************]  1 of 1 completed\n",
      "[*********************100%***********************]  1 of 1 completed\n"
     ]
    },
    {
     "name": "stderr",
     "output_type": "stream",
     "text": [
      "C:\\Users\\naman\\AppData\\Local\\Temp\\ipykernel_6796\\1180599731.py:4: FutureWarning: The frame.append method is deprecated and will be removed from pandas in a future version. Use pandas.concat instead.\n",
      "  symb= symb.append(df2, ignore_index = True)\n"
     ]
    },
    {
     "name": "stdout",
     "output_type": "stream",
     "text": [
      "{'Stock': 'ABB.NS', 'P035': 6724.096832972698, 'P05': 6640.6128100355045, 'P1': 6249.955945946547, 'P2': 1752.374415222345, 'P35': 1233.98971395188, 'R05': 1859.387189964495, 'R1': 2250.0440540534537, 'R03': 1772.4824597283614, 'R0': 1462.1405588860453}\n",
      "ACC.NS\n",
      "[*********************100%***********************]  1 of 1 completed\n",
      "[*********************100%***********************]  1 of 1 completed\n",
      "[*********************100%***********************]  1 of 1 completed\n",
      "[*********************100%***********************]  1 of 1 completed\n",
      "[*********************100%***********************]  1 of 1 completed\n",
      "[*********************100%***********************]  1 of 1 completed\n",
      "[*********************100%***********************]  1 of 1 completed\n",
      "[*********************100%***********************]  1 of 1 completed\n",
      "{'Stock': 'ACC.NS', 'P035': 8174.127446410507, 'P05': 7563.820961819463, 'P1': 3415.339251502503, 'P2': 3156.379374866982, 'P35': 292.1371961473152, 'R05': 936.1790381805366, 'R1': 5084.660748497497, 'R03': 316.84152883085005, 'R0': 35.40108874090305}\n",
      "AUBANK.NS\n"
     ]
    },
    {
     "name": "stderr",
     "output_type": "stream",
     "text": [
      "C:\\Users\\naman\\AppData\\Local\\Temp\\ipykernel_6796\\1180599731.py:4: FutureWarning: The frame.append method is deprecated and will be removed from pandas in a future version. Use pandas.concat instead.\n",
      "  symb= symb.append(df2, ignore_index = True)\n"
     ]
    },
    {
     "name": "stdout",
     "output_type": "stream",
     "text": [
      "[*********************100%***********************]  1 of 1 completed\n",
      "[*********************100%***********************]  1 of 1 completed\n",
      "[*********************100%***********************]  1 of 1 completed\n",
      "[*********************100%***********************]  1 of 1 completed\n",
      "[*********************100%***********************]  1 of 1 completed\n",
      "[*********************100%***********************]  1 of 1 completed\n",
      "[*********************100%***********************]  1 of 1 completed\n",
      "[*********************100%***********************]  1 of 1 completed\n",
      "{'Stock': 'AUBANK.NS', 'P035': 6988.7080896821135, 'P05': 5682.14216182345, 'P1': 4837.348777734728, 'P2': 2589.865923581943, 'P35': 1203.616284165047, 'R05': 2817.85783817655, 'R1': 3662.6512222652723, 'R03': 1222.185410397239, 'R0': 43.62710806003672}\n",
      "ABBOTINDIA.NS\n"
     ]
    },
    {
     "name": "stderr",
     "output_type": "stream",
     "text": [
      "C:\\Users\\naman\\AppData\\Local\\Temp\\ipykernel_6796\\1180599731.py:4: FutureWarning: The frame.append method is deprecated and will be removed from pandas in a future version. Use pandas.concat instead.\n",
      "  symb= symb.append(df2, ignore_index = True)\n"
     ]
    },
    {
     "name": "stdout",
     "output_type": "stream",
     "text": [
      "[*********************100%***********************]  1 of 1 completed\n",
      "[*********************100%***********************]  1 of 1 completed\n",
      "[*********************100%***********************]  1 of 1 completed\n",
      "[*********************100%***********************]  1 of 1 completed\n",
      "[*********************100%***********************]  1 of 1 completed\n",
      "[*********************100%***********************]  1 of 1 completed\n",
      "[*********************100%***********************]  1 of 1 completed\n",
      "[*********************100%***********************]  1 of 1 completed\n",
      "{'Stock': 'ABBOTINDIA.NS', 'P035': 8117.613747589251, 'P05': 6803.315023232481, 'P1': 5781.598461092227, 'P2': 2808.852644559838, 'P35': 1228.3629857652386, 'R05': 1696.68497676752, 'R1': 2718.401538907774, 'R03': 356.5718605089254, 'R0': 183.8231019204658}\n",
      "ADANIENT.NS\n"
     ]
    },
    {
     "name": "stderr",
     "output_type": "stream",
     "text": [
      "C:\\Users\\naman\\AppData\\Local\\Temp\\ipykernel_6796\\1180599731.py:4: FutureWarning: The frame.append method is deprecated and will be removed from pandas in a future version. Use pandas.concat instead.\n",
      "  symb= symb.append(df2, ignore_index = True)\n"
     ]
    },
    {
     "name": "stdout",
     "output_type": "stream",
     "text": [
      "[*********************100%***********************]  1 of 1 completed\n",
      "[*********************100%***********************]  1 of 1 completed\n",
      "[*********************100%***********************]  1 of 1 completed\n",
      "[*********************100%***********************]  1 of 1 completed\n",
      "[*********************100%***********************]  1 of 1 completed\n",
      "[*********************100%***********************]  1 of 1 completed\n",
      "[*********************100%***********************]  1 of 1 completed\n",
      "[*********************100%***********************]  1 of 1 completed\n",
      "{'Stock': 'ADANIENT.NS', 'P035': 7776.016485063431, 'P05': 7752.969856430718, 'P1': 5837.653229543147, 'P2': 3198.24903800048, 'P35': 188.57042947214225, 'R05': 747.0301435692829, 'R1': 2662.346770456853, 'R03': 409.1997584590911, 'R0': 12.25052481412313}\n",
      "ADANIGREEN.NS\n"
     ]
    },
    {
     "name": "stderr",
     "output_type": "stream",
     "text": [
      "C:\\Users\\naman\\AppData\\Local\\Temp\\ipykernel_6796\\1180599731.py:4: FutureWarning: The frame.append method is deprecated and will be removed from pandas in a future version. Use pandas.concat instead.\n",
      "  symb= symb.append(df2, ignore_index = True)\n"
     ]
    },
    {
     "name": "stdout",
     "output_type": "stream",
     "text": [
      "[*********************100%***********************]  1 of 1 completed\n",
      "[*********************100%***********************]  1 of 1 completed\n",
      "[*********************100%***********************]  1 of 1 completed\n",
      "[*********************100%***********************]  1 of 1 completed\n",
      "[*********************100%***********************]  1 of 1 completed\n",
      "[*********************100%***********************]  1 of 1 completed\n",
      "[*********************100%***********************]  1 of 1 completed\n",
      "[*********************100%***********************]  1 of 1 completed\n",
      "{'Stock': 'ADANIGREEN.NS', 'P035': 7992.411574707958, 'P05': 7895.339476180193, 'P1': 7110.740740734573, 'P2': 2665.7642324776734, 'P35': 2472.8764482690367, 'R05': 604.6605238198069, 'R1': 1389.1921901842727, 'R03': 433.42473829262616, 'R0': 321.5355589250891}\n",
      "ADANIPORTS.NS\n"
     ]
    },
    {
     "name": "stderr",
     "output_type": "stream",
     "text": [
      "C:\\Users\\naman\\AppData\\Local\\Temp\\ipykernel_6796\\1180599731.py:4: FutureWarning: The frame.append method is deprecated and will be removed from pandas in a future version. Use pandas.concat instead.\n",
      "  symb= symb.append(df2, ignore_index = True)\n"
     ]
    },
    {
     "name": "stdout",
     "output_type": "stream",
     "text": [
      "[*********************100%***********************]  1 of 1 completed\n",
      "[*********************100%***********************]  1 of 1 completed\n",
      "[*********************100%***********************]  1 of 1 completed\n",
      "[*********************100%***********************]  1 of 1 completed\n",
      "[*********************100%***********************]  1 of 1 completed\n",
      "[*********************100%***********************]  1 of 1 completed\n",
      "[*********************100%***********************]  1 of 1 completed\n",
      "[*********************100%***********************]  1 of 1 completed\n",
      "{'Stock': 'ADANIPORTS.NS', 'P035': 7571.307213809842, 'P05': 7521.038461810556, 'P1': 5977.447505744423, 'P2': 1888.3149766204003, 'P35': 218.0337266473983, 'R05': 978.9615381894445, 'R1': 2522.552494255578, 'R03': 922.0316584056799, 'R0': 13.859463522333069}\n",
      "ATGL.NS\n"
     ]
    },
    {
     "name": "stderr",
     "output_type": "stream",
     "text": [
      "C:\\Users\\naman\\AppData\\Local\\Temp\\ipykernel_6796\\1180599731.py:4: FutureWarning: The frame.append method is deprecated and will be removed from pandas in a future version. Use pandas.concat instead.\n",
      "  symb= symb.append(df2, ignore_index = True)\n"
     ]
    },
    {
     "name": "stdout",
     "output_type": "stream",
     "text": [
      "[*********************100%***********************]  1 of 1 completed\n",
      "[*********************100%***********************]  1 of 1 completed\n",
      "[*********************100%***********************]  1 of 1 completed\n",
      "[*********************100%***********************]  1 of 1 completed\n",
      "[*********************100%***********************]  1 of 1 completed\n",
      "[*********************100%***********************]  1 of 1 completed\n",
      "[*********************100%***********************]  1 of 1 completed\n",
      "[*********************100%***********************]  1 of 1 completed\n",
      "{'Stock': 'ATGL.NS', 'P035': 8434.06241980739, 'P05': 8416.719373271482, 'P1': 7428.5146747389745, 'P2': 5627.249122968761, 'P35': 1650.8583734762751, 'R05': 83.28062672851689, 'R1': 1071.4853252610264, 'R03': 47.05259239987833, 'R0': 18.419740385870817}\n",
      "ADANITRANS.NS\n"
     ]
    },
    {
     "name": "stderr",
     "output_type": "stream",
     "text": [
      "C:\\Users\\naman\\AppData\\Local\\Temp\\ipykernel_6796\\1180599731.py:4: FutureWarning: The frame.append method is deprecated and will be removed from pandas in a future version. Use pandas.concat instead.\n",
      "  symb= symb.append(df2, ignore_index = True)\n"
     ]
    },
    {
     "name": "stdout",
     "output_type": "stream",
     "text": [
      "[*********************100%***********************]  1 of 1 completed\n",
      "[*********************100%***********************]  1 of 1 completed\n",
      "[*********************100%***********************]  1 of 1 completed\n",
      "[*********************100%***********************]  1 of 1 completed\n",
      "[*********************100%***********************]  1 of 1 completed\n",
      "[*********************100%***********************]  1 of 1 completed\n",
      "[*********************100%***********************]  1 of 1 completed\n",
      "[*********************100%***********************]  1 of 1 completed\n",
      "{'Stock': 'ADANITRANS.NS', 'P035': 7925.692809612342, 'P05': 7558.40020908627, 'P1': 7198.089117196893, 'P2': 5429.677467562699, 'P35': 1732.0360304580845, 'R05': 941.5997909137319, 'R1': 1301.9108828031058, 'R03': 502.35768646589327, 'R0': 388.2543240207038}\n",
      "ABCAPITAL.NS\n"
     ]
    },
    {
     "name": "stderr",
     "output_type": "stream",
     "text": [
      "C:\\Users\\naman\\AppData\\Local\\Temp\\ipykernel_6796\\1180599731.py:4: FutureWarning: The frame.append method is deprecated and will be removed from pandas in a future version. Use pandas.concat instead.\n",
      "  symb= symb.append(df2, ignore_index = True)\n"
     ]
    },
    {
     "name": "stdout",
     "output_type": "stream",
     "text": [
      "[*********************100%***********************]  1 of 1 completed\n",
      "[*********************100%***********************]  1 of 1 completed\n",
      "[*********************100%***********************]  1 of 1 completed\n",
      "[*********************100%***********************]  1 of 1 completed\n",
      "[*********************100%***********************]  1 of 1 completed\n",
      "[*********************100%***********************]  1 of 1 completed\n",
      "[*********************100%***********************]  1 of 1 completed\n",
      "[*********************100%***********************]  1 of 1 completed\n",
      "{'Stock': 'ABCAPITAL.NS', 'P035': 6902.38653958479, 'P05': 6572.781154075561, 'P1': 6018.9674680394555, 'P2': 3836.2989539580717, 'P35': 1260.459760481926, 'R05': 1927.2188459244387, 'R1': 2481.032531960545, 'R03': 1570.726682454406, 'R0': 23.761011792347784}\n",
      "ABFRL.NS\n"
     ]
    },
    {
     "name": "stderr",
     "output_type": "stream",
     "text": [
      "C:\\Users\\naman\\AppData\\Local\\Temp\\ipykernel_6796\\1180599731.py:4: FutureWarning: The frame.append method is deprecated and will be removed from pandas in a future version. Use pandas.concat instead.\n",
      "  symb= symb.append(df2, ignore_index = True)\n"
     ]
    },
    {
     "name": "stdout",
     "output_type": "stream",
     "text": [
      "[*********************100%***********************]  1 of 1 completed\n",
      "[*********************100%***********************]  1 of 1 completed\n",
      "[*********************100%***********************]  1 of 1 completed\n",
      "[*********************100%***********************]  1 of 1 completed\n",
      "[*********************100%***********************]  1 of 1 completed\n",
      "[*********************100%***********************]  1 of 1 completed\n",
      "[*********************100%***********************]  1 of 1 completed\n",
      "[*********************100%***********************]  1 of 1 completed\n",
      "{'Stock': 'ABFRL.NS', 'P035': 6832.990393098945, 'P05': 6512.080146062907, 'P1': 5194.405566344392, 'P2': 4137.609110802268, 'P35': 2494.4927018378207, 'R05': 1987.9198539370936, 'R1': 3305.594433655607, 'R03': 1657.8019478158417, 'R0': 43.851868502219205}\n",
      "APLLTD.NS\n"
     ]
    },
    {
     "name": "stderr",
     "output_type": "stream",
     "text": [
      "C:\\Users\\naman\\AppData\\Local\\Temp\\ipykernel_6796\\1180599731.py:4: FutureWarning: The frame.append method is deprecated and will be removed from pandas in a future version. Use pandas.concat instead.\n",
      "  symb= symb.append(df2, ignore_index = True)\n"
     ]
    },
    {
     "name": "stdout",
     "output_type": "stream",
     "text": [
      "[*********************100%***********************]  1 of 1 completed\n",
      "[*********************100%***********************]  1 of 1 completed\n",
      "[*********************100%***********************]  1 of 1 completed\n",
      "[*********************100%***********************]  1 of 1 completed\n",
      "[*********************100%***********************]  1 of 1 completed\n",
      "[*********************100%***********************]  1 of 1 completed\n",
      "[*********************100%***********************]  1 of 1 completed\n",
      "[*********************100%***********************]  1 of 1 completed\n",
      "{'Stock': 'APLLTD.NS', 'P035': 7391.365631841057, 'P05': 6130.57735398267, 'P1': 5621.0086417799785, 'P2': 2345.63812156327, 'P35': 19.830781064067665, 'R05': 2369.3555769361774, 'R1': 2878.991358220022, 'R03': 1007.385693137948, 'R0': 133.55762191684227}\n",
      "ALKEM.NS\n"
     ]
    },
    {
     "name": "stderr",
     "output_type": "stream",
     "text": [
      "C:\\Users\\naman\\AppData\\Local\\Temp\\ipykernel_6796\\1180599731.py:4: FutureWarning: The frame.append method is deprecated and will be removed from pandas in a future version. Use pandas.concat instead.\n",
      "  symb= symb.append(df2, ignore_index = True)\n"
     ]
    },
    {
     "name": "stdout",
     "output_type": "stream",
     "text": [
      "[*********************100%***********************]  1 of 1 completed\n",
      "[*********************100%***********************]  1 of 1 completed\n",
      "[*********************100%***********************]  1 of 1 completed\n",
      "[*********************100%***********************]  1 of 1 completed\n",
      "[*********************100%***********************]  1 of 1 completed\n",
      "[*********************100%***********************]  1 of 1 completed\n",
      "[*********************100%***********************]  1 of 1 completed\n",
      "[*********************100%***********************]  1 of 1 completed\n",
      "{'Stock': 'ALKEM.NS', 'P035': 7212.103247268352, 'P05': 7127.150422456461, 'P1': 4255.665860825386, 'P2': 2148.5601380741305, 'P35': 309.3797353328999, 'R05': 1372.84957754354, 'R1': 4243.640790869501, 'R03': 1245.5007418097916, 'R0': 55.12009824611424}\n",
      "AMBUJACEM.NS\n"
     ]
    },
    {
     "name": "stderr",
     "output_type": "stream",
     "text": [
      "C:\\Users\\naman\\AppData\\Local\\Temp\\ipykernel_6796\\1180599731.py:4: FutureWarning: The frame.append method is deprecated and will be removed from pandas in a future version. Use pandas.concat instead.\n",
      "  symb= symb.append(df2, ignore_index = True)\n"
     ]
    },
    {
     "name": "stdout",
     "output_type": "stream",
     "text": [
      "[*********************100%***********************]  1 of 1 completed\n",
      "[*********************100%***********************]  1 of 1 completed\n",
      "[*********************100%***********************]  1 of 1 completed\n",
      "[*********************100%***********************]  1 of 1 completed\n",
      "[*********************100%***********************]  1 of 1 completed\n",
      "[*********************100%***********************]  1 of 1 completed\n",
      "[*********************100%***********************]  1 of 1 completed\n",
      "[*********************100%***********************]  1 of 1 completed\n",
      "{'Stock': 'AMBUJACEM.NS', 'P035': 8399.621278710392, 'P05': 8349.886623057337, 'P1': 5608.971582470304, 'P2': 3871.218001597073, 'P35': 2221.6309800747667, 'R05': 150.11337694266334, 'R1': 2891.028417529696, 'R03': 95.70599642242968, 'R0': 48.16413416705067}\n",
      "APOLLOHOSP.NS\n"
     ]
    },
    {
     "name": "stderr",
     "output_type": "stream",
     "text": [
      "C:\\Users\\naman\\AppData\\Local\\Temp\\ipykernel_6796\\1180599731.py:4: FutureWarning: The frame.append method is deprecated and will be removed from pandas in a future version. Use pandas.concat instead.\n",
      "  symb= symb.append(df2, ignore_index = True)\n"
     ]
    },
    {
     "name": "stdout",
     "output_type": "stream",
     "text": [
      "[*********************100%***********************]  1 of 1 completed\n",
      "[*********************100%***********************]  1 of 1 completed\n",
      "[*********************100%***********************]  1 of 1 completed\n",
      "[*********************100%***********************]  1 of 1 completed\n",
      "[*********************100%***********************]  1 of 1 completed\n",
      "[*********************100%***********************]  1 of 1 completed\n",
      "[*********************100%***********************]  1 of 1 completed\n",
      "[*********************100%***********************]  1 of 1 completed\n",
      "{'Stock': 'APOLLOHOSP.NS', 'P035': 6848.844622404557, 'P05': 6427.291485596651, 'P1': 5956.533300161785, 'P2': 4247.140297254222, 'P35': 131.69629280842088, 'R05': 2072.708514403349, 'R1': 2543.4666998382154, 'R03': 509.3412826857372, 'R0': 103.91604105841327}\n",
      "APOLLOTYRE.NS\n"
     ]
    },
    {
     "name": "stderr",
     "output_type": "stream",
     "text": [
      "C:\\Users\\naman\\AppData\\Local\\Temp\\ipykernel_6796\\1180599731.py:4: FutureWarning: The frame.append method is deprecated and will be removed from pandas in a future version. Use pandas.concat instead.\n",
      "  symb= symb.append(df2, ignore_index = True)\n"
     ]
    },
    {
     "name": "stdout",
     "output_type": "stream",
     "text": [
      "[*********************100%***********************]  1 of 1 completed\n",
      "[*********************100%***********************]  1 of 1 completed\n",
      "[*********************100%***********************]  1 of 1 completed\n",
      "[*********************100%***********************]  1 of 1 completed\n",
      "[*********************100%***********************]  1 of 1 completed\n",
      "[*********************100%***********************]  1 of 1 completed\n",
      "[*********************100%***********************]  1 of 1 completed\n",
      "[*********************100%***********************]  1 of 1 completed\n",
      "{'Stock': 'APOLLOTYRE.NS', 'P035': 6634.755605931163, 'P05': 6480.729810536956, 'P1': 6240.371168836614, 'P2': 3081.104432465441, 'P35': 243.78039416391982, 'R05': 2019.270189463045, 'R1': 2259.628831163386, 'R03': 1557.4086202519713, 'R0': 26.601474093961667}\n",
      "ASHOKLEY.NS\n"
     ]
    },
    {
     "name": "stderr",
     "output_type": "stream",
     "text": [
      "C:\\Users\\naman\\AppData\\Local\\Temp\\ipykernel_6796\\1180599731.py:4: FutureWarning: The frame.append method is deprecated and will be removed from pandas in a future version. Use pandas.concat instead.\n",
      "  symb= symb.append(df2, ignore_index = True)\n"
     ]
    },
    {
     "name": "stdout",
     "output_type": "stream",
     "text": [
      "[*********************100%***********************]  1 of 1 completed\n",
      "[*********************100%***********************]  1 of 1 completed\n",
      "[*********************100%***********************]  1 of 1 completed\n",
      "[*********************100%***********************]  1 of 1 completed\n",
      "[*********************100%***********************]  1 of 1 completed\n",
      "[*********************100%***********************]  1 of 1 completed\n",
      "[*********************100%***********************]  1 of 1 completed\n",
      "[*********************100%***********************]  1 of 1 completed\n",
      "{'Stock': 'ASHOKLEY.NS', 'P035': 7460.420282607677, 'P05': 7283.667799083357, 'P1': 4717.925731169337, 'P2': 2860.1603301659106, 'P35': 67.25170374686832, 'R05': 1216.3322009166434, 'R1': 3782.074268830664, 'R03': 448.33940311255583, 'R0': 40.21203071244591}\n",
      "ASIANPAINT.NS\n"
     ]
    },
    {
     "name": "stderr",
     "output_type": "stream",
     "text": [
      "C:\\Users\\naman\\AppData\\Local\\Temp\\ipykernel_6796\\1180599731.py:4: FutureWarning: The frame.append method is deprecated and will be removed from pandas in a future version. Use pandas.concat instead.\n",
      "  symb= symb.append(df2, ignore_index = True)\n"
     ]
    },
    {
     "name": "stdout",
     "output_type": "stream",
     "text": [
      "[*********************100%***********************]  1 of 1 completed\n",
      "[*********************100%***********************]  1 of 1 completed\n",
      "[*********************100%***********************]  1 of 1 completed\n",
      "[*********************100%***********************]  1 of 1 completed\n",
      "[*********************100%***********************]  1 of 1 completed\n",
      "[*********************100%***********************]  1 of 1 completed\n",
      "[*********************100%***********************]  1 of 1 completed\n",
      "[*********************100%***********************]  1 of 1 completed\n",
      "{'Stock': 'ASIANPAINT.NS', 'P035': 4463.775789964181, 'P05': 4405.330955348787, 'P1': 3709.164640799327, 'P2': 1970.6693451043743, 'P35': 1162.732552511461, 'R05': 4094.669044651214, 'R1': 4790.41082809986, 'R03': 3956.920230024463, 'R0': 1239.445767994298}\n",
      "ASTRAL.NS\n"
     ]
    },
    {
     "name": "stderr",
     "output_type": "stream",
     "text": [
      "C:\\Users\\naman\\AppData\\Local\\Temp\\ipykernel_6796\\1180599731.py:4: FutureWarning: The frame.append method is deprecated and will be removed from pandas in a future version. Use pandas.concat instead.\n",
      "  symb= symb.append(df2, ignore_index = True)\n"
     ]
    },
    {
     "name": "stdout",
     "output_type": "stream",
     "text": [
      "[*********************100%***********************]  1 of 1 completed\n",
      "[*********************100%***********************]  1 of 1 completed\n",
      "[*********************100%***********************]  1 of 1 completed\n",
      "[*********************100%***********************]  1 of 1 completed\n",
      "[*********************100%***********************]  1 of 1 completed\n",
      "[*********************100%***********************]  1 of 1 completed\n",
      "[*********************100%***********************]  1 of 1 completed\n",
      "[*********************100%***********************]  1 of 1 completed\n",
      "{'Stock': 'ASTRAL.NS', 'P035': 7928.768222211113, 'P05': 6771.149412330185, 'P1': 6057.5455178768825, 'P2': 4340.376437637665, 'P35': 2883.5200485715777, 'R05': 1728.850587669814, 'R1': 2442.4544821231175, 'R03': 569.488160038683, 'R0': 98.41983703610379}\n",
      "AUROPHARMA.NS\n"
     ]
    },
    {
     "name": "stderr",
     "output_type": "stream",
     "text": [
      "C:\\Users\\naman\\AppData\\Local\\Temp\\ipykernel_6796\\1180599731.py:4: FutureWarning: The frame.append method is deprecated and will be removed from pandas in a future version. Use pandas.concat instead.\n",
      "  symb= symb.append(df2, ignore_index = True)\n"
     ]
    },
    {
     "name": "stdout",
     "output_type": "stream",
     "text": [
      "[*********************100%***********************]  1 of 1 completed\n",
      "[*********************100%***********************]  1 of 1 completed\n",
      "[*********************100%***********************]  1 of 1 completed\n",
      "[*********************100%***********************]  1 of 1 completed\n",
      "[*********************100%***********************]  1 of 1 completed\n",
      "[*********************100%***********************]  1 of 1 completed\n",
      "[*********************100%***********************]  1 of 1 completed\n",
      "[*********************100%***********************]  1 of 1 completed\n",
      "{'Stock': 'AUROPHARMA.NS', 'P035': 7661.282285613738, 'P05': 7106.3288901421065, 'P1': 6649.6868875614, 'P2': 1476.3526060050663, 'P35': 1258.711771005412, 'R05': 1393.6711098578944, 'R1': 1850.3131124385995, 'R03': 468.0750137047716, 'R0': 29.415926893855364}\n",
      "DMART.NS\n"
     ]
    },
    {
     "name": "stderr",
     "output_type": "stream",
     "text": [
      "C:\\Users\\naman\\AppData\\Local\\Temp\\ipykernel_6796\\1180599731.py:4: FutureWarning: The frame.append method is deprecated and will be removed from pandas in a future version. Use pandas.concat instead.\n",
      "  symb= symb.append(df2, ignore_index = True)\n"
     ]
    },
    {
     "name": "stdout",
     "output_type": "stream",
     "text": [
      "[*********************100%***********************]  1 of 1 completed\n",
      "[*********************100%***********************]  1 of 1 completed\n",
      "[*********************100%***********************]  1 of 1 completed\n",
      "[*********************100%***********************]  1 of 1 completed\n",
      "[*********************100%***********************]  1 of 1 completed\n",
      "[*********************100%***********************]  1 of 1 completed\n",
      "[*********************100%***********************]  1 of 1 completed\n",
      "[*********************100%***********************]  1 of 1 completed\n",
      "{'Stock': 'DMART.NS', 'P035': 7026.511233029604, 'P05': 6517.249954350037, 'P1': 5878.126403631772, 'P2': 3012.4792756755155, 'P35': 331.75430050457584, 'R05': 1982.7500456499624, 'R1': 2621.873596368229, 'R03': 1468.8615354501678, 'R0': 1339.133630422698}\n",
      "AXISBANK.NS\n"
     ]
    },
    {
     "name": "stderr",
     "output_type": "stream",
     "text": [
      "C:\\Users\\naman\\AppData\\Local\\Temp\\ipykernel_6796\\1180599731.py:4: FutureWarning: The frame.append method is deprecated and will be removed from pandas in a future version. Use pandas.concat instead.\n",
      "  symb= symb.append(df2, ignore_index = True)\n"
     ]
    },
    {
     "name": "stdout",
     "output_type": "stream",
     "text": [
      "[*********************100%***********************]  1 of 1 completed\n",
      "[*********************100%***********************]  1 of 1 completed\n",
      "[*********************100%***********************]  1 of 1 completed\n",
      "[*********************100%***********************]  1 of 1 completed\n",
      "[*********************100%***********************]  1 of 1 completed\n",
      "[*********************100%***********************]  1 of 1 completed\n",
      "[*********************100%***********************]  1 of 1 completed\n",
      "[*********************100%***********************]  1 of 1 completed\n",
      "{'Stock': 'AXISBANK.NS', 'P035': 6804.329253640009, 'P05': 6374.325265441017, 'P1': 5534.612197265728, 'P2': 1484.7039502982411, 'P35': 10.617846852960554, 'R05': 2125.674734558984, 'R1': 2965.387802734271, 'R03': 1675.7354891221705, 'R0': 1506.0464473391844}\n",
      "BAJAJ-AUTO.NS\n"
     ]
    },
    {
     "name": "stderr",
     "output_type": "stream",
     "text": [
      "C:\\Users\\naman\\AppData\\Local\\Temp\\ipykernel_6796\\1180599731.py:4: FutureWarning: The frame.append method is deprecated and will be removed from pandas in a future version. Use pandas.concat instead.\n",
      "  symb= symb.append(df2, ignore_index = True)\n"
     ]
    },
    {
     "name": "stdout",
     "output_type": "stream",
     "text": [
      "[*********************100%***********************]  1 of 1 completed\n",
      "[*********************100%***********************]  1 of 1 completed\n",
      "[*********************100%***********************]  1 of 1 completed\n",
      "[*********************100%***********************]  1 of 1 completed\n",
      "[*********************100%***********************]  1 of 1 completed\n",
      "[*********************100%***********************]  1 of 1 completed\n",
      "[*********************100%***********************]  1 of 1 completed\n",
      "[*********************100%***********************]  1 of 1 completed\n",
      "{'Stock': 'BAJAJ-AUTO.NS', 'P035': 6882.002063904802, 'P05': 6429.908269215456, 'P1': 4485.5040125635205, 'P2': 212.83996633554065, 'P35': 5.008611152631723, 'R05': 2070.091730784545, 'R1': 4014.4959874364795, 'R03': 1611.1356010672605, 'R0': 114.4392487306441}\n",
      "BAJFINANCE.NS\n"
     ]
    },
    {
     "name": "stderr",
     "output_type": "stream",
     "text": [
      "C:\\Users\\naman\\AppData\\Local\\Temp\\ipykernel_6796\\1180599731.py:4: FutureWarning: The frame.append method is deprecated and will be removed from pandas in a future version. Use pandas.concat instead.\n",
      "  symb= symb.append(df2, ignore_index = True)\n"
     ]
    },
    {
     "name": "stdout",
     "output_type": "stream",
     "text": [
      "[*********************100%***********************]  1 of 1 completed\n",
      "[*********************100%***********************]  1 of 1 completed\n",
      "[*********************100%***********************]  1 of 1 completed\n",
      "[*********************100%***********************]  1 of 1 completed\n",
      "[*********************100%***********************]  1 of 1 completed\n",
      "[*********************100%***********************]  1 of 1 completed\n",
      "[*********************100%***********************]  1 of 1 completed\n",
      "[*********************100%***********************]  1 of 1 completed\n",
      "{'Stock': 'BAJFINANCE.NS', 'P035': 6609.4793893176275, 'P05': 6529.244127415714, 'P1': 4800.230220616271, 'P2': 2545.559861990356, 'P35': 1272.851918572843, 'R05': 1970.331341483473, 'R1': 3699.7697793837283, 'R03': 1511.2729673523447, 'R0': 37.86316859279962}\n",
      "BAJAJFINSV.NS\n"
     ]
    },
    {
     "name": "stderr",
     "output_type": "stream",
     "text": [
      "C:\\Users\\naman\\AppData\\Local\\Temp\\ipykernel_6796\\1180599731.py:4: FutureWarning: The frame.append method is deprecated and will be removed from pandas in a future version. Use pandas.concat instead.\n",
      "  symb= symb.append(df2, ignore_index = True)\n"
     ]
    },
    {
     "name": "stdout",
     "output_type": "stream",
     "text": [
      "[*********************100%***********************]  1 of 1 completed\n",
      "[*********************100%***********************]  1 of 1 completed\n",
      "[*********************100%***********************]  1 of 1 completed\n",
      "[*********************100%***********************]  1 of 1 completed\n",
      "[*********************100%***********************]  1 of 1 completed\n",
      "[*********************100%***********************]  1 of 1 completed\n",
      "[*********************100%***********************]  1 of 1 completed\n",
      "[*********************100%***********************]  1 of 1 completed\n",
      "{'Stock': 'BAJAJFINSV.NS', 'P035': 6542.449070452456, 'P05': 6397.729906561643, 'P1': 3830.695421109935, 'P2': 1810.6350378476063, 'P35': 1321.9982429742242, 'R05': 2102.270093438358, 'R1': 4669.304578890065, 'R03': 1660.5774329252802, 'R0': 1186.2035978205265}\n",
      "BAJAJHLDNG.NS\n"
     ]
    },
    {
     "name": "stderr",
     "output_type": "stream",
     "text": [
      "C:\\Users\\naman\\AppData\\Local\\Temp\\ipykernel_6796\\1180599731.py:4: FutureWarning: The frame.append method is deprecated and will be removed from pandas in a future version. Use pandas.concat instead.\n",
      "  symb= symb.append(df2, ignore_index = True)\n"
     ]
    },
    {
     "name": "stdout",
     "output_type": "stream",
     "text": [
      "[*********************100%***********************]  1 of 1 completed\n",
      "[*********************100%***********************]  1 of 1 completed\n",
      "[*********************100%***********************]  1 of 1 completed\n",
      "[*********************100%***********************]  1 of 1 completed\n",
      "[*********************100%***********************]  1 of 1 completed\n",
      "[*********************100%***********************]  1 of 1 completed\n",
      "[*********************100%***********************]  1 of 1 completed\n",
      "[*********************100%***********************]  1 of 1 completed\n",
      "{'Stock': 'BAJAJHLDNG.NS', 'P035': 7997.420616621648, 'P05': 6535.099885346662, 'P1': 4715.547024395513, 'P2': 2969.552981282777, 'P35': 1424.2866566542793, 'R05': 1964.9001146533392, 'R1': 3784.4529756044885, 'R03': 479.6263742081987, 'R0': 409.33072297304676}\n",
      "BALKRISIND.NS\n"
     ]
    },
    {
     "name": "stderr",
     "output_type": "stream",
     "text": [
      "C:\\Users\\naman\\AppData\\Local\\Temp\\ipykernel_6796\\1180599731.py:4: FutureWarning: The frame.append method is deprecated and will be removed from pandas in a future version. Use pandas.concat instead.\n",
      "  symb= symb.append(df2, ignore_index = True)\n"
     ]
    },
    {
     "name": "stdout",
     "output_type": "stream",
     "text": [
      "[*********************100%***********************]  1 of 1 completed\n",
      "[*********************100%***********************]  1 of 1 completed\n",
      "[*********************100%***********************]  1 of 1 completed\n",
      "[*********************100%***********************]  1 of 1 completed\n",
      "[*********************100%***********************]  1 of 1 completed\n",
      "[*********************100%***********************]  1 of 1 completed\n",
      "[*********************100%***********************]  1 of 1 completed\n",
      "[*********************100%***********************]  1 of 1 completed\n",
      "{'Stock': 'BALKRISIND.NS', 'P035': 7144.464339271831, 'P05': 5791.880840774364, 'P1': 4602.890406082972, 'P2': 3600.0577564646633, 'P35': 94.5280235300277, 'R05': 2708.1191592256373, 'R1': 3897.1095939170286, 'R03': 1348.2272188652114, 'R0': 83.5726677525523}\n",
      "BANDHANBNK.NS\n"
     ]
    },
    {
     "name": "stderr",
     "output_type": "stream",
     "text": [
      "C:\\Users\\naman\\AppData\\Local\\Temp\\ipykernel_6796\\1180599731.py:4: FutureWarning: The frame.append method is deprecated and will be removed from pandas in a future version. Use pandas.concat instead.\n",
      "  symb= symb.append(df2, ignore_index = True)\n"
     ]
    },
    {
     "name": "stdout",
     "output_type": "stream",
     "text": [
      "[*********************100%***********************]  1 of 1 completed\n",
      "[*********************100%***********************]  1 of 1 completed\n",
      "[*********************100%***********************]  1 of 1 completed\n",
      "[*********************100%***********************]  1 of 1 completed\n",
      "[*********************100%***********************]  1 of 1 completed\n",
      "[*********************100%***********************]  1 of 1 completed\n",
      "[*********************100%***********************]  1 of 1 completed\n",
      "[*********************100%***********************]  1 of 1 completed\n",
      "{'Stock': 'BANDHANBNK.NS', 'P035': 6776.581901462234, 'P05': 6453.0364783101, 'P1': 5739.952824126399, 'P2': 2667.2723301507394, 'P35': 192.3193750287298, 'R05': 2046.9635216898996, 'R1': 2760.047175873601, 'R03': 1432.3021608452996, 'R0': 1229.2424890533498}\n",
      "BANKBARODA.NS\n"
     ]
    },
    {
     "name": "stderr",
     "output_type": "stream",
     "text": [
      "C:\\Users\\naman\\AppData\\Local\\Temp\\ipykernel_6796\\1180599731.py:4: FutureWarning: The frame.append method is deprecated and will be removed from pandas in a future version. Use pandas.concat instead.\n",
      "  symb= symb.append(df2, ignore_index = True)\n"
     ]
    },
    {
     "name": "stdout",
     "output_type": "stream",
     "text": [
      "[*********************100%***********************]  1 of 1 completed\n",
      "[*********************100%***********************]  1 of 1 completed\n",
      "[*********************100%***********************]  1 of 1 completed\n",
      "[*********************100%***********************]  1 of 1 completed\n",
      "[*********************100%***********************]  1 of 1 completed\n",
      "[*********************100%***********************]  1 of 1 completed\n",
      "[*********************100%***********************]  1 of 1 completed\n",
      "[*********************100%***********************]  1 of 1 completed\n",
      "{'Stock': 'BANKBARODA.NS', 'P035': 7916.864657530914, 'P05': 7608.557308256996, 'P1': 7070.235003564339, 'P2': 2772.2440823686093, 'P35': 1382.5363328660078, 'R05': 891.4426917430047, 'R1': 1429.7649964356615, 'R03': 294.36472883389433, 'R0': 97.02505417152516}\n",
      "BANKINDIA.NS\n"
     ]
    },
    {
     "name": "stderr",
     "output_type": "stream",
     "text": [
      "C:\\Users\\naman\\AppData\\Local\\Temp\\ipykernel_6796\\1180599731.py:4: FutureWarning: The frame.append method is deprecated and will be removed from pandas in a future version. Use pandas.concat instead.\n",
      "  symb= symb.append(df2, ignore_index = True)\n"
     ]
    },
    {
     "name": "stdout",
     "output_type": "stream",
     "text": [
      "[*********************100%***********************]  1 of 1 completed\n",
      "[*********************100%***********************]  1 of 1 completed\n",
      "[*********************100%***********************]  1 of 1 completed\n",
      "[*********************100%***********************]  1 of 1 completed\n",
      "[*********************100%***********************]  1 of 1 completed\n",
      "[*********************100%***********************]  1 of 1 completed\n",
      "[*********************100%***********************]  1 of 1 completed\n",
      "[*********************100%***********************]  1 of 1 completed\n",
      "{'Stock': 'BANKINDIA.NS', 'P035': 8324.385560477453, 'P05': 7710.057203160084, 'P1': 4478.031073721934, 'P2': 3821.8368788349603, 'P35': 2496.3177738541785, 'R05': 789.9427968399168, 'R1': 4021.275577972952, 'R03': 159.54390452971057, 'R0': 27.224329680013366}\n",
      "BATAINDIA.NS\n"
     ]
    },
    {
     "name": "stderr",
     "output_type": "stream",
     "text": [
      "C:\\Users\\naman\\AppData\\Local\\Temp\\ipykernel_6796\\1180599731.py:4: FutureWarning: The frame.append method is deprecated and will be removed from pandas in a future version. Use pandas.concat instead.\n",
      "  symb= symb.append(df2, ignore_index = True)\n"
     ]
    },
    {
     "name": "stdout",
     "output_type": "stream",
     "text": [
      "[*********************100%***********************]  1 of 1 completed\n",
      "[*********************100%***********************]  1 of 1 completed\n",
      "[*********************100%***********************]  1 of 1 completed\n",
      "[*********************100%***********************]  1 of 1 completed\n",
      "[*********************100%***********************]  1 of 1 completed\n",
      "[*********************100%***********************]  1 of 1 completed\n",
      "[*********************100%***********************]  1 of 1 completed\n",
      "[*********************100%***********************]  1 of 1 completed\n",
      "{'Stock': 'BATAINDIA.NS', 'P035': 5857.465338148817, 'P05': 4260.696606697783, 'P1': 2346.3288117878533, 'P2': 2094.992404911892, 'P35': 42.132823668906305, 'R05': 4239.303393302218, 'R1': 6152.977839907032, 'R03': 2615.2233527895633, 'R0': 299.4536141459942}\n",
      "BERGEPAINT.NS\n"
     ]
    },
    {
     "name": "stderr",
     "output_type": "stream",
     "text": [
      "C:\\Users\\naman\\AppData\\Local\\Temp\\ipykernel_6796\\1180599731.py:4: FutureWarning: The frame.append method is deprecated and will be removed from pandas in a future version. Use pandas.concat instead.\n",
      "  symb= symb.append(df2, ignore_index = True)\n"
     ]
    },
    {
     "name": "stdout",
     "output_type": "stream",
     "text": [
      "[*********************100%***********************]  1 of 1 completed\n",
      "[*********************100%***********************]  1 of 1 completed\n",
      "[*********************100%***********************]  1 of 1 completed\n",
      "[*********************100%***********************]  1 of 1 completed\n",
      "[*********************100%***********************]  1 of 1 completed\n",
      "[*********************100%***********************]  1 of 1 completed\n",
      "[*********************100%***********************]  1 of 1 completed\n",
      "[*********************100%***********************]  1 of 1 completed\n",
      "{'Stock': 'BERGEPAINT.NS', 'P035': 6058.102704725723, 'P05': 5656.948428782801, 'P1': 2192.530060978994, 'P2': 399.0968125855503, 'P35': 30.264333791334522, 'R05': 2843.051571217198, 'R1': 6306.776590715892, 'R03': 1291.501820503322, 'R0': 1172.0309483010112}\n",
      "BEL.NS\n"
     ]
    },
    {
     "name": "stderr",
     "output_type": "stream",
     "text": [
      "C:\\Users\\naman\\AppData\\Local\\Temp\\ipykernel_6796\\1180599731.py:4: FutureWarning: The frame.append method is deprecated and will be removed from pandas in a future version. Use pandas.concat instead.\n",
      "  symb= symb.append(df2, ignore_index = True)\n"
     ]
    },
    {
     "name": "stdout",
     "output_type": "stream",
     "text": [
      "[*********************100%***********************]  1 of 1 completed\n",
      "[*********************100%***********************]  1 of 1 completed\n",
      "[*********************100%***********************]  1 of 1 completed\n",
      "[*********************100%***********************]  1 of 1 completed\n",
      "[*********************100%***********************]  1 of 1 completed\n",
      "[*********************100%***********************]  1 of 1 completed\n",
      "[*********************100%***********************]  1 of 1 completed\n",
      "[*********************100%***********************]  1 of 1 completed\n",
      "{'Stock': 'BEL.NS', 'P035': 7594.903829019025, 'P05': 7284.541434201877, 'P1': 5703.417586394633, 'P2': 2839.8671844532046, 'P35': 78.67528297325592, 'R05': 1215.4585657981245, 'R1': 2796.1578825045535, 'R03': 791.3548187474238, 'R0': 363.8293970628709}\n",
      "BHARATFORG.NS\n"
     ]
    },
    {
     "name": "stderr",
     "output_type": "stream",
     "text": [
      "C:\\Users\\naman\\AppData\\Local\\Temp\\ipykernel_6796\\1180599731.py:4: FutureWarning: The frame.append method is deprecated and will be removed from pandas in a future version. Use pandas.concat instead.\n",
      "  symb= symb.append(df2, ignore_index = True)\n"
     ]
    },
    {
     "name": "stdout",
     "output_type": "stream",
     "text": [
      "[*********************100%***********************]  1 of 1 completed\n",
      "[*********************100%***********************]  1 of 1 completed\n",
      "[*********************100%***********************]  1 of 1 completed\n",
      "[*********************100%***********************]  1 of 1 completed\n",
      "[*********************100%***********************]  1 of 1 completed\n",
      "[*********************100%***********************]  1 of 1 completed\n",
      "[*********************100%***********************]  1 of 1 completed\n",
      "[*********************100%***********************]  1 of 1 completed\n",
      "{'Stock': 'BHARATFORG.NS', 'P035': 7593.227706805199, 'P05': 7547.431909014457, 'P1': 5739.252353732486, 'P2': 1851.6128250075424, 'P35': 109.88165701902903, 'R05': 952.5680909855433, 'R1': 2760.747646267514, 'R03': 902.0779925934193, 'R0': 479.0885868862756}\n",
      "BHEL.NS\n"
     ]
    },
    {
     "name": "stderr",
     "output_type": "stream",
     "text": [
      "C:\\Users\\naman\\AppData\\Local\\Temp\\ipykernel_6796\\1180599731.py:4: FutureWarning: The frame.append method is deprecated and will be removed from pandas in a future version. Use pandas.concat instead.\n",
      "  symb= symb.append(df2, ignore_index = True)\n"
     ]
    },
    {
     "name": "stdout",
     "output_type": "stream",
     "text": [
      "[*********************100%***********************]  1 of 1 completed\n",
      "[*********************100%***********************]  1 of 1 completed\n",
      "[*********************100%***********************]  1 of 1 completed\n",
      "[*********************100%***********************]  1 of 1 completed\n",
      "[*********************100%***********************]  1 of 1 completed\n",
      "[*********************100%***********************]  1 of 1 completed\n",
      "[*********************100%***********************]  1 of 1 completed\n",
      "[*********************100%***********************]  1 of 1 completed\n",
      "{'Stock': 'BHEL.NS', 'P035': 7946.660531778178, 'P05': 7923.748582187457, 'P1': 7099.693971807977, 'P2': 4995.991033108293, 'P35': 182.3835195019471, 'R05': 576.251417812543, 'R1': 1400.306028192022, 'R03': 459.3992350637841, 'R0': 315.45852623107265}\n",
      "BPCL.NS\n"
     ]
    },
    {
     "name": "stderr",
     "output_type": "stream",
     "text": [
      "C:\\Users\\naman\\AppData\\Local\\Temp\\ipykernel_6796\\1180599731.py:4: FutureWarning: The frame.append method is deprecated and will be removed from pandas in a future version. Use pandas.concat instead.\n",
      "  symb= symb.append(df2, ignore_index = True)\n"
     ]
    },
    {
     "name": "stdout",
     "output_type": "stream",
     "text": [
      "[*********************100%***********************]  1 of 1 completed\n",
      "[*********************100%***********************]  1 of 1 completed\n",
      "[*********************100%***********************]  1 of 1 completed\n",
      "[*********************100%***********************]  1 of 1 completed\n",
      "[*********************100%***********************]  1 of 1 completed\n",
      "[*********************100%***********************]  1 of 1 completed\n",
      "[*********************100%***********************]  1 of 1 completed\n",
      "[*********************100%***********************]  1 of 1 completed\n",
      "{'Stock': 'BPCL.NS', 'P035': 6476.242715850239, 'P05': 4994.877630399173, 'P1': 4611.781802598888, 'P2': 167.59024185045436, 'P35': 22.90931682205496, 'R05': 3505.1223696008283, 'R1': 3888.2181974011123, 'R03': 2017.8320008346623, 'R0': 1193.2416714698923}\n",
      "BHARTIARTL.NS\n"
     ]
    },
    {
     "name": "stderr",
     "output_type": "stream",
     "text": [
      "C:\\Users\\naman\\AppData\\Local\\Temp\\ipykernel_6796\\1180599731.py:4: FutureWarning: The frame.append method is deprecated and will be removed from pandas in a future version. Use pandas.concat instead.\n",
      "  symb= symb.append(df2, ignore_index = True)\n"
     ]
    },
    {
     "name": "stdout",
     "output_type": "stream",
     "text": [
      "[*********************100%***********************]  1 of 1 completed\n",
      "[*********************100%***********************]  1 of 1 completed\n",
      "[*********************100%***********************]  1 of 1 completed\n",
      "[*********************100%***********************]  1 of 1 completed\n",
      "[*********************100%***********************]  1 of 1 completed\n",
      "[*********************100%***********************]  1 of 1 completed\n",
      "[*********************100%***********************]  1 of 1 completed\n",
      "[*********************100%***********************]  1 of 1 completed\n",
      "{'Stock': 'BHARTIARTL.NS', 'P035': 7542.229176331673, 'P05': 6072.105405829076, 'P1': 4119.086298892419, 'P2': 2514.284939483906, 'P35': 1163.8498910377034, 'R05': 2427.8945941709253, 'R1': 4380.913701107582, 'R03': 853.8834344688637, 'R0': 400.9956792881835}\n",
      "BIOCON.NS\n"
     ]
    },
    {
     "name": "stderr",
     "output_type": "stream",
     "text": [
      "C:\\Users\\naman\\AppData\\Local\\Temp\\ipykernel_6796\\1180599731.py:4: FutureWarning: The frame.append method is deprecated and will be removed from pandas in a future version. Use pandas.concat instead.\n",
      "  symb= symb.append(df2, ignore_index = True)\n"
     ]
    },
    {
     "name": "stdout",
     "output_type": "stream",
     "text": [
      "[*********************100%***********************]  1 of 1 completed\n",
      "[*********************100%***********************]  1 of 1 completed\n",
      "[*********************100%***********************]  1 of 1 completed\n",
      "[*********************100%***********************]  1 of 1 completed\n",
      "[*********************100%***********************]  1 of 1 completed\n",
      "[*********************100%***********************]  1 of 1 completed\n",
      "[*********************100%***********************]  1 of 1 completed\n",
      "[*********************100%***********************]  1 of 1 completed\n",
      "{'Stock': 'BIOCON.NS', 'P035': 7139.589171501889, 'P05': 7102.195558106933, 'P1': 6789.43123234238, 'P2': 2555.294510273678, 'P35': 92.83098088614514, 'R05': 1397.8044418930667, 'R1': 1710.5687676576213, 'R03': 1056.735144511936, 'R0': 324.0155620243574}\n",
      "BOSCHLTD.NS\n"
     ]
    },
    {
     "name": "stderr",
     "output_type": "stream",
     "text": [
      "C:\\Users\\naman\\AppData\\Local\\Temp\\ipykernel_6796\\1180599731.py:4: FutureWarning: The frame.append method is deprecated and will be removed from pandas in a future version. Use pandas.concat instead.\n",
      "  symb= symb.append(df2, ignore_index = True)\n"
     ]
    },
    {
     "name": "stdout",
     "output_type": "stream",
     "text": [
      "[*********************100%***********************]  1 of 1 completed\n",
      "[*********************100%***********************]  1 of 1 completed\n",
      "[*********************100%***********************]  1 of 1 completed\n",
      "[*********************100%***********************]  1 of 1 completed\n",
      "[*********************100%***********************]  1 of 1 completed\n",
      "[*********************100%***********************]  1 of 1 completed\n",
      "[*********************100%***********************]  1 of 1 completed\n",
      "[*********************100%***********************]  1 of 1 completed\n",
      "{'Stock': 'BOSCHLTD.NS', 'P035': 4580.867356777611, 'P05': 3314.9366844297415, 'P1': 2034.1745918865547, 'P2': 239.35775849002817, 'P35': 36.92437981643884, 'R05': 5185.063315570258, 'R1': 6465.825408113445, 'R03': 3913.9467424390396, 'R0': 1443.5693407648753}\n",
      "BRITANNIA.NS\n"
     ]
    },
    {
     "name": "stderr",
     "output_type": "stream",
     "text": [
      "C:\\Users\\naman\\AppData\\Local\\Temp\\ipykernel_6796\\1180599731.py:4: FutureWarning: The frame.append method is deprecated and will be removed from pandas in a future version. Use pandas.concat instead.\n",
      "  symb= symb.append(df2, ignore_index = True)\n"
     ]
    },
    {
     "name": "stdout",
     "output_type": "stream",
     "text": [
      "[*********************100%***********************]  1 of 1 completed\n",
      "[*********************100%***********************]  1 of 1 completed\n",
      "[*********************100%***********************]  1 of 1 completed\n",
      "[*********************100%***********************]  1 of 1 completed\n",
      "[*********************100%***********************]  1 of 1 completed\n",
      "[*********************100%***********************]  1 of 1 completed\n",
      "[*********************100%***********************]  1 of 1 completed\n",
      "[*********************100%***********************]  1 of 1 completed\n",
      "{'Stock': 'BRITANNIA.NS', 'P035': 7096.674144198419, 'P05': 4329.340754465455, 'P1': 2652.7857122168884, 'P2': 792.3394556961882, 'P35': 300.59295486166695, 'R05': 4170.659245534547, 'R1': 5847.214287783113, 'R03': 1399.5482273626671, 'R0': 18.440546391465602}\n",
      "CANBK.NS\n"
     ]
    },
    {
     "name": "stderr",
     "output_type": "stream",
     "text": [
      "C:\\Users\\naman\\AppData\\Local\\Temp\\ipykernel_6796\\1180599731.py:4: FutureWarning: The frame.append method is deprecated and will be removed from pandas in a future version. Use pandas.concat instead.\n",
      "  symb= symb.append(df2, ignore_index = True)\n"
     ]
    },
    {
     "name": "stdout",
     "output_type": "stream",
     "text": [
      "[*********************100%***********************]  1 of 1 completed\n",
      "[*********************100%***********************]  1 of 1 completed\n",
      "[*********************100%***********************]  1 of 1 completed\n",
      "[*********************100%***********************]  1 of 1 completed\n",
      "[*********************100%***********************]  1 of 1 completed\n",
      "[*********************100%***********************]  1 of 1 completed\n",
      "[*********************100%***********************]  1 of 1 completed\n",
      "[*********************100%***********************]  1 of 1 completed\n",
      "{'Stock': 'CANBK.NS', 'P035': 8097.849829388367, 'P05': 7938.456879062494, 'P1': 7425.791336951837, 'P2': 2653.42571815234, 'P35': 1388.927561686811, 'R05': 561.543120937506, 'R1': 1074.2086630481635, 'R03': 377.9907516446532, 'R0': 289.55260675566626}\n",
      "CHOLAFIN.NS\n"
     ]
    },
    {
     "name": "stderr",
     "output_type": "stream",
     "text": [
      "C:\\Users\\naman\\AppData\\Local\\Temp\\ipykernel_6796\\1180599731.py:4: FutureWarning: The frame.append method is deprecated and will be removed from pandas in a future version. Use pandas.concat instead.\n",
      "  symb= symb.append(df2, ignore_index = True)\n"
     ]
    },
    {
     "name": "stdout",
     "output_type": "stream",
     "text": [
      "[*********************100%***********************]  1 of 1 completed\n",
      "[*********************100%***********************]  1 of 1 completed\n",
      "[*********************100%***********************]  1 of 1 completed\n",
      "[*********************100%***********************]  1 of 1 completed\n",
      "[*********************100%***********************]  1 of 1 completed\n",
      "[*********************100%***********************]  1 of 1 completed\n",
      "[*********************100%***********************]  1 of 1 completed\n",
      "[*********************100%***********************]  1 of 1 completed\n",
      "{'Stock': 'CHOLAFIN.NS', 'P035': 6504.385586015504, 'P05': 6310.558801529807, 'P1': 5912.5820958042605, 'P2': 1731.3016182677015, 'P35': 1208.1122602811924, 'R05': 2189.441198470194, 'R1': 2587.417904195741, 'R03': 1974.9858084415607, 'R0': 164.34899200681355}\n",
      "CIPLA.NS\n"
     ]
    },
    {
     "name": "stderr",
     "output_type": "stream",
     "text": [
      "C:\\Users\\naman\\AppData\\Local\\Temp\\ipykernel_6796\\1180599731.py:4: FutureWarning: The frame.append method is deprecated and will be removed from pandas in a future version. Use pandas.concat instead.\n",
      "  symb= symb.append(df2, ignore_index = True)\n"
     ]
    },
    {
     "name": "stdout",
     "output_type": "stream",
     "text": [
      "[*********************100%***********************]  1 of 1 completed\n",
      "[*********************100%***********************]  1 of 1 completed\n",
      "[*********************100%***********************]  1 of 1 completed\n",
      "[*********************100%***********************]  1 of 1 completed\n",
      "[*********************100%***********************]  1 of 1 completed\n",
      "[*********************100%***********************]  1 of 1 completed\n",
      "[*********************100%***********************]  1 of 1 completed\n",
      "[*********************100%***********************]  1 of 1 completed\n",
      "{'Stock': 'CIPLA.NS', 'P035': 7866.053837355511, 'P05': 7817.1495509280985, 'P1': 5179.2114549675725, 'P2': 2103.687142376324, 'P35': 103.8873891994637, 'R05': 682.8504490719008, 'R1': 3320.7885450324275, 'R03': 603.7064017700461, 'R0': 132.27396707828723}\n",
      "CLEAN.NS\n"
     ]
    },
    {
     "name": "stderr",
     "output_type": "stream",
     "text": [
      "C:\\Users\\naman\\AppData\\Local\\Temp\\ipykernel_6796\\1180599731.py:4: FutureWarning: The frame.append method is deprecated and will be removed from pandas in a future version. Use pandas.concat instead.\n",
      "  symb= symb.append(df2, ignore_index = True)\n"
     ]
    },
    {
     "name": "stdout",
     "output_type": "stream",
     "text": [
      "[*********************100%***********************]  1 of 1 completed\n",
      "[*********************100%***********************]  1 of 1 completed\n",
      "[*********************100%***********************]  1 of 1 completed\n",
      "[*********************100%***********************]  1 of 1 completed\n",
      "[*********************100%***********************]  1 of 1 completed\n",
      "[*********************100%***********************]  1 of 1 completed\n",
      "[*********************100%***********************]  1 of 1 completed\n",
      "[*********************100%***********************]  1 of 1 completed\n",
      "{'Stock': 'CLEAN.NS', 'P035': 8349.261582029883, 'P05': 8262.475921163728, 'P1': 6313.398113615398, 'P2': 3389.574609700145, 'P35': 541.5807602262926, 'R05': 237.52407883627035, 'R1': 2186.601886384603, 'R03': 147.455643634148, 'R0': 33.832519044012315}\n",
      "COALINDIA.NS\n"
     ]
    },
    {
     "name": "stderr",
     "output_type": "stream",
     "text": [
      "C:\\Users\\naman\\AppData\\Local\\Temp\\ipykernel_6796\\1180599731.py:4: FutureWarning: The frame.append method is deprecated and will be removed from pandas in a future version. Use pandas.concat instead.\n",
      "  symb= symb.append(df2, ignore_index = True)\n"
     ]
    },
    {
     "name": "stdout",
     "output_type": "stream",
     "text": [
      "[*********************100%***********************]  1 of 1 completed\n",
      "[*********************100%***********************]  1 of 1 completed\n",
      "[*********************100%***********************]  1 of 1 completed\n",
      "[*********************100%***********************]  1 of 1 completed\n",
      "[*********************100%***********************]  1 of 1 completed\n",
      "[*********************100%***********************]  1 of 1 completed\n",
      "[*********************100%***********************]  1 of 1 completed\n",
      "[*********************100%***********************]  1 of 1 completed\n",
      "{'Stock': 'COALINDIA.NS', 'P035': 8107.416463013672, 'P05': 7770.994776703141, 'P1': 5783.430178472269, 'P2': 2503.4947060176596, 'P35': 44.838721352988415, 'R05': 728.311874991743, 'R1': 2716.1452904269177, 'R03': 388.4024123011173, 'R0': 149.32561054608243}\n",
      "COFORGE.NS\n"
     ]
    },
    {
     "name": "stderr",
     "output_type": "stream",
     "text": [
      "C:\\Users\\naman\\AppData\\Local\\Temp\\ipykernel_6796\\1180599731.py:4: FutureWarning: The frame.append method is deprecated and will be removed from pandas in a future version. Use pandas.concat instead.\n",
      "  symb= symb.append(df2, ignore_index = True)\n"
     ]
    },
    {
     "name": "stdout",
     "output_type": "stream",
     "text": [
      "[*********************100%***********************]  1 of 1 completed\n",
      "[*********************100%***********************]  1 of 1 completed\n",
      "[*********************100%***********************]  1 of 1 completed\n",
      "[*********************100%***********************]  1 of 1 completed\n",
      "[*********************100%***********************]  1 of 1 completed\n",
      "[*********************100%***********************]  1 of 1 completed\n",
      "[*********************100%***********************]  1 of 1 completed\n",
      "[*********************100%***********************]  1 of 1 completed\n",
      "{'Stock': 'COFORGE.NS', 'P035': 8239.313135601575, 'P05': 5844.335066256983, 'P1': 4318.534886200835, 'P2': 2048.629392007547, 'P35': 1578.2342396718468, 'R05': 2655.6649337430176, 'R1': 4181.465113799164, 'R03': 256.8632017328769, 'R0': 93.55794392609502}\n",
      "COLPAL.NS\n"
     ]
    },
    {
     "name": "stderr",
     "output_type": "stream",
     "text": [
      "C:\\Users\\naman\\AppData\\Local\\Temp\\ipykernel_6796\\1180599731.py:4: FutureWarning: The frame.append method is deprecated and will be removed from pandas in a future version. Use pandas.concat instead.\n",
      "  symb= symb.append(df2, ignore_index = True)\n"
     ]
    },
    {
     "name": "stdout",
     "output_type": "stream",
     "text": [
      "[*********************100%***********************]  1 of 1 completed\n",
      "[*********************100%***********************]  1 of 1 completed\n",
      "[*********************100%***********************]  1 of 1 completed\n",
      "[*********************100%***********************]  1 of 1 completed\n",
      "[*********************100%***********************]  1 of 1 completed\n",
      "[*********************100%***********************]  1 of 1 completed\n",
      "[*********************100%***********************]  1 of 1 completed\n",
      "[*********************100%***********************]  1 of 1 completed\n",
      "{'Stock': 'COLPAL.NS', 'P035': 7864.218036727575, 'P05': 7805.370246745574, 'P1': 6301.137600879653, 'P2': 1576.6218773257272, 'P35': 20.717250358295036, 'R05': 694.6297532544265, 'R1': 2194.7058473520274, 'R03': 537.8623535523237, 'R0': 379.92150778991487}\n",
      "CONCOR.NS\n"
     ]
    },
    {
     "name": "stderr",
     "output_type": "stream",
     "text": [
      "C:\\Users\\naman\\AppData\\Local\\Temp\\ipykernel_6796\\1180599731.py:4: FutureWarning: The frame.append method is deprecated and will be removed from pandas in a future version. Use pandas.concat instead.\n",
      "  symb= symb.append(df2, ignore_index = True)\n"
     ]
    },
    {
     "name": "stdout",
     "output_type": "stream",
     "text": [
      "[*********************100%***********************]  1 of 1 completed\n",
      "[*********************100%***********************]  1 of 1 completed\n",
      "[*********************100%***********************]  1 of 1 completed\n",
      "[*********************100%***********************]  1 of 1 completed\n",
      "[*********************100%***********************]  1 of 1 completed\n",
      "[*********************100%***********************]  1 of 1 completed\n",
      "[*********************100%***********************]  1 of 1 completed\n",
      "[*********************100%***********************]  1 of 1 completed\n",
      "{'Stock': 'CONCOR.NS', 'P035': 8155.750815969429, 'P05': 7474.747385904544, 'P1': 5772.048883909444, 'P2': 3205.8733029351197, 'P35': 232.3730633818324, 'R05': 1025.2526140954558, 'R1': 2727.951116090556, 'R03': 340.3579114041819, 'R0': 21.100721879675632}\n",
      "COROMANDEL.NS\n"
     ]
    },
    {
     "name": "stderr",
     "output_type": "stream",
     "text": [
      "C:\\Users\\naman\\AppData\\Local\\Temp\\ipykernel_6796\\1180599731.py:4: FutureWarning: The frame.append method is deprecated and will be removed from pandas in a future version. Use pandas.concat instead.\n",
      "  symb= symb.append(df2, ignore_index = True)\n"
     ]
    },
    {
     "name": "stdout",
     "output_type": "stream",
     "text": [
      "[*********************100%***********************]  1 of 1 completed\n",
      "[*********************100%***********************]  1 of 1 completed\n",
      "[*********************100%***********************]  1 of 1 completed\n",
      "[*********************100%***********************]  1 of 1 completed\n",
      "[*********************100%***********************]  1 of 1 completed\n",
      "[*********************100%***********************]  1 of 1 completed\n",
      "[*********************100%***********************]  1 of 1 completed\n",
      "[*********************100%***********************]  1 of 1 completed\n",
      "{'Stock': 'COROMANDEL.NS', 'P035': 8261.95796225682, 'P05': 8229.193016966923, 'P1': 7234.203374807721, 'P2': 3103.070354872416, 'P35': 90.35959314959611, 'R05': 270.8069830330756, 'R1': 1265.7966251922783, 'R03': 231.51558900069446, 'R0': 142.79771563020475}\n",
      "CROMPTON.NS\n"
     ]
    },
    {
     "name": "stderr",
     "output_type": "stream",
     "text": [
      "C:\\Users\\naman\\AppData\\Local\\Temp\\ipykernel_6796\\1180599731.py:4: FutureWarning: The frame.append method is deprecated and will be removed from pandas in a future version. Use pandas.concat instead.\n",
      "  symb= symb.append(df2, ignore_index = True)\n"
     ]
    },
    {
     "name": "stdout",
     "output_type": "stream",
     "text": [
      "[*********************100%***********************]  1 of 1 completed\n",
      "[*********************100%***********************]  1 of 1 completed\n",
      "[*********************100%***********************]  1 of 1 completed\n",
      "[*********************100%***********************]  1 of 1 completed\n",
      "[*********************100%***********************]  1 of 1 completed\n",
      "[*********************100%***********************]  1 of 1 completed\n",
      "[*********************100%***********************]  1 of 1 completed\n",
      "[*********************100%***********************]  1 of 1 completed\n",
      "{'Stock': 'CROMPTON.NS', 'P035': 5516.404698925099, 'P05': 4053.5707917339396, 'P1': 3756.0770845943766, 'P2': 2061.382905005952, 'P35': 158.1539198466667, 'R05': 4446.004677165247, 'R1': 4743.922915405623, 'R03': 2975.211590394738, 'R0': 1436.6220134084117}\n",
      "CUMMINSIND.NS\n"
     ]
    },
    {
     "name": "stderr",
     "output_type": "stream",
     "text": [
      "C:\\Users\\naman\\AppData\\Local\\Temp\\ipykernel_6796\\1180599731.py:4: FutureWarning: The frame.append method is deprecated and will be removed from pandas in a future version. Use pandas.concat instead.\n",
      "  symb= symb.append(df2, ignore_index = True)\n"
     ]
    },
    {
     "name": "stdout",
     "output_type": "stream",
     "text": [
      "[*********************100%***********************]  1 of 1 completed\n",
      "[*********************100%***********************]  1 of 1 completed\n",
      "[*********************100%***********************]  1 of 1 completed\n",
      "[*********************100%***********************]  1 of 1 completed\n",
      "[*********************100%***********************]  1 of 1 completed\n",
      "[*********************100%***********************]  1 of 1 completed\n",
      "[*********************100%***********************]  1 of 1 completed\n",
      "[*********************100%***********************]  1 of 1 completed\n",
      "{'Stock': 'CUMMINSIND.NS', 'P035': 8139.390783743227, 'P05': 8100.990521621512, 'P1': 5296.250558122104, 'P2': 2983.1224162806247, 'P35': 422.22736568181483, 'R05': 399.00947837848867, 'R1': 3203.7494418778956, 'R03': 339.152583366729, 'R0': 10.866825386578169}\n",
      "DLF.NS\n"
     ]
    },
    {
     "name": "stderr",
     "output_type": "stream",
     "text": [
      "C:\\Users\\naman\\AppData\\Local\\Temp\\ipykernel_6796\\1180599731.py:4: FutureWarning: The frame.append method is deprecated and will be removed from pandas in a future version. Use pandas.concat instead.\n",
      "  symb= symb.append(df2, ignore_index = True)\n"
     ]
    },
    {
     "name": "stdout",
     "output_type": "stream",
     "text": [
      "[*********************100%***********************]  1 of 1 completed\n",
      "[*********************100%***********************]  1 of 1 completed\n",
      "[*********************100%***********************]  1 of 1 completed\n",
      "[*********************100%***********************]  1 of 1 completed\n",
      "[*********************100%***********************]  1 of 1 completed\n",
      "[*********************100%***********************]  1 of 1 completed\n",
      "[*********************100%***********************]  1 of 1 completed\n",
      "[*********************100%***********************]  1 of 1 completed\n",
      "{'Stock': 'DLF.NS', 'P035': 6640.4156101043345, 'P05': 6328.8002303840385, 'P1': 4853.502327591576, 'P2': 1642.3690887858359, 'P35': 1184.4825038929287, 'R05': 2171.1997696159615, 'R1': 3646.497672408425, 'R03': 1785.4207028962494, 'R0': 29.50391640506586}\n",
      "DABUR.NS\n"
     ]
    },
    {
     "name": "stderr",
     "output_type": "stream",
     "text": [
      "C:\\Users\\naman\\AppData\\Local\\Temp\\ipykernel_6796\\1180599731.py:4: FutureWarning: The frame.append method is deprecated and will be removed from pandas in a future version. Use pandas.concat instead.\n",
      "  symb= symb.append(df2, ignore_index = True)\n"
     ]
    },
    {
     "name": "stdout",
     "output_type": "stream",
     "text": [
      "[*********************100%***********************]  1 of 1 completed\n",
      "[*********************100%***********************]  1 of 1 completed\n",
      "[*********************100%***********************]  1 of 1 completed\n",
      "[*********************100%***********************]  1 of 1 completed\n",
      "[*********************100%***********************]  1 of 1 completed\n",
      "[*********************100%***********************]  1 of 1 completed\n",
      "[*********************100%***********************]  1 of 1 completed\n",
      "[*********************100%***********************]  1 of 1 completed\n",
      "{'Stock': 'DABUR.NS', 'P035': 5401.607703773252, 'P05': 5005.215223968094, 'P1': 4633.353697032738, 'P2': 652.121459646329, 'P35': 6.0348485605162745, 'R05': 3494.7847760319064, 'R1': 3866.646302967262, 'R03': 2981.810481691582, 'R0': 2435.1499500771456}\n",
      "DALBHARAT.NS\n"
     ]
    },
    {
     "name": "stderr",
     "output_type": "stream",
     "text": [
      "C:\\Users\\naman\\AppData\\Local\\Temp\\ipykernel_6796\\1180599731.py:4: FutureWarning: The frame.append method is deprecated and will be removed from pandas in a future version. Use pandas.concat instead.\n",
      "  symb= symb.append(df2, ignore_index = True)\n"
     ]
    },
    {
     "name": "stdout",
     "output_type": "stream",
     "text": [
      "[*********************100%***********************]  1 of 1 completed\n",
      "[*********************100%***********************]  1 of 1 completed\n",
      "[*********************100%***********************]  1 of 1 completed\n",
      "[*********************100%***********************]  1 of 1 completed\n",
      "[*********************100%***********************]  1 of 1 completed\n",
      "[*********************100%***********************]  1 of 1 completed\n",
      "[*********************100%***********************]  1 of 1 completed\n",
      "[*********************100%***********************]  1 of 1 completed\n",
      "{'Stock': 'DALBHARAT.NS', 'P035': 7810.260626177887, 'P05': 7767.259256462125, 'P1': 6406.698440183412, 'P2': 1989.3333682665138, 'P35': 280.8030175704989, 'R05': 732.7407435378757, 'R1': 2093.3015598165894, 'R03': 402.80102275248504, 'R0': 54.33522236741677}\n",
      "DEEPAKNTR.NS\n"
     ]
    },
    {
     "name": "stderr",
     "output_type": "stream",
     "text": [
      "C:\\Users\\naman\\AppData\\Local\\Temp\\ipykernel_6796\\1180599731.py:4: FutureWarning: The frame.append method is deprecated and will be removed from pandas in a future version. Use pandas.concat instead.\n",
      "  symb= symb.append(df2, ignore_index = True)\n"
     ]
    },
    {
     "name": "stdout",
     "output_type": "stream",
     "text": [
      "[*********************100%***********************]  1 of 1 completed\n",
      "[*********************100%***********************]  1 of 1 completed\n",
      "[*********************100%***********************]  1 of 1 completed\n",
      "[*********************100%***********************]  1 of 1 completed\n",
      "[*********************100%***********************]  1 of 1 completed\n",
      "[*********************100%***********************]  1 of 1 completed\n",
      "[*********************100%***********************]  1 of 1 completed\n",
      "[*********************100%***********************]  1 of 1 completed\n",
      "{'Stock': 'DEEPAKNTR.NS', 'P035': 8371.728862152433, 'P05': 8058.976004756518, 'P1': 6228.238409946718, 'P2': 5591.6228727769185, 'P35': 254.43187182886552, 'R05': 441.02399524348147, 'R1': 2271.761590053282, 'R03': 71.81792259251856, 'R0': 26.912787462525394}\n",
      "DIVISLAB.NS\n"
     ]
    },
    {
     "name": "stderr",
     "output_type": "stream",
     "text": [
      "C:\\Users\\naman\\AppData\\Local\\Temp\\ipykernel_6796\\1180599731.py:4: FutureWarning: The frame.append method is deprecated and will be removed from pandas in a future version. Use pandas.concat instead.\n",
      "  symb= symb.append(df2, ignore_index = True)\n"
     ]
    },
    {
     "name": "stdout",
     "output_type": "stream",
     "text": [
      "[*********************100%***********************]  1 of 1 completed\n",
      "[*********************100%***********************]  1 of 1 completed\n",
      "[*********************100%***********************]  1 of 1 completed\n",
      "[*********************100%***********************]  1 of 1 completed\n",
      "[*********************100%***********************]  1 of 1 completed\n",
      "[*********************100%***********************]  1 of 1 completed\n",
      "[*********************100%***********************]  1 of 1 completed\n",
      "[*********************100%***********************]  1 of 1 completed\n",
      "{'Stock': 'DIVISLAB.NS', 'P035': 6676.910816586505, 'P05': 6529.236526488433, 'P1': 3667.399216892414, 'P2': 3067.9043541765177, 'P35': 7.1767600036495605, 'R05': 1970.7634735115669, 'R1': 4832.600783107588, 'R03': 1778.435297065887, 'R0': 1271.2715172991207}\n",
      "DIXON.NS\n"
     ]
    },
    {
     "name": "stderr",
     "output_type": "stream",
     "text": [
      "C:\\Users\\naman\\AppData\\Local\\Temp\\ipykernel_6796\\1180599731.py:4: FutureWarning: The frame.append method is deprecated and will be removed from pandas in a future version. Use pandas.concat instead.\n",
      "  symb= symb.append(df2, ignore_index = True)\n"
     ]
    },
    {
     "name": "stdout",
     "output_type": "stream",
     "text": [
      "[*********************100%***********************]  1 of 1 completed\n",
      "[*********************100%***********************]  1 of 1 completed\n",
      "[*********************100%***********************]  1 of 1 completed\n",
      "[*********************100%***********************]  1 of 1 completed\n",
      "[*********************100%***********************]  1 of 1 completed\n",
      "[*********************100%***********************]  1 of 1 completed\n",
      "[*********************100%***********************]  1 of 1 completed\n",
      "[*********************100%***********************]  1 of 1 completed\n",
      "{'Stock': 'DIXON.NS', 'P035': 8117.042592487292, 'P05': 8088.701038705498, 'P1': 4855.673785656041, 'P2': 3147.593803402728, 'P35': 1286.9190101592317, 'R05': 411.2989612945025, 'R1': 3644.3262143439597, 'R03': 89.89610394689137, 'R0': 51.13783892582919}\n",
      "LALPATHLAB.NS\n"
     ]
    },
    {
     "name": "stderr",
     "output_type": "stream",
     "text": [
      "C:\\Users\\naman\\AppData\\Local\\Temp\\ipykernel_6796\\1180599731.py:4: FutureWarning: The frame.append method is deprecated and will be removed from pandas in a future version. Use pandas.concat instead.\n",
      "  symb= symb.append(df2, ignore_index = True)\n"
     ]
    },
    {
     "name": "stdout",
     "output_type": "stream",
     "text": [
      "[*********************100%***********************]  1 of 1 completed\n",
      "[*********************100%***********************]  1 of 1 completed\n",
      "[*********************100%***********************]  1 of 1 completed\n",
      "[*********************100%***********************]  1 of 1 completed\n",
      "[*********************100%***********************]  1 of 1 completed\n",
      "[*********************100%***********************]  1 of 1 completed\n",
      "[*********************100%***********************]  1 of 1 completed\n",
      "[*********************100%***********************]  1 of 1 completed\n",
      "{'Stock': 'LALPATHLAB.NS', 'P035': 7109.211461847473, 'P05': 7080.446927974157, 'P1': 5726.589506795259, 'P2': 3160.2403935129464, 'P35': 1883.4033027554453, 'R05': 1419.553072025844, 'R1': 2773.410493204742, 'R03': 1390.7885381525282, 'R0': 98.88686430118044}\n",
      "DRREDDY.NS\n"
     ]
    },
    {
     "name": "stderr",
     "output_type": "stream",
     "text": [
      "C:\\Users\\naman\\AppData\\Local\\Temp\\ipykernel_6796\\1180599731.py:4: FutureWarning: The frame.append method is deprecated and will be removed from pandas in a future version. Use pandas.concat instead.\n",
      "  symb= symb.append(df2, ignore_index = True)\n"
     ]
    },
    {
     "name": "stdout",
     "output_type": "stream",
     "text": [
      "[*********************100%***********************]  1 of 1 completed\n",
      "[*********************100%***********************]  1 of 1 completed\n",
      "[*********************100%***********************]  1 of 1 completed\n",
      "[*********************100%***********************]  1 of 1 completed\n",
      "[*********************100%***********************]  1 of 1 completed\n",
      "[*********************100%***********************]  1 of 1 completed\n",
      "[*********************100%***********************]  1 of 1 completed\n",
      "[*********************100%***********************]  1 of 1 completed\n",
      "{'Stock': 'DRREDDY.NS', 'P035': 6946.2340158431125, 'P05': 6845.950393395588, 'P1': 5205.59881255877, 'P2': 3907.240006883152, 'P35': 10.887745816635075, 'R05': 1654.0496066044113, 'R1': 3294.4011874412304, 'R03': 1544.4451073394246, 'R0': 281.064830279825}\n",
      "EICHERMOT.NS\n"
     ]
    },
    {
     "name": "stderr",
     "output_type": "stream",
     "text": [
      "C:\\Users\\naman\\AppData\\Local\\Temp\\ipykernel_6796\\1180599731.py:4: FutureWarning: The frame.append method is deprecated and will be removed from pandas in a future version. Use pandas.concat instead.\n",
      "  symb= symb.append(df2, ignore_index = True)\n"
     ]
    },
    {
     "name": "stdout",
     "output_type": "stream",
     "text": [
      "[*********************100%***********************]  1 of 1 completed\n",
      "[*********************100%***********************]  1 of 1 completed\n",
      "[*********************100%***********************]  1 of 1 completed\n",
      "[*********************100%***********************]  1 of 1 completed\n",
      "[*********************100%***********************]  1 of 1 completed\n",
      "[*********************100%***********************]  1 of 1 completed\n",
      "[*********************100%***********************]  1 of 1 completed\n",
      "[*********************100%***********************]  1 of 1 completed\n",
      "{'Stock': 'EICHERMOT.NS', 'P035': 6637.5511157655155, 'P05': 6557.920671777818, 'P1': 5171.423676466365, 'P2': 2186.7363066098824, 'P35': 1219.9051255733443, 'R05': 1942.0793282221812, 'R1': 3328.5763235336344, 'R03': 1841.3281376298942, 'R0': 12.206832466024911}\n",
      "EMAMILTD.NS\n"
     ]
    },
    {
     "name": "stderr",
     "output_type": "stream",
     "text": [
      "C:\\Users\\naman\\AppData\\Local\\Temp\\ipykernel_6796\\1180599731.py:4: FutureWarning: The frame.append method is deprecated and will be removed from pandas in a future version. Use pandas.concat instead.\n",
      "  symb= symb.append(df2, ignore_index = True)\n"
     ]
    },
    {
     "name": "stdout",
     "output_type": "stream",
     "text": [
      "[*********************100%***********************]  1 of 1 completed\n",
      "[*********************100%***********************]  1 of 1 completed\n",
      "[*********************100%***********************]  1 of 1 completed\n",
      "[*********************100%***********************]  1 of 1 completed\n",
      "[*********************100%***********************]  1 of 1 completed\n",
      "[*********************100%***********************]  1 of 1 completed\n",
      "[*********************100%***********************]  1 of 1 completed\n",
      "[*********************100%***********************]  1 of 1 completed\n",
      "{'Stock': 'EMAMILTD.NS', 'P035': 7974.829200796472, 'P05': 7841.996023575378, 'P1': 5793.271532790966, 'P2': 3033.414080068883, 'P35': 419.65968510209854, 'R05': 658.0039764246233, 'R1': 2706.728467209034, 'R03': 518.2868884413839, 'R0': 75.81132951412452}\n",
      "ESCORTS.NS\n"
     ]
    },
    {
     "name": "stderr",
     "output_type": "stream",
     "text": [
      "C:\\Users\\naman\\AppData\\Local\\Temp\\ipykernel_6796\\1180599731.py:4: FutureWarning: The frame.append method is deprecated and will be removed from pandas in a future version. Use pandas.concat instead.\n",
      "  symb= symb.append(df2, ignore_index = True)\n"
     ]
    },
    {
     "name": "stdout",
     "output_type": "stream",
     "text": [
      "[*********************100%***********************]  1 of 1 completed\n",
      "[*********************100%***********************]  1 of 1 completed\n",
      "[*********************100%***********************]  1 of 1 completed\n",
      "[*********************100%***********************]  1 of 1 completed\n",
      "[*********************100%***********************]  1 of 1 completed\n",
      "[*********************100%***********************]  1 of 1 completed\n",
      "[*********************100%***********************]  1 of 1 completed\n",
      "[*********************100%***********************]  1 of 1 completed\n",
      "{'Stock': 'ESCORTS.NS', 'P035': 8022.270865549542, 'P05': 7929.934908483273, 'P1': 7574.918230615594, 'P2': 4414.947589706805, 'P35': 2467.9048893835484, 'R05': 570.0650915167278, 'R1': 925.0817693844059, 'R03': 469.0345368569583, 'R0': 342.0980627217826}\n",
      "EXIDEIND.NS\n"
     ]
    },
    {
     "name": "stderr",
     "output_type": "stream",
     "text": [
      "C:\\Users\\naman\\AppData\\Local\\Temp\\ipykernel_6796\\1180599731.py:4: FutureWarning: The frame.append method is deprecated and will be removed from pandas in a future version. Use pandas.concat instead.\n",
      "  symb= symb.append(df2, ignore_index = True)\n"
     ]
    },
    {
     "name": "stdout",
     "output_type": "stream",
     "text": [
      "[*********************100%***********************]  1 of 1 completed\n",
      "[*********************100%***********************]  1 of 1 completed\n",
      "[*********************100%***********************]  1 of 1 completed\n",
      "[*********************100%***********************]  1 of 1 completed\n",
      "[*********************100%***********************]  1 of 1 completed\n",
      "[*********************100%***********************]  1 of 1 completed\n",
      "[*********************100%***********************]  1 of 1 completed\n",
      "[*********************100%***********************]  1 of 1 completed\n",
      "{'Stock': 'EXIDEIND.NS', 'P035': 7729.048687385779, 'P05': 5417.30316334707, 'P1': 2343.193362172455, 'P2': 1699.038124047194, 'P35': 32.49655454082076, 'R05': 3082.69683665293, 'R1': 6156.806637827544, 'R03': 439.5859371167111, 'R0': 20.056987679643967}\n",
      "NYKAA.NS\n"
     ]
    },
    {
     "name": "stderr",
     "output_type": "stream",
     "text": [
      "C:\\Users\\naman\\AppData\\Local\\Temp\\ipykernel_6796\\1180599731.py:4: FutureWarning: The frame.append method is deprecated and will be removed from pandas in a future version. Use pandas.concat instead.\n",
      "  symb= symb.append(df2, ignore_index = True)\n"
     ]
    },
    {
     "name": "stdout",
     "output_type": "stream",
     "text": [
      "[*********************100%***********************]  1 of 1 completed\n",
      "[*********************100%***********************]  1 of 1 completed\n",
      "[*********************100%***********************]  1 of 1 completed\n",
      "[*********************100%***********************]  1 of 1 completed\n",
      "[*********************100%***********************]  1 of 1 completed\n",
      "[*********************100%***********************]  1 of 1 completed\n",
      "[*********************100%***********************]  1 of 1 completed\n",
      "[*********************100%***********************]  1 of 1 completed\n",
      "{'Stock': 'NYKAA.NS', 'P035': 6840.74104453052, 'P05': 6540.3163464216095, 'P1': 3584.4455583402955, 'P2': 1414.2548289916713, 'P35': 1181.7580314422419, 'R05': 1959.6836535783902, 'R1': 4915.554441659705, 'R03': 1650.258474469001, 'R0': 1369.2105009999748}\n",
      "FEDERALBNK.NS\n"
     ]
    },
    {
     "name": "stderr",
     "output_type": "stream",
     "text": [
      "C:\\Users\\naman\\AppData\\Local\\Temp\\ipykernel_6796\\1180599731.py:4: FutureWarning: The frame.append method is deprecated and will be removed from pandas in a future version. Use pandas.concat instead.\n",
      "  symb= symb.append(df2, ignore_index = True)\n"
     ]
    },
    {
     "name": "stdout",
     "output_type": "stream",
     "text": [
      "[*********************100%***********************]  1 of 1 completed\n",
      "[*********************100%***********************]  1 of 1 completed\n",
      "[*********************100%***********************]  1 of 1 completed\n",
      "[*********************100%***********************]  1 of 1 completed\n",
      "[*********************100%***********************]  1 of 1 completed\n",
      "[*********************100%***********************]  1 of 1 completed\n",
      "[*********************100%***********************]  1 of 1 completed\n",
      "[*********************100%***********************]  1 of 1 completed\n",
      "{'Stock': 'FEDERALBNK.NS', 'P035': 8028.910417599812, 'P05': 7833.136175351786, 'P1': 5913.202749382706, 'P2': 1953.546762079306, 'P35': 1255.3706506267363, 'R05': 666.8638246482145, 'R1': 2586.7972506172946, 'R03': 445.43378715310007, 'R0': 40.122845017399854}\n",
      "FORTIS.NS\n"
     ]
    },
    {
     "name": "stderr",
     "output_type": "stream",
     "text": [
      "C:\\Users\\naman\\AppData\\Local\\Temp\\ipykernel_6796\\1180599731.py:4: FutureWarning: The frame.append method is deprecated and will be removed from pandas in a future version. Use pandas.concat instead.\n",
      "  symb= symb.append(df2, ignore_index = True)\n"
     ]
    },
    {
     "name": "stdout",
     "output_type": "stream",
     "text": [
      "[*********************100%***********************]  1 of 1 completed\n",
      "[*********************100%***********************]  1 of 1 completed\n",
      "[*********************100%***********************]  1 of 1 completed\n",
      "[*********************100%***********************]  1 of 1 completed\n",
      "[*********************100%***********************]  1 of 1 completed\n",
      "[*********************100%***********************]  1 of 1 completed\n",
      "[*********************100%***********************]  1 of 1 completed\n",
      "[*********************100%***********************]  1 of 1 completed\n",
      "{'Stock': 'FORTIS.NS', 'P035': 7063.190348840462, 'P05': 6686.240985211471, 'P1': 4226.067589412171, 'P2': 414.374398487733, 'P35': 230.35275712750428, 'R05': 1813.7590147885296, 'R1': 4273.932410587828, 'R03': 1429.0982539299712, 'R0': 1223.8029377506252}\n",
      "GAIL.NS\n"
     ]
    },
    {
     "name": "stderr",
     "output_type": "stream",
     "text": [
      "C:\\Users\\naman\\AppData\\Local\\Temp\\ipykernel_6796\\1180599731.py:4: FutureWarning: The frame.append method is deprecated and will be removed from pandas in a future version. Use pandas.concat instead.\n",
      "  symb= symb.append(df2, ignore_index = True)\n"
     ]
    },
    {
     "name": "stdout",
     "output_type": "stream",
     "text": [
      "[*********************100%***********************]  1 of 1 completed\n",
      "[*********************100%***********************]  1 of 1 completed\n",
      "[*********************100%***********************]  1 of 1 completed\n",
      "[*********************100%***********************]  1 of 1 completed\n",
      "[*********************100%***********************]  1 of 1 completed\n",
      "[*********************100%***********************]  1 of 1 completed\n",
      "[*********************100%***********************]  1 of 1 completed\n",
      "[*********************100%***********************]  1 of 1 completed\n",
      "{'Stock': 'GAIL.NS', 'P035': 6517.978764572138, 'P05': 5889.310786118794, 'P1': 2784.700581878529, 'P2': 1351.8927498201078, 'P35': 14.933224124939322, 'R05': 2610.6892138812077, 'R1': 5715.299418121471, 'R03': 1974.532621175963, 'R0': 1168.7647587147478}\n",
      "GLAND.NS\n"
     ]
    },
    {
     "name": "stderr",
     "output_type": "stream",
     "text": [
      "C:\\Users\\naman\\AppData\\Local\\Temp\\ipykernel_6796\\1180599731.py:4: FutureWarning: The frame.append method is deprecated and will be removed from pandas in a future version. Use pandas.concat instead.\n",
      "  symb= symb.append(df2, ignore_index = True)\n"
     ]
    },
    {
     "name": "stdout",
     "output_type": "stream",
     "text": [
      "[*********************100%***********************]  1 of 1 completed\n",
      "[*********************100%***********************]  1 of 1 completed\n",
      "[*********************100%***********************]  1 of 1 completed\n",
      "[*********************100%***********************]  1 of 1 completed\n",
      "[*********************100%***********************]  1 of 1 completed\n",
      "[*********************100%***********************]  1 of 1 completed\n",
      "[*********************100%***********************]  1 of 1 completed\n",
      "[*********************100%***********************]  1 of 1 completed\n",
      "{'Stock': 'GLAND.NS', 'P035': 6613.959707264264, 'P05': 6349.834102376373, 'P1': 5615.331829975465, 'P2': 2864.5793813269147, 'P35': 127.84065263009853, 'R05': 2150.1658976236267, 'R1': 2884.668170024537, 'R03': 1864.3347526091695, 'R0': 1792.7000291833829}\n",
      "GLENMARK.NS\n"
     ]
    },
    {
     "name": "stderr",
     "output_type": "stream",
     "text": [
      "C:\\Users\\naman\\AppData\\Local\\Temp\\ipykernel_6796\\1180599731.py:4: FutureWarning: The frame.append method is deprecated and will be removed from pandas in a future version. Use pandas.concat instead.\n",
      "  symb= symb.append(df2, ignore_index = True)\n"
     ]
    },
    {
     "name": "stdout",
     "output_type": "stream",
     "text": [
      "[*********************100%***********************]  1 of 1 completed\n",
      "[*********************100%***********************]  1 of 1 completed\n",
      "[*********************100%***********************]  1 of 1 completed\n",
      "[*********************100%***********************]  1 of 1 completed\n",
      "[*********************100%***********************]  1 of 1 completed\n",
      "[*********************100%***********************]  1 of 1 completed\n",
      "[*********************100%***********************]  1 of 1 completed\n",
      "[*********************100%***********************]  1 of 1 completed\n",
      "{'Stock': 'GLENMARK.NS', 'P035': 6834.017421376075, 'P05': 6744.767367082666, 'P1': 6254.819175111323, 'P2': 5505.026323161568, 'P35': 2429.8450617392646, 'R05': 1755.2326329173334, 'R1': 2245.1808248886787, 'R03': 1662.406698308158, 'R0': 1526.2460784252269}\n",
      "GODREJCP.NS\n"
     ]
    },
    {
     "name": "stderr",
     "output_type": "stream",
     "text": [
      "C:\\Users\\naman\\AppData\\Local\\Temp\\ipykernel_6796\\1180599731.py:4: FutureWarning: The frame.append method is deprecated and will be removed from pandas in a future version. Use pandas.concat instead.\n",
      "  symb= symb.append(df2, ignore_index = True)\n"
     ]
    },
    {
     "name": "stdout",
     "output_type": "stream",
     "text": [
      "[*********************100%***********************]  1 of 1 completed\n",
      "[*********************100%***********************]  1 of 1 completed\n",
      "[*********************100%***********************]  1 of 1 completed\n",
      "[*********************100%***********************]  1 of 1 completed\n",
      "[*********************100%***********************]  1 of 1 completed\n",
      "[*********************100%***********************]  1 of 1 completed\n",
      "[*********************100%***********************]  1 of 1 completed\n",
      "[*********************100%***********************]  1 of 1 completed\n",
      "{'Stock': 'GODREJCP.NS', 'P035': 7592.102510873533, 'P05': 6422.771892346456, 'P1': 4670.30557652484, 'P2': 2588.9217101549743, 'P35': 126.44241765020979, 'R05': 2077.2281076535432, 'R1': 3829.2698923743465, 'R03': 896.118184943943, 'R0': 389.6262921725478}\n",
      "GODREJPROP.NS\n"
     ]
    },
    {
     "name": "stderr",
     "output_type": "stream",
     "text": [
      "C:\\Users\\naman\\AppData\\Local\\Temp\\ipykernel_6796\\1180599731.py:4: FutureWarning: The frame.append method is deprecated and will be removed from pandas in a future version. Use pandas.concat instead.\n",
      "  symb= symb.append(df2, ignore_index = True)\n"
     ]
    },
    {
     "name": "stdout",
     "output_type": "stream",
     "text": [
      "[*********************100%***********************]  1 of 1 completed\n",
      "[*********************100%***********************]  1 of 1 completed\n",
      "[*********************100%***********************]  1 of 1 completed\n",
      "[*********************100%***********************]  1 of 1 completed\n",
      "[*********************100%***********************]  1 of 1 completed\n",
      "[*********************100%***********************]  1 of 1 completed\n",
      "[*********************100%***********************]  1 of 1 completed\n",
      "[*********************100%***********************]  1 of 1 completed\n",
      "{'Stock': 'GODREJPROP.NS', 'P035': 7354.2487541853525, 'P05': 7256.784132729699, 'P1': 6940.3344715225885, 'P2': 2692.401562654943, 'P35': 1304.3041980339456, 'R05': 1243.2158672703017, 'R1': 1559.6655284774115, 'R03': 860.4684085595505, 'R0': 326.2522881711269}\n",
      "GRASIM.NS\n"
     ]
    },
    {
     "name": "stderr",
     "output_type": "stream",
     "text": [
      "C:\\Users\\naman\\AppData\\Local\\Temp\\ipykernel_6796\\1180599731.py:4: FutureWarning: The frame.append method is deprecated and will be removed from pandas in a future version. Use pandas.concat instead.\n",
      "  symb= symb.append(df2, ignore_index = True)\n"
     ]
    },
    {
     "name": "stdout",
     "output_type": "stream",
     "text": [
      "[*********************100%***********************]  1 of 1 completed\n",
      "[*********************100%***********************]  1 of 1 completed\n",
      "[*********************100%***********************]  1 of 1 completed\n",
      "[*********************100%***********************]  1 of 1 completed\n",
      "[*********************100%***********************]  1 of 1 completed\n",
      "[*********************100%***********************]  1 of 1 completed\n",
      "[*********************100%***********************]  1 of 1 completed\n",
      "[*********************100%***********************]  1 of 1 completed\n",
      "{'Stock': 'GRASIM.NS', 'P035': 8025.92124589666, 'P05': 7934.791813051681, 'P1': 3480.8641107460035, 'P2': 328.47368420969366, 'P35': 31.15888933991036, 'R05': 565.2081869483192, 'R1': 5019.1358892539965, 'R03': 400.4527015125255, 'R0': 29.638595447059757}\n",
      "GUJGASLTD.NS\n"
     ]
    },
    {
     "name": "stderr",
     "output_type": "stream",
     "text": [
      "C:\\Users\\naman\\AppData\\Local\\Temp\\ipykernel_6796\\1180599731.py:4: FutureWarning: The frame.append method is deprecated and will be removed from pandas in a future version. Use pandas.concat instead.\n",
      "  symb= symb.append(df2, ignore_index = True)\n"
     ]
    },
    {
     "name": "stdout",
     "output_type": "stream",
     "text": [
      "[*********************100%***********************]  1 of 1 completed\n",
      "[*********************100%***********************]  1 of 1 completed\n",
      "[*********************100%***********************]  1 of 1 completed\n",
      "[*********************100%***********************]  1 of 1 completed\n",
      "[*********************100%***********************]  1 of 1 completed\n",
      "[*********************100%***********************]  1 of 1 completed\n",
      "[*********************100%***********************]  1 of 1 completed\n",
      "[*********************100%***********************]  1 of 1 completed\n",
      "{'Stock': 'GUJGASLTD.NS', 'P035': 8024.153169654028, 'P05': 6773.892719289618, 'P1': 5093.554092725626, 'P2': 1044.2289735136892, 'P35': 846.0808312850418, 'R05': 1726.1072807103812, 'R1': 3406.445907274373, 'R03': 432.84845781289573, 'R0': 99.71225887962461}\n",
      "GSPL.NS\n"
     ]
    },
    {
     "name": "stderr",
     "output_type": "stream",
     "text": [
      "C:\\Users\\naman\\AppData\\Local\\Temp\\ipykernel_6796\\1180599731.py:4: FutureWarning: The frame.append method is deprecated and will be removed from pandas in a future version. Use pandas.concat instead.\n",
      "  symb= symb.append(df2, ignore_index = True)\n"
     ]
    },
    {
     "name": "stdout",
     "output_type": "stream",
     "text": [
      "[*********************100%***********************]  1 of 1 completed\n",
      "[*********************100%***********************]  1 of 1 completed\n",
      "[*********************100%***********************]  1 of 1 completed\n",
      "[*********************100%***********************]  1 of 1 completed\n",
      "[*********************100%***********************]  1 of 1 completed\n",
      "[*********************100%***********************]  1 of 1 completed\n",
      "[*********************100%***********************]  1 of 1 completed\n",
      "[*********************100%***********************]  1 of 1 completed\n",
      "{'Stock': 'GSPL.NS', 'P035': 7100.512256203541, 'P05': 6785.6559771592265, 'P1': 3971.0415566508977, 'P2': 1984.71735167154, 'P35': 209.12197602758008, 'R05': 1714.3440228407744, 'R1': 4528.958443349104, 'R03': 1372.0213761424761, 'R0': 53.95527931984353}\n",
      "HCLTECH.NS\n"
     ]
    },
    {
     "name": "stderr",
     "output_type": "stream",
     "text": [
      "C:\\Users\\naman\\AppData\\Local\\Temp\\ipykernel_6796\\1180599731.py:4: FutureWarning: The frame.append method is deprecated and will be removed from pandas in a future version. Use pandas.concat instead.\n",
      "  symb= symb.append(df2, ignore_index = True)\n"
     ]
    },
    {
     "name": "stdout",
     "output_type": "stream",
     "text": [
      "[*********************100%***********************]  1 of 1 completed\n",
      "[*********************100%***********************]  1 of 1 completed\n",
      "[*********************100%***********************]  1 of 1 completed\n",
      "[*********************100%***********************]  1 of 1 completed\n",
      "[*********************100%***********************]  1 of 1 completed\n",
      "[*********************100%***********************]  1 of 1 completed\n",
      "[*********************100%***********************]  1 of 1 completed\n",
      "[*********************100%***********************]  1 of 1 completed\n",
      "{'Stock': 'HCLTECH.NS', 'P035': 7021.6478477821465, 'P05': 5754.737513132714, 'P1': 3619.917626483297, 'P2': 414.92766537735383, 'P35': 7.647325331098123, 'R05': 2745.262486867285, 'R1': 4880.082373516702, 'R03': 1402.914871915995, 'R0': 94.45052201015487}\n",
      "HDFCAMC.NS\n"
     ]
    },
    {
     "name": "stderr",
     "output_type": "stream",
     "text": [
      "C:\\Users\\naman\\AppData\\Local\\Temp\\ipykernel_6796\\1180599731.py:4: FutureWarning: The frame.append method is deprecated and will be removed from pandas in a future version. Use pandas.concat instead.\n",
      "  symb= symb.append(df2, ignore_index = True)\n"
     ]
    },
    {
     "name": "stdout",
     "output_type": "stream",
     "text": [
      "[*********************100%***********************]  1 of 1 completed\n",
      "[*********************100%***********************]  1 of 1 completed\n",
      "[*********************100%***********************]  1 of 1 completed\n",
      "[*********************100%***********************]  1 of 1 completed\n",
      "[*********************100%***********************]  1 of 1 completed\n",
      "[*********************100%***********************]  1 of 1 completed\n",
      "[*********************100%***********************]  1 of 1 completed\n",
      "[*********************100%***********************]  1 of 1 completed\n",
      "{'Stock': 'HDFCAMC.NS', 'P035': 6275.870523579367, 'P05': 6043.685005801305, 'P1': 5196.076230412854, 'P2': 1332.0425565405815, 'P35': 49.304494600892575, 'R05': 2456.3149941986953, 'R1': 3303.923769587147, 'R03': 2215.7031551517466, 'R0': 400.7129033541073}\n",
      "HDFCBANK.NS\n"
     ]
    },
    {
     "name": "stderr",
     "output_type": "stream",
     "text": [
      "C:\\Users\\naman\\AppData\\Local\\Temp\\ipykernel_6796\\1180599731.py:4: FutureWarning: The frame.append method is deprecated and will be removed from pandas in a future version. Use pandas.concat instead.\n",
      "  symb= symb.append(df2, ignore_index = True)\n"
     ]
    },
    {
     "name": "stdout",
     "output_type": "stream",
     "text": [
      "[*********************100%***********************]  1 of 1 completed\n",
      "[*********************100%***********************]  1 of 1 completed\n",
      "[*********************100%***********************]  1 of 1 completed\n",
      "[*********************100%***********************]  1 of 1 completed\n",
      "[*********************100%***********************]  1 of 1 completed\n",
      "[*********************100%***********************]  1 of 1 completed\n",
      "[*********************100%***********************]  1 of 1 completed\n",
      "[*********************100%***********************]  1 of 1 completed\n",
      "{'Stock': 'HDFCBANK.NS', 'P035': 6870.246968225145, 'P05': 5675.0368041384045, 'P1': 2781.572030028086, 'P2': 1256.9917588371875, 'P35': 1139.6448642993137, 'R05': 2824.963195861595, 'R1': 5718.427969971915, 'R03': 463.9147378198502, 'R0': 15.73656413069524}\n",
      "HDFCLIFE.NS\n"
     ]
    },
    {
     "name": "stderr",
     "output_type": "stream",
     "text": [
      "C:\\Users\\naman\\AppData\\Local\\Temp\\ipykernel_6796\\1180599731.py:4: FutureWarning: The frame.append method is deprecated and will be removed from pandas in a future version. Use pandas.concat instead.\n",
      "  symb= symb.append(df2, ignore_index = True)\n"
     ]
    },
    {
     "name": "stdout",
     "output_type": "stream",
     "text": [
      "[*********************100%***********************]  1 of 1 completed\n",
      "[*********************100%***********************]  1 of 1 completed\n",
      "[*********************100%***********************]  1 of 1 completed\n",
      "[*********************100%***********************]  1 of 1 completed\n",
      "[*********************100%***********************]  1 of 1 completed\n",
      "[*********************100%***********************]  1 of 1 completed\n",
      "[*********************100%***********************]  1 of 1 completed\n",
      "[*********************100%***********************]  1 of 1 completed\n",
      "{'Stock': 'HDFCLIFE.NS', 'P035': 6528.4262760291795, 'P05': 5001.126816551718, 'P1': 4516.6739906329085, 'P2': 2462.6589240140197, 'P35': 25.747322820670384, 'R05': 3498.8731834482833, 'R1': 3983.3260093670924, 'R03': 1942.4056938512094, 'R0': 1173.2849529223279}\n",
      "HAVELLS.NS\n"
     ]
    },
    {
     "name": "stderr",
     "output_type": "stream",
     "text": [
      "C:\\Users\\naman\\AppData\\Local\\Temp\\ipykernel_6796\\1180599731.py:4: FutureWarning: The frame.append method is deprecated and will be removed from pandas in a future version. Use pandas.concat instead.\n",
      "  symb= symb.append(df2, ignore_index = True)\n"
     ]
    },
    {
     "name": "stdout",
     "output_type": "stream",
     "text": [
      "[*********************100%***********************]  1 of 1 completed\n",
      "[*********************100%***********************]  1 of 1 completed\n",
      "[*********************100%***********************]  1 of 1 completed\n",
      "[*********************100%***********************]  1 of 1 completed\n",
      "[*********************100%***********************]  1 of 1 completed\n",
      "[*********************100%***********************]  1 of 1 completed\n",
      "[*********************100%***********************]  1 of 1 completed\n",
      "[*********************100%***********************]  1 of 1 completed\n",
      "{'Stock': 'HAVELLS.NS', 'P035': 8148.916295747895, 'P05': 6925.907770609544, 'P1': 5207.312666938349, 'P2': 581.6370176247561, 'P35': 50.35422316629462, 'R05': 1574.0922293904564, 'R1': 3292.6873330616513, 'R03': 342.47721059427636, 'R0': 99.15358961650342}\n",
      "HEROMOTOCO.NS\n"
     ]
    },
    {
     "name": "stderr",
     "output_type": "stream",
     "text": [
      "C:\\Users\\naman\\AppData\\Local\\Temp\\ipykernel_6796\\1180599731.py:4: FutureWarning: The frame.append method is deprecated and will be removed from pandas in a future version. Use pandas.concat instead.\n",
      "  symb= symb.append(df2, ignore_index = True)\n"
     ]
    },
    {
     "name": "stdout",
     "output_type": "stream",
     "text": [
      "[*********************100%***********************]  1 of 1 completed\n",
      "[*********************100%***********************]  1 of 1 completed\n",
      "[*********************100%***********************]  1 of 1 completed\n",
      "[*********************100%***********************]  1 of 1 completed\n",
      "[*********************100%***********************]  1 of 1 completed\n",
      "[*********************100%***********************]  1 of 1 completed\n",
      "[*********************100%***********************]  1 of 1 completed\n",
      "[*********************100%***********************]  1 of 1 completed\n",
      "{'Stock': 'HEROMOTOCO.NS', 'P035': 6615.443896801327, 'P05': 6559.254836134142, 'P1': 3970.8156319599343, 'P2': 245.468088311208, 'P35': 106.28174466605783, 'R05': 1940.7451638658583, 'R1': 4529.184368040068, 'R03': 1882.0520680621999, 'R0': 463.53865875981046}\n",
      "HINDALCO.NS\n"
     ]
    },
    {
     "name": "stderr",
     "output_type": "stream",
     "text": [
      "C:\\Users\\naman\\AppData\\Local\\Temp\\ipykernel_6796\\1180599731.py:4: FutureWarning: The frame.append method is deprecated and will be removed from pandas in a future version. Use pandas.concat instead.\n",
      "  symb= symb.append(df2, ignore_index = True)\n"
     ]
    },
    {
     "name": "stdout",
     "output_type": "stream",
     "text": [
      "[*********************100%***********************]  1 of 1 completed\n",
      "[*********************100%***********************]  1 of 1 completed\n",
      "[*********************100%***********************]  1 of 1 completed\n",
      "[*********************100%***********************]  1 of 1 completed\n",
      "[*********************100%***********************]  1 of 1 completed\n",
      "[*********************100%***********************]  1 of 1 completed\n",
      "[*********************100%***********************]  1 of 1 completed\n",
      "[*********************100%***********************]  1 of 1 completed\n",
      "{'Stock': 'HINDALCO.NS', 'P035': 6662.755004249154, 'P05': 6279.081991946507, 'P1': 6161.400547177945, 'P2': 2707.2204487993995, 'P35': 1320.2570815270192, 'R05': 2220.918008053494, 'R1': 2338.599452822056, 'R03': 1754.7682052147927, 'R0': 416.4394658071423}\n",
      "HAL.NS\n"
     ]
    },
    {
     "name": "stderr",
     "output_type": "stream",
     "text": [
      "C:\\Users\\naman\\AppData\\Local\\Temp\\ipykernel_6796\\1180599731.py:4: FutureWarning: The frame.append method is deprecated and will be removed from pandas in a future version. Use pandas.concat instead.\n",
      "  symb= symb.append(df2, ignore_index = True)\n"
     ]
    },
    {
     "name": "stdout",
     "output_type": "stream",
     "text": [
      "[*********************100%***********************]  1 of 1 completed\n",
      "[*********************100%***********************]  1 of 1 completed\n",
      "[*********************100%***********************]  1 of 1 completed\n",
      "[*********************100%***********************]  1 of 1 completed\n",
      "[*********************100%***********************]  1 of 1 completed\n",
      "[*********************100%***********************]  1 of 1 completed\n",
      "[*********************100%***********************]  1 of 1 completed\n",
      "[*********************100%***********************]  1 of 1 completed\n",
      "{'Stock': 'HAL.NS', 'P035': 7995.9000063922, 'P05': 7918.249624772064, 'P1': 5725.749903497481, 'P2': 3014.9527854071926, 'P35': 160.5930494207325, 'R05': 581.6833061467834, 'R1': 2774.250096502519, 'R03': 216.58193842053052, 'R0': 10.081294203731849}\n",
      "HINDPETRO.NS\n"
     ]
    },
    {
     "name": "stderr",
     "output_type": "stream",
     "text": [
      "C:\\Users\\naman\\AppData\\Local\\Temp\\ipykernel_6796\\1180599731.py:4: FutureWarning: The frame.append method is deprecated and will be removed from pandas in a future version. Use pandas.concat instead.\n",
      "  symb= symb.append(df2, ignore_index = True)\n"
     ]
    },
    {
     "name": "stdout",
     "output_type": "stream",
     "text": [
      "[*********************100%***********************]  1 of 1 completed\n",
      "[*********************100%***********************]  1 of 1 completed\n",
      "[*********************100%***********************]  1 of 1 completed\n",
      "[*********************100%***********************]  1 of 1 completed\n",
      "[*********************100%***********************]  1 of 1 completed\n",
      "[*********************100%***********************]  1 of 1 completed\n",
      "[*********************100%***********************]  1 of 1 completed\n",
      "[*********************100%***********************]  1 of 1 completed\n",
      "{'Stock': 'HINDPETRO.NS', 'P035': 5561.127897885084, 'P05': 5235.905385184215, 'P1': 2409.5631525115145, 'P2': 1869.4755442158203, 'P35': 101.32383035649936, 'R05': 3264.094614815784, 'R1': 6090.436847488487, 'R03': 1790.308775485059, 'R0': 161.67420248467945}\n",
      "HINDUNILVR.NS\n"
     ]
    },
    {
     "name": "stderr",
     "output_type": "stream",
     "text": [
      "C:\\Users\\naman\\AppData\\Local\\Temp\\ipykernel_6796\\1180599731.py:4: FutureWarning: The frame.append method is deprecated and will be removed from pandas in a future version. Use pandas.concat instead.\n",
      "  symb= symb.append(df2, ignore_index = True)\n"
     ]
    },
    {
     "name": "stdout",
     "output_type": "stream",
     "text": [
      "[*********************100%***********************]  1 of 1 completed\n",
      "[*********************100%***********************]  1 of 1 completed\n",
      "[*********************100%***********************]  1 of 1 completed\n",
      "[*********************100%***********************]  1 of 1 completed\n",
      "[*********************100%***********************]  1 of 1 completed\n",
      "[*********************100%***********************]  1 of 1 completed\n",
      "[*********************100%***********************]  1 of 1 completed\n",
      "[*********************100%***********************]  1 of 1 completed\n",
      "{'Stock': 'HINDUNILVR.NS', 'P035': 7138.574125476627, 'P05': 5864.9816281881995, 'P1': 2798.5087103174, 'P2': 1087.875787714073, 'P35': 13.028324568076789, 'R05': 2635.0183718118, 'R1': 4563.299650194984, 'R03': 1261.2920817256188, 'R0': 28.078730942862894}\n",
      "HINDZINC.NS\n"
     ]
    },
    {
     "name": "stderr",
     "output_type": "stream",
     "text": [
      "C:\\Users\\naman\\AppData\\Local\\Temp\\ipykernel_6796\\1180599731.py:4: FutureWarning: The frame.append method is deprecated and will be removed from pandas in a future version. Use pandas.concat instead.\n",
      "  symb= symb.append(df2, ignore_index = True)\n"
     ]
    },
    {
     "name": "stdout",
     "output_type": "stream",
     "text": [
      "[*********************100%***********************]  1 of 1 completed\n",
      "[*********************100%***********************]  1 of 1 completed\n",
      "[*********************100%***********************]  1 of 1 completed\n",
      "[*********************100%***********************]  1 of 1 completed\n",
      "[*********************100%***********************]  1 of 1 completed\n",
      "[*********************100%***********************]  1 of 1 completed\n",
      "[*********************100%***********************]  1 of 1 completed\n",
      "[*********************100%***********************]  1 of 1 completed\n",
      "{'Stock': 'HINDZINC.NS', 'P035': 6674.846713148181, 'P05': 6339.609975324733, 'P1': 2023.027020413674, 'P2': 217.51902862222792, 'P35': 105.56531241213895, 'R05': 2160.3900246752673, 'R1': 6476.972979586325, 'R03': 1723.9226495026553, 'R0': 1586.9533716933809}\n",
      "HONAUT.NS\n"
     ]
    },
    {
     "name": "stderr",
     "output_type": "stream",
     "text": [
      "C:\\Users\\naman\\AppData\\Local\\Temp\\ipykernel_6796\\1180599731.py:4: FutureWarning: The frame.append method is deprecated and will be removed from pandas in a future version. Use pandas.concat instead.\n",
      "  symb= symb.append(df2, ignore_index = True)\n"
     ]
    },
    {
     "name": "stdout",
     "output_type": "stream",
     "text": [
      "[*********************100%***********************]  1 of 1 completed\n",
      "[*********************100%***********************]  1 of 1 completed\n",
      "[*********************100%***********************]  1 of 1 completed\n",
      "[*********************100%***********************]  1 of 1 completed\n",
      "[*********************100%***********************]  1 of 1 completed\n",
      "[*********************100%***********************]  1 of 1 completed\n",
      "[*********************100%***********************]  1 of 1 completed\n",
      "[*********************100%***********************]  1 of 1 completed\n",
      "{'Stock': 'HONAUT.NS', 'P035': 6801.716434538799, 'P05': 6412.698269493919, 'P1': 4783.835173445895, 'P2': 1758.5350291065263, 'P35': 1533.08720213298, 'R05': 2087.3017305060825, 'R1': 3716.1648265541057, 'R03': 1695.7795303247274, 'R0': 1278.0214043234198}\n",
      "HDFC.NS\n"
     ]
    },
    {
     "name": "stderr",
     "output_type": "stream",
     "text": [
      "C:\\Users\\naman\\AppData\\Local\\Temp\\ipykernel_6796\\1180599731.py:4: FutureWarning: The frame.append method is deprecated and will be removed from pandas in a future version. Use pandas.concat instead.\n",
      "  symb= symb.append(df2, ignore_index = True)\n"
     ]
    },
    {
     "name": "stdout",
     "output_type": "stream",
     "text": [
      "[*********************100%***********************]  1 of 1 completed\n",
      "[*********************100%***********************]  1 of 1 completed\n",
      "[*********************100%***********************]  1 of 1 completed\n",
      "[*********************100%***********************]  1 of 1 completed\n",
      "[*********************100%***********************]  1 of 1 completed\n",
      "[*********************100%***********************]  1 of 1 completed\n",
      "[*********************100%***********************]  1 of 1 completed\n",
      "[*********************100%***********************]  1 of 1 completed\n",
      "{'Stock': 'HDFC.NS', 'P035': 7081.628764854092, 'P05': 5131.462213785688, 'P1': 2792.763113077565, 'P2': 1277.64871576038, 'P35': 1147.4903996911876, 'R05': 3368.5377862143123, 'R1': 5707.2368869224365, 'R03': 1409.8527309992903, 'R0': 18.981177982752943}\n",
      "ICICIBANK.NS\n"
     ]
    },
    {
     "name": "stderr",
     "output_type": "stream",
     "text": [
      "C:\\Users\\naman\\AppData\\Local\\Temp\\ipykernel_6796\\1180599731.py:4: FutureWarning: The frame.append method is deprecated and will be removed from pandas in a future version. Use pandas.concat instead.\n",
      "  symb= symb.append(df2, ignore_index = True)\n"
     ]
    },
    {
     "name": "stdout",
     "output_type": "stream",
     "text": [
      "[*********************100%***********************]  1 of 1 completed\n",
      "[*********************100%***********************]  1 of 1 completed\n",
      "[*********************100%***********************]  1 of 1 completed\n",
      "[*********************100%***********************]  1 of 1 completed\n",
      "[*********************100%***********************]  1 of 1 completed\n",
      "[*********************100%***********************]  1 of 1 completed\n",
      "[*********************100%***********************]  1 of 1 completed\n",
      "[*********************100%***********************]  1 of 1 completed\n",
      "{'Stock': 'ICICIBANK.NS', 'P035': 7004.362333593816, 'P05': 5385.939654897104, 'P1': 3156.7726825293776, 'P2': 2472.4252523623536, 'P35': 22.372223293139534, 'R05': 3114.0603451028956, 'R1': 5343.227317470622, 'R03': 1470.6507609717814, 'R0': 88.46860205262048}\n",
      "ICICIGI.NS\n"
     ]
    },
    {
     "name": "stderr",
     "output_type": "stream",
     "text": [
      "C:\\Users\\naman\\AppData\\Local\\Temp\\ipykernel_6796\\1180599731.py:4: FutureWarning: The frame.append method is deprecated and will be removed from pandas in a future version. Use pandas.concat instead.\n",
      "  symb= symb.append(df2, ignore_index = True)\n"
     ]
    },
    {
     "name": "stdout",
     "output_type": "stream",
     "text": [
      "[*********************100%***********************]  1 of 1 completed\n",
      "[*********************100%***********************]  1 of 1 completed\n",
      "[*********************100%***********************]  1 of 1 completed\n",
      "[*********************100%***********************]  1 of 1 completed\n",
      "[*********************100%***********************]  1 of 1 completed\n",
      "[*********************100%***********************]  1 of 1 completed\n",
      "[*********************100%***********************]  1 of 1 completed\n",
      "[*********************100%***********************]  1 of 1 completed\n",
      "{'Stock': 'ICICIGI.NS', 'P035': 5737.750690909014, 'P05': 5438.1383656838225, 'P1': 3273.372763585301, 'P2': 443.69380581257985, 'P35': 126.26015337228995, 'R05': 3061.861634316178, 'R1': 5226.627236414699, 'R03': 2749.70604945982, 'R0': 153.7270619059599}\n",
      "ICICIPRULI.NS\n"
     ]
    },
    {
     "name": "stderr",
     "output_type": "stream",
     "text": [
      "C:\\Users\\naman\\AppData\\Local\\Temp\\ipykernel_6796\\1180599731.py:4: FutureWarning: The frame.append method is deprecated and will be removed from pandas in a future version. Use pandas.concat instead.\n",
      "  symb= symb.append(df2, ignore_index = True)\n"
     ]
    },
    {
     "name": "stdout",
     "output_type": "stream",
     "text": [
      "[*********************100%***********************]  1 of 1 completed\n",
      "[*********************100%***********************]  1 of 1 completed\n",
      "[*********************100%***********************]  1 of 1 completed\n",
      "[*********************100%***********************]  1 of 1 completed\n",
      "[*********************100%***********************]  1 of 1 completed\n",
      "[*********************100%***********************]  1 of 1 completed\n",
      "[*********************100%***********************]  1 of 1 completed\n",
      "[*********************100%***********************]  1 of 1 completed\n",
      "{'Stock': 'ICICIPRULI.NS', 'P035': 8263.633429166497, 'P05': 7946.453766213134, 'P1': 5589.69781948385, 'P2': 2465.0457514541768, 'P35': 76.27991737705712, 'R05': 553.5462337868653, 'R1': 2910.3021805161497, 'R03': 215.1787551477579, 'R0': 27.761849664153395}\n",
      "ISEC.NS\n"
     ]
    },
    {
     "name": "stderr",
     "output_type": "stream",
     "text": [
      "C:\\Users\\naman\\AppData\\Local\\Temp\\ipykernel_6796\\1180599731.py:4: FutureWarning: The frame.append method is deprecated and will be removed from pandas in a future version. Use pandas.concat instead.\n",
      "  symb= symb.append(df2, ignore_index = True)\n"
     ]
    },
    {
     "name": "stdout",
     "output_type": "stream",
     "text": [
      "[*********************100%***********************]  1 of 1 completed\n",
      "[*********************100%***********************]  1 of 1 completed\n",
      "[*********************100%***********************]  1 of 1 completed\n",
      "[*********************100%***********************]  1 of 1 completed\n",
      "[*********************100%***********************]  1 of 1 completed\n",
      "[*********************100%***********************]  1 of 1 completed\n",
      "[*********************100%***********************]  1 of 1 completed\n",
      "[*********************100%***********************]  1 of 1 completed\n",
      "{'Stock': 'ISEC.NS', 'P035': 7031.548344398938, 'P05': 6915.147243132401, 'P1': 5031.5028278604295, 'P2': 3088.190246675765, 'P35': 1640.7280521690577, 'R05': 1584.8527568676, 'R1': 3468.49717213957, 'R03': 1467.6241691336395, 'R0': 1439.480939837084}\n",
      "IDBI.NS\n"
     ]
    },
    {
     "name": "stderr",
     "output_type": "stream",
     "text": [
      "C:\\Users\\naman\\AppData\\Local\\Temp\\ipykernel_6796\\1180599731.py:4: FutureWarning: The frame.append method is deprecated and will be removed from pandas in a future version. Use pandas.concat instead.\n",
      "  symb= symb.append(df2, ignore_index = True)\n"
     ]
    },
    {
     "name": "stdout",
     "output_type": "stream",
     "text": [
      "[*********************100%***********************]  1 of 1 completed\n",
      "[*********************100%***********************]  1 of 1 completed\n",
      "[*********************100%***********************]  1 of 1 completed\n",
      "[*********************100%***********************]  1 of 1 completed\n",
      "[*********************100%***********************]  1 of 1 completed\n",
      "[*********************100%***********************]  1 of 1 completed\n",
      "[*********************100%***********************]  1 of 1 completed\n",
      "[*********************100%***********************]  1 of 1 completed\n",
      "{'Stock': 'IDBI.NS', 'P035': 7832.141320918828, 'P05': 7707.8941433807295, 'P1': 5754.189128677723, 'P2': 3894.8603871489317, 'P35': 198.63530864310044, 'R05': 791.6813255184575, 'R1': 2745.8108713222773, 'R03': 658.0918098531522, 'R0': 335.0559101303581}\n",
      "IDFCFIRSTB.NS\n"
     ]
    },
    {
     "name": "stderr",
     "output_type": "stream",
     "text": [
      "C:\\Users\\naman\\AppData\\Local\\Temp\\ipykernel_6796\\1180599731.py:4: FutureWarning: The frame.append method is deprecated and will be removed from pandas in a future version. Use pandas.concat instead.\n",
      "  symb= symb.append(df2, ignore_index = True)\n"
     ]
    },
    {
     "name": "stdout",
     "output_type": "stream",
     "text": [
      "[*********************100%***********************]  1 of 1 completed\n",
      "[*********************100%***********************]  1 of 1 completed\n",
      "[*********************100%***********************]  1 of 1 completed\n",
      "[*********************100%***********************]  1 of 1 completed\n",
      "[*********************100%***********************]  1 of 1 completed\n",
      "[*********************100%***********************]  1 of 1 completed\n",
      "[*********************100%***********************]  1 of 1 completed\n",
      "[*********************100%***********************]  1 of 1 completed\n",
      "{'Stock': 'IDFCFIRSTB.NS', 'P035': 8087.204776849851, 'P05': 7985.256218278682, 'P1': 5864.648168099594, 'P2': 4364.696248975499, 'P35': 2466.2486486350995, 'R05': 514.0504334162034, 'R1': 2635.3518319004065, 'R03': 368.410154006842, 'R0': 27.871529334031756}\n",
      "ITC.NS\n"
     ]
    },
    {
     "name": "stderr",
     "output_type": "stream",
     "text": [
      "C:\\Users\\naman\\AppData\\Local\\Temp\\ipykernel_6796\\1180599731.py:4: FutureWarning: The frame.append method is deprecated and will be removed from pandas in a future version. Use pandas.concat instead.\n",
      "  symb= symb.append(df2, ignore_index = True)\n"
     ]
    },
    {
     "name": "stdout",
     "output_type": "stream",
     "text": [
      "[*********************100%***********************]  1 of 1 completed\n",
      "[*********************100%***********************]  1 of 1 completed\n",
      "[*********************100%***********************]  1 of 1 completed\n",
      "[*********************100%***********************]  1 of 1 completed\n",
      "[*********************100%***********************]  1 of 1 completed\n",
      "[*********************100%***********************]  1 of 1 completed\n",
      "[*********************100%***********************]  1 of 1 completed\n",
      "[*********************100%***********************]  1 of 1 completed\n",
      "{'Stock': 'ITC.NS', 'P035': 6684.512960601418, 'P05': 5431.769395530592, 'P1': 3547.4380623626685, 'P2': 778.3969152686417, 'P35': 10.976390631994411, 'R05': 3068.2306044694074, 'R1': 4952.5619376373315, 'R03': 1484.0294810233395, 'R0': 51.650359537853696}\n",
      "INDIAMART.NS\n"
     ]
    },
    {
     "name": "stderr",
     "output_type": "stream",
     "text": [
      "C:\\Users\\naman\\AppData\\Local\\Temp\\ipykernel_6796\\1180599731.py:4: FutureWarning: The frame.append method is deprecated and will be removed from pandas in a future version. Use pandas.concat instead.\n",
      "  symb= symb.append(df2, ignore_index = True)\n"
     ]
    },
    {
     "name": "stdout",
     "output_type": "stream",
     "text": [
      "[*********************100%***********************]  1 of 1 completed\n",
      "[*********************100%***********************]  1 of 1 completed\n",
      "[*********************100%***********************]  1 of 1 completed\n",
      "[*********************100%***********************]  1 of 1 completed\n",
      "[*********************100%***********************]  1 of 1 completed\n",
      "[*********************100%***********************]  1 of 1 completed\n",
      "[*********************100%***********************]  1 of 1 completed\n",
      "[*********************100%***********************]  1 of 1 completed\n",
      "{'Stock': 'INDIAMART.NS', 'P035': 8318.374920419805, 'P05': 8240.83710122777, 'P1': 6087.626938574735, 'P2': 1440.7824122351049, 'P35': 87.52692621220223, 'R05': 259.1628987722305, 'R1': 2412.373061425266, 'R03': 178.6289033820676, 'R0': 45.641094023833006}\n",
      "INDIANB.NS\n"
     ]
    },
    {
     "name": "stderr",
     "output_type": "stream",
     "text": [
      "C:\\Users\\naman\\AppData\\Local\\Temp\\ipykernel_6796\\1180599731.py:4: FutureWarning: The frame.append method is deprecated and will be removed from pandas in a future version. Use pandas.concat instead.\n",
      "  symb= symb.append(df2, ignore_index = True)\n"
     ]
    },
    {
     "name": "stdout",
     "output_type": "stream",
     "text": [
      "[*********************100%***********************]  1 of 1 completed\n",
      "[*********************100%***********************]  1 of 1 completed\n",
      "[*********************100%***********************]  1 of 1 completed\n",
      "[*********************100%***********************]  1 of 1 completed\n",
      "[*********************100%***********************]  1 of 1 completed\n",
      "[*********************100%***********************]  1 of 1 completed\n",
      "[*********************100%***********************]  1 of 1 completed\n",
      "[*********************100%***********************]  1 of 1 completed\n",
      "{'Stock': 'INDIANB.NS', 'P035': 7637.701961643552, 'P05': 6110.895226902124, 'P1': 5856.423455082923, 'P2': 2736.8876961054093, 'P35': 1444.6739434627214, 'R05': 2389.104773097878, 'R1': 2643.576544917077, 'R03': 857.5828173250094, 'R0': 517.2294541128041}\n",
      "IEX.NS\n"
     ]
    },
    {
     "name": "stderr",
     "output_type": "stream",
     "text": [
      "C:\\Users\\naman\\AppData\\Local\\Temp\\ipykernel_6796\\1180599731.py:4: FutureWarning: The frame.append method is deprecated and will be removed from pandas in a future version. Use pandas.concat instead.\n",
      "  symb= symb.append(df2, ignore_index = True)\n"
     ]
    },
    {
     "name": "stdout",
     "output_type": "stream",
     "text": [
      "[*********************100%***********************]  1 of 1 completed\n",
      "[*********************100%***********************]  1 of 1 completed\n",
      "[*********************100%***********************]  1 of 1 completed\n",
      "[*********************100%***********************]  1 of 1 completed\n",
      "[*********************100%***********************]  1 of 1 completed\n",
      "[*********************100%***********************]  1 of 1 completed\n",
      "[*********************100%***********************]  1 of 1 completed\n",
      "[*********************100%***********************]  1 of 1 completed\n",
      "{'Stock': 'IEX.NS', 'P035': 7815.458836334409, 'P05': 7707.280216324633, 'P1': 3487.0667849699043, 'P2': 1491.6108575215164, 'P35': 53.19934808434719, 'R05': 792.7197836753676, 'R1': 5012.933215030095, 'R03': 603.6492798005435, 'R0': 110.59700751357448}\n",
      "INDHOTEL.NS\n"
     ]
    },
    {
     "name": "stderr",
     "output_type": "stream",
     "text": [
      "C:\\Users\\naman\\AppData\\Local\\Temp\\ipykernel_6796\\1180599731.py:4: FutureWarning: The frame.append method is deprecated and will be removed from pandas in a future version. Use pandas.concat instead.\n",
      "  symb= symb.append(df2, ignore_index = True)\n"
     ]
    },
    {
     "name": "stdout",
     "output_type": "stream",
     "text": [
      "[*********************100%***********************]  1 of 1 completed\n",
      "[*********************100%***********************]  1 of 1 completed\n",
      "[*********************100%***********************]  1 of 1 completed\n",
      "[*********************100%***********************]  1 of 1 completed\n",
      "[*********************100%***********************]  1 of 1 completed\n",
      "[*********************100%***********************]  1 of 1 completed\n",
      "[*********************100%***********************]  1 of 1 completed\n",
      "[*********************100%***********************]  1 of 1 completed\n",
      "{'Stock': 'INDHOTEL.NS', 'P035': 8383.894706668792, 'P05': 7136.807066829082, 'P1': 5208.777976933975, 'P2': 3379.1167370065864, 'P35': 1401.9608065553264, 'R05': 1363.1929331709186, 'R1': 3291.2220230660255, 'R03': 93.13136373099626, 'R0': 12.316512135903274}\n",
      "IOC.NS\n"
     ]
    },
    {
     "name": "stderr",
     "output_type": "stream",
     "text": [
      "C:\\Users\\naman\\AppData\\Local\\Temp\\ipykernel_6796\\1180599731.py:4: FutureWarning: The frame.append method is deprecated and will be removed from pandas in a future version. Use pandas.concat instead.\n",
      "  symb= symb.append(df2, ignore_index = True)\n"
     ]
    },
    {
     "name": "stdout",
     "output_type": "stream",
     "text": [
      "[*********************100%***********************]  1 of 1 completed\n",
      "[*********************100%***********************]  1 of 1 completed\n",
      "[*********************100%***********************]  1 of 1 completed\n",
      "[*********************100%***********************]  1 of 1 completed\n",
      "[*********************100%***********************]  1 of 1 completed\n",
      "[*********************100%***********************]  1 of 1 completed\n",
      "[*********************100%***********************]  1 of 1 completed\n",
      "[*********************100%***********************]  1 of 1 completed\n",
      "{'Stock': 'IOC.NS', 'P035': 4302.525049728732, 'P05': 4193.134452011983, 'P1': 4029.6196975241824, 'P2': 138.9662458194063, 'P35': 5.521246189118336, 'R05': 4306.865547988017, 'R1': 4470.380302475818, 'R03': 4184.220304663154, 'R0': 2618.8186645673004}\n",
      "IRCTC.NS\n"
     ]
    },
    {
     "name": "stderr",
     "output_type": "stream",
     "text": [
      "C:\\Users\\naman\\AppData\\Local\\Temp\\ipykernel_6796\\1180599731.py:4: FutureWarning: The frame.append method is deprecated and will be removed from pandas in a future version. Use pandas.concat instead.\n",
      "  symb= symb.append(df2, ignore_index = True)\n"
     ]
    },
    {
     "name": "stdout",
     "output_type": "stream",
     "text": [
      "[*********************100%***********************]  1 of 1 completed\n",
      "[*********************100%***********************]  1 of 1 completed\n",
      "[*********************100%***********************]  1 of 1 completed\n",
      "[*********************100%***********************]  1 of 1 completed\n",
      "[*********************100%***********************]  1 of 1 completed\n",
      "[*********************100%***********************]  1 of 1 completed\n",
      "[*********************100%***********************]  1 of 1 completed\n",
      "[*********************100%***********************]  1 of 1 completed\n",
      "{'Stock': 'IRCTC.NS', 'P035': 8158.250958218074, 'P05': 6523.534961550858, 'P1': 3268.604363961322, 'P2': 1759.7260224481142, 'P35': 86.65460170198098, 'R05': 1976.4650384491435, 'R1': 5231.395636038677, 'R03': 336.8320726273392, 'R0': 16.275394723132955}\n",
      "IGL.NS\n"
     ]
    },
    {
     "name": "stderr",
     "output_type": "stream",
     "text": [
      "C:\\Users\\naman\\AppData\\Local\\Temp\\ipykernel_6796\\1180599731.py:4: FutureWarning: The frame.append method is deprecated and will be removed from pandas in a future version. Use pandas.concat instead.\n",
      "  symb= symb.append(df2, ignore_index = True)\n"
     ]
    },
    {
     "name": "stdout",
     "output_type": "stream",
     "text": [
      "[*********************100%***********************]  1 of 1 completed\n",
      "[*********************100%***********************]  1 of 1 completed\n",
      "[*********************100%***********************]  1 of 1 completed\n",
      "[*********************100%***********************]  1 of 1 completed\n",
      "[*********************100%***********************]  1 of 1 completed\n",
      "[*********************100%***********************]  1 of 1 completed\n",
      "[*********************100%***********************]  1 of 1 completed\n",
      "[*********************100%***********************]  1 of 1 completed\n",
      "{'Stock': 'IGL.NS', 'P035': 4540.497989529591, 'P05': 3343.5032625376753, 'P1': 2884.592046798794, 'P2': 1125.2273249114048, 'P35': 424.5722204891713, 'R05': 5156.496737462325, 'R1': 5615.4079532012065, 'R03': 3954.068868216964, 'R0': 1530.560800393057}\n",
      "INDUSTOWER.NS\n"
     ]
    },
    {
     "name": "stderr",
     "output_type": "stream",
     "text": [
      "C:\\Users\\naman\\AppData\\Local\\Temp\\ipykernel_6796\\1180599731.py:4: FutureWarning: The frame.append method is deprecated and will be removed from pandas in a future version. Use pandas.concat instead.\n",
      "  symb= symb.append(df2, ignore_index = True)\n"
     ]
    },
    {
     "name": "stdout",
     "output_type": "stream",
     "text": [
      "[*********************100%***********************]  1 of 1 completed\n",
      "[*********************100%***********************]  1 of 1 completed\n",
      "[*********************100%***********************]  1 of 1 completed\n",
      "[*********************100%***********************]  1 of 1 completed\n",
      "[*********************100%***********************]  1 of 1 completed\n",
      "[*********************100%***********************]  1 of 1 completed\n",
      "[*********************100%***********************]  1 of 1 completed\n",
      "[*********************100%***********************]  1 of 1 completed\n",
      "{'Stock': 'INDUSTOWER.NS', 'P035': 7025.85805078153, 'P05': 6142.940923232738, 'P1': 5589.22631445071, 'P2': 2905.8168451700626, 'P35': 1162.983915718308, 'R05': 2357.059076767263, 'R1': 2910.7736855492894, 'R03': 1452.7313505550599, 'R0': 107.77913107577099}\n",
      "INDUSINDBK.NS\n"
     ]
    },
    {
     "name": "stderr",
     "output_type": "stream",
     "text": [
      "C:\\Users\\naman\\AppData\\Local\\Temp\\ipykernel_6796\\1180599731.py:4: FutureWarning: The frame.append method is deprecated and will be removed from pandas in a future version. Use pandas.concat instead.\n",
      "  symb= symb.append(df2, ignore_index = True)\n"
     ]
    },
    {
     "name": "stdout",
     "output_type": "stream",
     "text": [
      "[*********************100%***********************]  1 of 1 completed\n",
      "[*********************100%***********************]  1 of 1 completed\n",
      "[*********************100%***********************]  1 of 1 completed\n",
      "[*********************100%***********************]  1 of 1 completed\n",
      "[*********************100%***********************]  1 of 1 completed\n",
      "[*********************100%***********************]  1 of 1 completed\n",
      "[*********************100%***********************]  1 of 1 completed\n",
      "[*********************100%***********************]  1 of 1 completed\n",
      "{'Stock': 'INDUSINDBK.NS', 'P035': 7952.313345402143, 'P05': 6441.795921318929, 'P1': 4636.660068599166, 'P2': 2843.454520095221, 'P35': 1344.3583128422722, 'R05': 2058.204078681072, 'R1': 3862.9154003000203, 'R03': 221.45749317022847, 'R0': 35.472236764115266}\n",
      "NAUKRI.NS\n"
     ]
    },
    {
     "name": "stderr",
     "output_type": "stream",
     "text": [
      "C:\\Users\\naman\\AppData\\Local\\Temp\\ipykernel_6796\\1180599731.py:4: FutureWarning: The frame.append method is deprecated and will be removed from pandas in a future version. Use pandas.concat instead.\n",
      "  symb= symb.append(df2, ignore_index = True)\n"
     ]
    },
    {
     "name": "stdout",
     "output_type": "stream",
     "text": [
      "[*********************100%***********************]  1 of 1 completed\n",
      "[*********************100%***********************]  1 of 1 completed\n",
      "[*********************100%***********************]  1 of 1 completed\n",
      "[*********************100%***********************]  1 of 1 completed\n",
      "[*********************100%***********************]  1 of 1 completed\n",
      "[*********************100%***********************]  1 of 1 completed\n",
      "[*********************100%***********************]  1 of 1 completed\n",
      "[*********************100%***********************]  1 of 1 completed\n",
      "{'Stock': 'NAUKRI.NS', 'P035': 6215.033223474223, 'P05': 6046.904730399876, 'P1': 4809.358984391476, 'P2': 1645.5733238090775, 'P35': 380.942694614995, 'R05': 2453.0952696001254, 'R1': 3690.641015608525, 'R03': 2263.577212716888, 'R0': 695.5111750006096}\n",
      "INFY.NS\n"
     ]
    },
    {
     "name": "stderr",
     "output_type": "stream",
     "text": [
      "C:\\Users\\naman\\AppData\\Local\\Temp\\ipykernel_6796\\1180599731.py:4: FutureWarning: The frame.append method is deprecated and will be removed from pandas in a future version. Use pandas.concat instead.\n",
      "  symb= symb.append(df2, ignore_index = True)\n"
     ]
    },
    {
     "name": "stdout",
     "output_type": "stream",
     "text": [
      "[*********************100%***********************]  1 of 1 completed\n",
      "[*********************100%***********************]  1 of 1 completed\n",
      "[*********************100%***********************]  1 of 1 completed\n",
      "[*********************100%***********************]  1 of 1 completed\n",
      "[*********************100%***********************]  1 of 1 completed\n",
      "[*********************100%***********************]  1 of 1 completed\n",
      "[*********************100%***********************]  1 of 1 completed\n",
      "[*********************100%***********************]  1 of 1 completed\n",
      "{'Stock': 'INFY.NS', 'P035': 6849.589905260201, 'P05': 5512.0236847163615, 'P1': 3625.845682437992, 'P2': 1540.6940087643316, 'P35': 0.9616246297294273, 'R05': 2987.976315283638, 'R1': 4874.154317562008, 'R03': 1639.0337459238822, 'R0': 1311.9677172433348}\n",
      "INDIGO.NS\n"
     ]
    },
    {
     "name": "stderr",
     "output_type": "stream",
     "text": [
      "C:\\Users\\naman\\AppData\\Local\\Temp\\ipykernel_6796\\1180599731.py:4: FutureWarning: The frame.append method is deprecated and will be removed from pandas in a future version. Use pandas.concat instead.\n",
      "  symb= symb.append(df2, ignore_index = True)\n"
     ]
    },
    {
     "name": "stdout",
     "output_type": "stream",
     "text": [
      "[*********************100%***********************]  1 of 1 completed\n",
      "[*********************100%***********************]  1 of 1 completed\n",
      "[*********************100%***********************]  1 of 1 completed\n",
      "[*********************100%***********************]  1 of 1 completed\n",
      "[*********************100%***********************]  1 of 1 completed\n",
      "[*********************100%***********************]  1 of 1 completed\n",
      "[*********************100%***********************]  1 of 1 completed\n",
      "[*********************100%***********************]  1 of 1 completed\n",
      "{'Stock': 'INDIGO.NS', 'P035': 6999.634633212126, 'P05': 6665.183540995984, 'P1': 3479.3676789132764, 'P2': 1424.855542549586, 'P35': 124.09781283241158, 'R05': 1834.816459004016, 'R1': 5020.632321086723, 'R03': 1423.7006418346718, 'R0': 1251.7357917899988}\n",
      "IPCALAB.NS\n"
     ]
    },
    {
     "name": "stderr",
     "output_type": "stream",
     "text": [
      "C:\\Users\\naman\\AppData\\Local\\Temp\\ipykernel_6796\\1180599731.py:4: FutureWarning: The frame.append method is deprecated and will be removed from pandas in a future version. Use pandas.concat instead.\n",
      "  symb= symb.append(df2, ignore_index = True)\n"
     ]
    },
    {
     "name": "stdout",
     "output_type": "stream",
     "text": [
      "[*********************100%***********************]  1 of 1 completed\n",
      "[*********************100%***********************]  1 of 1 completed\n",
      "[*********************100%***********************]  1 of 1 completed\n",
      "[*********************100%***********************]  1 of 1 completed\n",
      "[*********************100%***********************]  1 of 1 completed\n",
      "[*********************100%***********************]  1 of 1 completed\n",
      "[*********************100%***********************]  1 of 1 completed\n",
      "[*********************100%***********************]  1 of 1 completed\n",
      "{'Stock': 'IPCALAB.NS', 'P035': 6808.180548446338, 'P05': 5572.585362218851, 'P1': 4713.979575041186, 'P2': 2824.927124823762, 'P35': 23.091154644750194, 'R05': 2927.414637781149, 'R1': 3786.020424958814, 'R03': 548.1521736483368, 'R0': 34.97955482277423}\n",
      "JSWENERGY.NS\n"
     ]
    },
    {
     "name": "stderr",
     "output_type": "stream",
     "text": [
      "C:\\Users\\naman\\AppData\\Local\\Temp\\ipykernel_6796\\1180599731.py:4: FutureWarning: The frame.append method is deprecated and will be removed from pandas in a future version. Use pandas.concat instead.\n",
      "  symb= symb.append(df2, ignore_index = True)\n"
     ]
    },
    {
     "name": "stdout",
     "output_type": "stream",
     "text": [
      "[*********************100%***********************]  1 of 1 completed\n",
      "[*********************100%***********************]  1 of 1 completed\n",
      "[*********************100%***********************]  1 of 1 completed\n",
      "[*********************100%***********************]  1 of 1 completed\n",
      "[*********************100%***********************]  1 of 1 completed\n",
      "[*********************100%***********************]  1 of 1 completed\n",
      "[*********************100%***********************]  1 of 1 completed\n",
      "[*********************100%***********************]  1 of 1 completed\n",
      "{'Stock': 'JSWENERGY.NS', 'P035': 8307.677877778144, 'P05': 8189.083628288473, 'P1': 8022.948526673026, 'P2': 2343.0723236295166, 'P35': 625.0790406898541, 'R05': 310.916371711528, 'R1': 477.0514733269737, 'R03': 191.4059909390751, 'R0': 97.14270567128989}\n",
      "JSWSTEEL.NS\n"
     ]
    },
    {
     "name": "stderr",
     "output_type": "stream",
     "text": [
      "C:\\Users\\naman\\AppData\\Local\\Temp\\ipykernel_6796\\1180599731.py:4: FutureWarning: The frame.append method is deprecated and will be removed from pandas in a future version. Use pandas.concat instead.\n",
      "  symb= symb.append(df2, ignore_index = True)\n"
     ]
    },
    {
     "name": "stdout",
     "output_type": "stream",
     "text": [
      "[*********************100%***********************]  1 of 1 completed\n",
      "[*********************100%***********************]  1 of 1 completed\n",
      "[*********************100%***********************]  1 of 1 completed\n",
      "[*********************100%***********************]  1 of 1 completed\n",
      "[*********************100%***********************]  1 of 1 completed\n",
      "[*********************100%***********************]  1 of 1 completed\n",
      "[*********************100%***********************]  1 of 1 completed\n",
      "[*********************100%***********************]  1 of 1 completed\n",
      "{'Stock': 'JSWSTEEL.NS', 'P035': 6981.759451717352, 'P05': 6644.914358860076, 'P1': 4646.725776151333, 'P2': 1549.6112333874187, 'P35': 38.893413312974005, 'R05': 1855.0856411399257, 'R1': 3853.274223848667, 'R03': 1475.1290724417822, 'R0': 1168.1626975822214}\n",
      "JINDALSTEL.NS\n"
     ]
    },
    {
     "name": "stderr",
     "output_type": "stream",
     "text": [
      "C:\\Users\\naman\\AppData\\Local\\Temp\\ipykernel_6796\\1180599731.py:4: FutureWarning: The frame.append method is deprecated and will be removed from pandas in a future version. Use pandas.concat instead.\n",
      "  symb= symb.append(df2, ignore_index = True)\n"
     ]
    },
    {
     "name": "stdout",
     "output_type": "stream",
     "text": [
      "[*********************100%***********************]  1 of 1 completed\n",
      "[*********************100%***********************]  1 of 1 completed\n",
      "[*********************100%***********************]  1 of 1 completed\n",
      "[*********************100%***********************]  1 of 1 completed\n",
      "[*********************100%***********************]  1 of 1 completed\n",
      "[*********************100%***********************]  1 of 1 completed\n",
      "[*********************100%***********************]  1 of 1 completed\n",
      "[*********************100%***********************]  1 of 1 completed\n",
      "{'Stock': 'JINDALSTEL.NS', 'P035': 8321.705360264326, 'P05': 8238.507110443896, 'P1': 6322.080035100596, 'P2': 3959.5089111813145, 'P35': 155.85498484148272, 'R05': 261.4928895561046, 'R1': 2177.919964899404, 'R03': 171.29762566574067, 'R0': 33.72465449631491}\n",
      "JUBLFOOD.NS\n"
     ]
    },
    {
     "name": "stderr",
     "output_type": "stream",
     "text": [
      "C:\\Users\\naman\\AppData\\Local\\Temp\\ipykernel_6796\\1180599731.py:4: FutureWarning: The frame.append method is deprecated and will be removed from pandas in a future version. Use pandas.concat instead.\n",
      "  symb= symb.append(df2, ignore_index = True)\n"
     ]
    },
    {
     "name": "stdout",
     "output_type": "stream",
     "text": [
      "[*********************100%***********************]  1 of 1 completed\n",
      "[*********************100%***********************]  1 of 1 completed\n",
      "[*********************100%***********************]  1 of 1 completed\n",
      "[*********************100%***********************]  1 of 1 completed\n",
      "[*********************100%***********************]  1 of 1 completed\n",
      "[*********************100%***********************]  1 of 1 completed\n",
      "[*********************100%***********************]  1 of 1 completed\n",
      "[*********************100%***********************]  1 of 1 completed\n",
      "{'Stock': 'JUBLFOOD.NS', 'P035': 7861.474846375356, 'P05': 7781.655234144828, 'P1': 6113.384327237352, 'P2': 4413.280022997246, 'P35': 183.00765445367261, 'R05': 718.3447658551727, 'R1': 2386.615672762648, 'R03': 630.4773292299361, 'R0': 383.43020460006613}\n",
      "KOTAKBANK.NS\n"
     ]
    },
    {
     "name": "stderr",
     "output_type": "stream",
     "text": [
      "C:\\Users\\naman\\AppData\\Local\\Temp\\ipykernel_6796\\1180599731.py:4: FutureWarning: The frame.append method is deprecated and will be removed from pandas in a future version. Use pandas.concat instead.\n",
      "  symb= symb.append(df2, ignore_index = True)\n"
     ]
    },
    {
     "name": "stdout",
     "output_type": "stream",
     "text": [
      "[*********************100%***********************]  1 of 1 completed\n",
      "[*********************100%***********************]  1 of 1 completed\n",
      "[*********************100%***********************]  1 of 1 completed\n",
      "[*********************100%***********************]  1 of 1 completed\n",
      "[*********************100%***********************]  1 of 1 completed\n",
      "[*********************100%***********************]  1 of 1 completed\n",
      "[*********************100%***********************]  1 of 1 completed\n",
      "[*********************100%***********************]  1 of 1 completed\n",
      "{'Stock': 'KOTAKBANK.NS', 'P035': 6843.20238447885, 'P05': 5603.603358891037, 'P1': 4551.186348213525, 'P2': 1464.4521079545698, 'P35': 94.63603776615255, 'R05': 2896.3966411089623, 'R1': 3948.8136517864755, 'R03': 1649.372532288032, 'R0': 58.51226811056762}\n",
      "L&TFH.NS\n"
     ]
    },
    {
     "name": "stderr",
     "output_type": "stream",
     "text": [
      "C:\\Users\\naman\\AppData\\Local\\Temp\\ipykernel_6796\\1180599731.py:4: FutureWarning: The frame.append method is deprecated and will be removed from pandas in a future version. Use pandas.concat instead.\n",
      "  symb= symb.append(df2, ignore_index = True)\n"
     ]
    },
    {
     "name": "stdout",
     "output_type": "stream",
     "text": [
      "[*********************100%***********************]  1 of 1 completed\n",
      "[*********************100%***********************]  1 of 1 completed\n",
      "[*********************100%***********************]  1 of 1 completed\n",
      "[*********************100%***********************]  1 of 1 completed\n",
      "[*********************100%***********************]  1 of 1 completed\n",
      "[*********************100%***********************]  1 of 1 completed\n",
      "[*********************100%***********************]  1 of 1 completed\n",
      "[*********************100%***********************]  1 of 1 completed\n",
      "{'Stock': 'L&TFH.NS', 'P035': 8104.704619041644, 'P05': 6934.550521359437, 'P1': 4387.769746574186, 'P2': 2837.4005521034974, 'P35': 1287.0061039652999, 'R05': 1565.4494786405633, 'R1': 4112.230253425814, 'R03': 373.5488960094911, 'R0': 14.846087524178033}\n",
      "LTTS.NS\n"
     ]
    },
    {
     "name": "stderr",
     "output_type": "stream",
     "text": [
      "C:\\Users\\naman\\AppData\\Local\\Temp\\ipykernel_6796\\1180599731.py:4: FutureWarning: The frame.append method is deprecated and will be removed from pandas in a future version. Use pandas.concat instead.\n",
      "  symb= symb.append(df2, ignore_index = True)\n"
     ]
    },
    {
     "name": "stdout",
     "output_type": "stream",
     "text": [
      "[*********************100%***********************]  1 of 1 completed\n",
      "[*********************100%***********************]  1 of 1 completed\n",
      "[*********************100%***********************]  1 of 1 completed\n",
      "[*********************100%***********************]  1 of 1 completed\n",
      "[*********************100%***********************]  1 of 1 completed\n",
      "[*********************100%***********************]  1 of 1 completed\n",
      "[*********************100%***********************]  1 of 1 completed\n",
      "[*********************100%***********************]  1 of 1 completed\n",
      "{'Stock': 'LTTS.NS', 'P035': 7266.743497748835, 'P05': 6078.59896782247, 'P1': 5153.888816161037, 'P2': 3148.2019937080713, 'P35': 138.2216597915313, 'R05': 2421.4010321775304, 'R1': 3346.111183838963, 'R03': 1229.747691016554, 'R0': 1180.3280012188948}\n",
      "LICHSGFIN.NS\n"
     ]
    },
    {
     "name": "stderr",
     "output_type": "stream",
     "text": [
      "C:\\Users\\naman\\AppData\\Local\\Temp\\ipykernel_6796\\1180599731.py:4: FutureWarning: The frame.append method is deprecated and will be removed from pandas in a future version. Use pandas.concat instead.\n",
      "  symb= symb.append(df2, ignore_index = True)\n"
     ]
    },
    {
     "name": "stdout",
     "output_type": "stream",
     "text": [
      "[*********************100%***********************]  1 of 1 completed\n",
      "[*********************100%***********************]  1 of 1 completed\n",
      "[*********************100%***********************]  1 of 1 completed\n",
      "[*********************100%***********************]  1 of 1 completed\n",
      "[*********************100%***********************]  1 of 1 completed\n",
      "[*********************100%***********************]  1 of 1 completed\n",
      "[*********************100%***********************]  1 of 1 completed\n",
      "[*********************100%***********************]  1 of 1 completed\n",
      "{'Stock': 'LICHSGFIN.NS', 'P035': 8115.090691368883, 'P05': 8006.594108321025, 'P1': 5769.637925173094, 'P2': 2978.4676146608194, 'P35': 1198.9168944920013, 'R05': 493.40589167897645, 'R1': 2730.362074826906, 'R03': 377.7110873177242, 'R0': 9.92857748990411}\n",
      "LTI.NS\n"
     ]
    },
    {
     "name": "stderr",
     "output_type": "stream",
     "text": [
      "C:\\Users\\naman\\AppData\\Local\\Temp\\ipykernel_6796\\1180599731.py:4: FutureWarning: The frame.append method is deprecated and will be removed from pandas in a future version. Use pandas.concat instead.\n",
      "  symb= symb.append(df2, ignore_index = True)\n"
     ]
    },
    {
     "name": "stdout",
     "output_type": "stream",
     "text": [
      "[*********************100%***********************]  1 of 1 completed\n",
      "[*********************100%***********************]  1 of 1 completed\n",
      "[*********************100%***********************]  1 of 1 completed\n",
      "[*********************100%***********************]  1 of 1 completed\n",
      "[*********************100%***********************]  1 of 1 completed\n",
      "[*********************100%***********************]  1 of 1 completed\n",
      "[*********************100%***********************]  1 of 1 completed\n",
      "[*********************100%***********************]  1 of 1 completed\n",
      "{'Stock': 'LTI.NS', 'P035': 8056.951771202377, 'P05': 8005.722404702967, 'P1': 6591.45318185465, 'P2': 1862.895439936437, 'P35': 40.79454595854039, 'R05': 494.27759529703326, 'R1': 1908.5468181453498, 'R03': 433.10107275619697, 'R0': 131.26930540460842}\n",
      "LT.NS\n"
     ]
    },
    {
     "name": "stderr",
     "output_type": "stream",
     "text": [
      "C:\\Users\\naman\\AppData\\Local\\Temp\\ipykernel_6796\\1180599731.py:4: FutureWarning: The frame.append method is deprecated and will be removed from pandas in a future version. Use pandas.concat instead.\n",
      "  symb= symb.append(df2, ignore_index = True)\n"
     ]
    },
    {
     "name": "stdout",
     "output_type": "stream",
     "text": [
      "[*********************100%***********************]  1 of 1 completed\n",
      "[*********************100%***********************]  1 of 1 completed\n",
      "[*********************100%***********************]  1 of 1 completed\n",
      "[*********************100%***********************]  1 of 1 completed\n",
      "[*********************100%***********************]  1 of 1 completed\n",
      "[*********************100%***********************]  1 of 1 completed\n",
      "[*********************100%***********************]  1 of 1 completed\n",
      "[*********************100%***********************]  1 of 1 completed\n",
      "{'Stock': 'LT.NS', 'P035': 6974.26633206817, 'P05': 6486.702933383375, 'P1': 4922.670680146443, 'P2': 2428.5865474148304, 'P35': 13.947453033543564, 'R05': 2013.2299975354729, 'R1': 3577.3293198535566, 'R03': 1503.4950419213112, 'R0': 1146.8652022265996}\n",
      "LAURUSLABS.NS\n"
     ]
    },
    {
     "name": "stderr",
     "output_type": "stream",
     "text": [
      "C:\\Users\\naman\\AppData\\Local\\Temp\\ipykernel_6796\\1180599731.py:4: FutureWarning: The frame.append method is deprecated and will be removed from pandas in a future version. Use pandas.concat instead.\n",
      "  symb= symb.append(df2, ignore_index = True)\n"
     ]
    },
    {
     "name": "stdout",
     "output_type": "stream",
     "text": [
      "[*********************100%***********************]  1 of 1 completed\n",
      "[*********************100%***********************]  1 of 1 completed\n",
      "[*********************100%***********************]  1 of 1 completed\n",
      "[*********************100%***********************]  1 of 1 completed\n",
      "[*********************100%***********************]  1 of 1 completed\n",
      "[*********************100%***********************]  1 of 1 completed\n",
      "[*********************100%***********************]  1 of 1 completed\n",
      "[*********************100%***********************]  1 of 1 completed\n",
      "{'Stock': 'LAURUSLABS.NS', 'P035': 7953.357146926108, 'P05': 7532.807704456969, 'P1': 6178.952489591511, 'P2': 3104.281791699701, 'P35': 172.03592643811683, 'R05': 967.192295543032, 'R1': 2321.047510408489, 'R03': 464.61151406870954, 'R0': 13.523462812416286}\n",
      "LUPIN.NS\n"
     ]
    },
    {
     "name": "stderr",
     "output_type": "stream",
     "text": [
      "C:\\Users\\naman\\AppData\\Local\\Temp\\ipykernel_6796\\1180599731.py:4: FutureWarning: The frame.append method is deprecated and will be removed from pandas in a future version. Use pandas.concat instead.\n",
      "  symb= symb.append(df2, ignore_index = True)\n"
     ]
    },
    {
     "name": "stdout",
     "output_type": "stream",
     "text": [
      "[*********************100%***********************]  1 of 1 completed\n",
      "[*********************100%***********************]  1 of 1 completed\n",
      "[*********************100%***********************]  1 of 1 completed\n",
      "[*********************100%***********************]  1 of 1 completed\n",
      "[*********************100%***********************]  1 of 1 completed\n",
      "[*********************100%***********************]  1 of 1 completed\n",
      "[*********************100%***********************]  1 of 1 completed\n",
      "[*********************100%***********************]  1 of 1 completed\n",
      "{'Stock': 'LUPIN.NS', 'P035': 6358.831609542966, 'P05': 6314.71135029167, 'P1': 5881.823435020815, 'P2': 5165.698906467118, 'P35': 2402.285970327863, 'R05': 2185.2886497083305, 'R1': 2618.176564979185, 'R03': 2132.4732519838467, 'R0': 129.0114299788578}\n",
      "MRF.NS\n"
     ]
    },
    {
     "name": "stderr",
     "output_type": "stream",
     "text": [
      "C:\\Users\\naman\\AppData\\Local\\Temp\\ipykernel_6796\\1180599731.py:4: FutureWarning: The frame.append method is deprecated and will be removed from pandas in a future version. Use pandas.concat instead.\n",
      "  symb= symb.append(df2, ignore_index = True)\n"
     ]
    },
    {
     "name": "stdout",
     "output_type": "stream",
     "text": [
      "[*********************100%***********************]  1 of 1 completed\n",
      "[*********************100%***********************]  1 of 1 completed\n",
      "[*********************100%***********************]  1 of 1 completed\n",
      "[*********************100%***********************]  1 of 1 completed\n",
      "[*********************100%***********************]  1 of 1 completed\n",
      "[*********************100%***********************]  1 of 1 completed\n",
      "[*********************100%***********************]  1 of 1 completed\n",
      "[*********************100%***********************]  1 of 1 completed\n",
      "{'Stock': 'MRF.NS', 'P035': 6502.102777564677, 'P05': 6281.115849721897, 'P1': 5431.022222563506, 'P2': 1675.3260624458326, 'P35': 99.97699714186705, 'R05': 2218.884150278104, 'R1': 3068.284429131378, 'R03': 1903.1049298929718, 'R0': 1435.5712030836364}\n",
      "M&MFIN.NS\n"
     ]
    },
    {
     "name": "stderr",
     "output_type": "stream",
     "text": [
      "C:\\Users\\naman\\AppData\\Local\\Temp\\ipykernel_6796\\1180599731.py:4: FutureWarning: The frame.append method is deprecated and will be removed from pandas in a future version. Use pandas.concat instead.\n",
      "  symb= symb.append(df2, ignore_index = True)\n"
     ]
    },
    {
     "name": "stdout",
     "output_type": "stream",
     "text": [
      "[*********************100%***********************]  1 of 1 completed\n",
      "[*********************100%***********************]  1 of 1 completed\n",
      "[*********************100%***********************]  1 of 1 completed\n",
      "[*********************100%***********************]  1 of 1 completed\n",
      "[*********************100%***********************]  1 of 1 completed\n",
      "[*********************100%***********************]  1 of 1 completed\n",
      "[*********************100%***********************]  1 of 1 completed\n",
      "[*********************100%***********************]  1 of 1 completed\n",
      "{'Stock': 'M&MFIN.NS', 'P035': 8374.624400498626, 'P05': 7983.151887030739, 'P1': 6287.732275028671, 'P2': 5459.9949296864, 'P35': 2402.8049545551758, 'R05': 516.8481129692606, 'R1': 2212.2677249713292, 'R03': 116.90324400585241, 'R0': 14.24030227504885}\n",
      "M&M.NS\n"
     ]
    },
    {
     "name": "stderr",
     "output_type": "stream",
     "text": [
      "C:\\Users\\naman\\AppData\\Local\\Temp\\ipykernel_6796\\1180599731.py:4: FutureWarning: The frame.append method is deprecated and will be removed from pandas in a future version. Use pandas.concat instead.\n",
      "  symb= symb.append(df2, ignore_index = True)\n"
     ]
    },
    {
     "name": "stdout",
     "output_type": "stream",
     "text": [
      "[*********************100%***********************]  1 of 1 completed\n",
      "[*********************100%***********************]  1 of 1 completed\n",
      "[*********************100%***********************]  1 of 1 completed\n",
      "[*********************100%***********************]  1 of 1 completed\n",
      "[*********************100%***********************]  1 of 1 completed\n",
      "[*********************100%***********************]  1 of 1 completed\n",
      "[*********************100%***********************]  1 of 1 completed\n",
      "[*********************100%***********************]  1 of 1 completed\n",
      "{'Stock': 'M&M.NS', 'P035': 8134.818057500986, 'P05': 6888.847641763054, 'P1': 5979.056586506316, 'P2': 2649.5396316738506, 'P35': 65.8455949211793, 'R05': 1611.1523582369466, 'R1': 2520.943413493686, 'R03': 325.8024873256543, 'R0': 197.11832826953193}\n",
      "MANAPPURAM.NS\n"
     ]
    },
    {
     "name": "stderr",
     "output_type": "stream",
     "text": [
      "C:\\Users\\naman\\AppData\\Local\\Temp\\ipykernel_6796\\1180599731.py:4: FutureWarning: The frame.append method is deprecated and will be removed from pandas in a future version. Use pandas.concat instead.\n",
      "  symb= symb.append(df2, ignore_index = True)\n"
     ]
    },
    {
     "name": "stdout",
     "output_type": "stream",
     "text": [
      "[*********************100%***********************]  1 of 1 completed\n",
      "[*********************100%***********************]  1 of 1 completed\n",
      "[*********************100%***********************]  1 of 1 completed\n",
      "[*********************100%***********************]  1 of 1 completed\n",
      "[*********************100%***********************]  1 of 1 completed\n",
      "[*********************100%***********************]  1 of 1 completed\n",
      "[*********************100%***********************]  1 of 1 completed\n",
      "[*********************100%***********************]  1 of 1 completed\n",
      "{'Stock': 'MANAPPURAM.NS', 'P035': 7655.246655772542, 'P05': 7546.014228255305, 'P1': 3231.612978999056, 'P2': 1677.5823614158235, 'P35': 77.03888858993196, 'R05': 953.9857717446947, 'R1': 5267.693672695829, 'R03': 819.0730904879412, 'R0': 22.28866754944348}\n",
      "MARICO.NS\n"
     ]
    },
    {
     "name": "stderr",
     "output_type": "stream",
     "text": [
      "C:\\Users\\naman\\AppData\\Local\\Temp\\ipykernel_6796\\1180599731.py:4: FutureWarning: The frame.append method is deprecated and will be removed from pandas in a future version. Use pandas.concat instead.\n",
      "  symb= symb.append(df2, ignore_index = True)\n"
     ]
    },
    {
     "name": "stdout",
     "output_type": "stream",
     "text": [
      "[*********************100%***********************]  1 of 1 completed\n",
      "[*********************100%***********************]  1 of 1 completed\n",
      "[*********************100%***********************]  1 of 1 completed\n",
      "[*********************100%***********************]  1 of 1 completed\n",
      "[*********************100%***********************]  1 of 1 completed\n",
      "[*********************100%***********************]  1 of 1 completed\n",
      "[*********************100%***********************]  1 of 1 completed\n",
      "[*********************100%***********************]  1 of 1 completed\n",
      "{'Stock': 'MARICO.NS', 'P035': 5519.916007986331, 'P05': 4254.748936261648, 'P1': 2725.2375415435904, 'P2': 2275.7299247019296, 'P35': 83.23786322647109, 'R05': 4245.251063738353, 'R1': 5774.762458456409, 'R03': 1836.101748252947, 'R0': 1537.8291596000577}\n",
      "MARUTI.NS\n"
     ]
    },
    {
     "name": "stderr",
     "output_type": "stream",
     "text": [
      "C:\\Users\\naman\\AppData\\Local\\Temp\\ipykernel_6796\\1180599731.py:4: FutureWarning: The frame.append method is deprecated and will be removed from pandas in a future version. Use pandas.concat instead.\n",
      "  symb= symb.append(df2, ignore_index = True)\n"
     ]
    },
    {
     "name": "stdout",
     "output_type": "stream",
     "text": [
      "[*********************100%***********************]  1 of 1 completed\n",
      "[*********************100%***********************]  1 of 1 completed\n",
      "[*********************100%***********************]  1 of 1 completed\n",
      "[*********************100%***********************]  1 of 1 completed\n",
      "[*********************100%***********************]  1 of 1 completed\n",
      "[*********************100%***********************]  1 of 1 completed\n",
      "[*********************100%***********************]  1 of 1 completed\n",
      "[*********************100%***********************]  1 of 1 completed\n",
      "{'Stock': 'MARUTI.NS', 'P035': 5381.843564417886, 'P05': 5221.950398547326, 'P1': 3543.0439619405124, 'P2': 1632.2660777058934, 'P35': 16.098645972101007, 'R05': 3278.0496014526743, 'R1': 4956.531506958673, 'R03': 1971.4259123975087, 'R0': 1456.2189280577793}\n",
      "MFSL.NS\n"
     ]
    },
    {
     "name": "stderr",
     "output_type": "stream",
     "text": [
      "C:\\Users\\naman\\AppData\\Local\\Temp\\ipykernel_6796\\1180599731.py:4: FutureWarning: The frame.append method is deprecated and will be removed from pandas in a future version. Use pandas.concat instead.\n",
      "  symb= symb.append(df2, ignore_index = True)\n"
     ]
    },
    {
     "name": "stdout",
     "output_type": "stream",
     "text": [
      "[*********************100%***********************]  1 of 1 completed\n",
      "[*********************100%***********************]  1 of 1 completed\n",
      "[*********************100%***********************]  1 of 1 completed\n",
      "[*********************100%***********************]  1 of 1 completed\n",
      "[*********************100%***********************]  1 of 1 completed\n",
      "[*********************100%***********************]  1 of 1 completed\n",
      "[*********************100%***********************]  1 of 1 completed\n",
      "[*********************100%***********************]  1 of 1 completed\n",
      "{'Stock': 'MFSL.NS', 'P035': 7204.071364350666, 'P05': 6882.1989518052105, 'P1': 3059.613022216701, 'P2': 1509.4015191070407, 'P35': 123.136843506831, 'R05': 1617.8010481947904, 'R1': 5440.386977783299, 'R03': 1289.4237626410577, 'R0': 36.789336360424564}\n",
      "MAXHEALTH.NS\n"
     ]
    },
    {
     "name": "stderr",
     "output_type": "stream",
     "text": [
      "C:\\Users\\naman\\AppData\\Local\\Temp\\ipykernel_6796\\1180599731.py:4: FutureWarning: The frame.append method is deprecated and will be removed from pandas in a future version. Use pandas.concat instead.\n",
      "  symb= symb.append(df2, ignore_index = True)\n"
     ]
    },
    {
     "name": "stdout",
     "output_type": "stream",
     "text": [
      "[*********************100%***********************]  1 of 1 completed\n",
      "[*********************100%***********************]  1 of 1 completed\n",
      "[*********************100%***********************]  1 of 1 completed\n",
      "[*********************100%***********************]  1 of 1 completed\n",
      "[*********************100%***********************]  1 of 1 completed\n",
      "[*********************100%***********************]  1 of 1 completed\n",
      "[*********************100%***********************]  1 of 1 completed\n",
      "[*********************100%***********************]  1 of 1 completed\n",
      "{'Stock': 'MAXHEALTH.NS', 'P035': 8353.62665834942, 'P05': 8190.371628135795, 'P1': 5461.652187118259, 'P2': 3285.495554845961, 'P35': 1694.1131232042678, 'R05': 309.62837186420575, 'R1': 3038.3478128817424, 'R03': 143.71305173790697, 'R0': 49.688507001959906}\n",
      "METROPOLIS.NS\n"
     ]
    },
    {
     "name": "stderr",
     "output_type": "stream",
     "text": [
      "C:\\Users\\naman\\AppData\\Local\\Temp\\ipykernel_6796\\1180599731.py:4: FutureWarning: The frame.append method is deprecated and will be removed from pandas in a future version. Use pandas.concat instead.\n",
      "  symb= symb.append(df2, ignore_index = True)\n"
     ]
    },
    {
     "name": "stdout",
     "output_type": "stream",
     "text": [
      "[*********************100%***********************]  1 of 1 completed\n",
      "[*********************100%***********************]  1 of 1 completed\n",
      "[*********************100%***********************]  1 of 1 completed\n",
      "[*********************100%***********************]  1 of 1 completed\n",
      "[*********************100%***********************]  1 of 1 completed\n",
      "[*********************100%***********************]  1 of 1 completed\n",
      "[*********************100%***********************]  1 of 1 completed\n",
      "[*********************100%***********************]  1 of 1 completed\n",
      "{'Stock': 'METROPOLIS.NS', 'P035': 7051.20995183894, 'P05': 6989.527443931135, 'P1': 4192.03502404457, 'P2': 2725.2173480474507, 'P35': 779.3557715646101, 'R05': 1510.4725560688655, 'R1': 4307.96497595543, 'R03': 1446.1513339825956, 'R0': 186.27853210284317}\n",
      "MINDTREE.NS\n"
     ]
    },
    {
     "name": "stderr",
     "output_type": "stream",
     "text": [
      "C:\\Users\\naman\\AppData\\Local\\Temp\\ipykernel_6796\\1180599731.py:4: FutureWarning: The frame.append method is deprecated and will be removed from pandas in a future version. Use pandas.concat instead.\n",
      "  symb= symb.append(df2, ignore_index = True)\n"
     ]
    },
    {
     "name": "stdout",
     "output_type": "stream",
     "text": [
      "[*********************100%***********************]  1 of 1 completed\n",
      "[*********************100%***********************]  1 of 1 completed\n",
      "[*********************100%***********************]  1 of 1 completed\n",
      "[*********************100%***********************]  1 of 1 completed\n",
      "[*********************100%***********************]  1 of 1 completed\n",
      "[*********************100%***********************]  1 of 1 completed\n",
      "[*********************100%***********************]  1 of 1 completed\n",
      "[*********************100%***********************]  1 of 1 completed\n",
      "{'Stock': 'MINDTREE.NS', 'P035': 8106.21832213682, 'P05': 8002.953674098945, 'P1': 6696.653236882909, 'P2': 4014.4242417098876, 'P35': 66.47653676157948, 'R05': 497.04632590105496, 'R1': 1803.3467631170913, 'R03': 366.827830821222, 'R0': 74.53972326476307}\n",
      "MPHASIS.NS\n"
     ]
    },
    {
     "name": "stderr",
     "output_type": "stream",
     "text": [
      "C:\\Users\\naman\\AppData\\Local\\Temp\\ipykernel_6796\\1180599731.py:4: FutureWarning: The frame.append method is deprecated and will be removed from pandas in a future version. Use pandas.concat instead.\n",
      "  symb= symb.append(df2, ignore_index = True)\n"
     ]
    },
    {
     "name": "stdout",
     "output_type": "stream",
     "text": [
      "[*********************100%***********************]  1 of 1 completed\n",
      "[*********************100%***********************]  1 of 1 completed\n",
      "[*********************100%***********************]  1 of 1 completed\n",
      "[*********************100%***********************]  1 of 1 completed\n",
      "[*********************100%***********************]  1 of 1 completed\n",
      "[*********************100%***********************]  1 of 1 completed\n",
      "[*********************100%***********************]  1 of 1 completed\n",
      "[*********************100%***********************]  1 of 1 completed\n",
      "{'Stock': 'MPHASIS.NS', 'P035': 8158.750364558682, 'P05': 5864.617004738875, 'P1': 5400.275588376613, 'P2': 3358.010329622942, 'P35': 104.02864628120801, 'R05': 2635.3829952611263, 'R1': 3099.724411623387, 'R03': 332.6221069289705, 'R0': 48.92545684702642}\n",
      "MUTHOOTFIN.NS\n"
     ]
    },
    {
     "name": "stderr",
     "output_type": "stream",
     "text": [
      "C:\\Users\\naman\\AppData\\Local\\Temp\\ipykernel_6796\\1180599731.py:4: FutureWarning: The frame.append method is deprecated and will be removed from pandas in a future version. Use pandas.concat instead.\n",
      "  symb= symb.append(df2, ignore_index = True)\n"
     ]
    },
    {
     "name": "stdout",
     "output_type": "stream",
     "text": [
      "[*********************100%***********************]  1 of 1 completed\n",
      "[*********************100%***********************]  1 of 1 completed\n",
      "[*********************100%***********************]  1 of 1 completed\n",
      "[*********************100%***********************]  1 of 1 completed\n",
      "[*********************100%***********************]  1 of 1 completed\n",
      "[*********************100%***********************]  1 of 1 completed\n",
      "[*********************100%***********************]  1 of 1 completed\n",
      "[*********************100%***********************]  1 of 1 completed\n",
      "{'Stock': 'MUTHOOTFIN.NS', 'P035': 7381.140291838832, 'P05': 7283.7778003725625, 'P1': 4609.970871060703, 'P2': 1892.4093238361386, 'P35': 1473.7391497999424, 'R05': 1216.2221996274382, 'R1': 3890.029128939297, 'R03': 1104.0416171917898, 'R0': 703.7802313636925}\n",
      "NMDC.NS\n"
     ]
    },
    {
     "name": "stderr",
     "output_type": "stream",
     "text": [
      "C:\\Users\\naman\\AppData\\Local\\Temp\\ipykernel_6796\\1180599731.py:4: FutureWarning: The frame.append method is deprecated and will be removed from pandas in a future version. Use pandas.concat instead.\n",
      "  symb= symb.append(df2, ignore_index = True)\n"
     ]
    },
    {
     "name": "stdout",
     "output_type": "stream",
     "text": [
      "[*********************100%***********************]  1 of 1 completed\n",
      "[*********************100%***********************]  1 of 1 completed\n",
      "[*********************100%***********************]  1 of 1 completed\n",
      "[*********************100%***********************]  1 of 1 completed\n",
      "[*********************100%***********************]  1 of 1 completed\n",
      "[*********************100%***********************]  1 of 1 completed\n",
      "[*********************100%***********************]  1 of 1 completed\n",
      "[*********************100%***********************]  1 of 1 completed\n",
      "{'Stock': 'NMDC.NS', 'P035': 6819.746959027478, 'P05': 6711.700561756698, 'P1': 4043.464184856255, 'P2': 2277.133074833792, 'P35': 129.0110035236332, 'R05': 1788.2994382433023, 'R1': 4456.535815143746, 'R03': 1674.0624785154923, 'R0': 407.4340240949948}\n",
      "NTPC.NS\n"
     ]
    },
    {
     "name": "stderr",
     "output_type": "stream",
     "text": [
      "C:\\Users\\naman\\AppData\\Local\\Temp\\ipykernel_6796\\1180599731.py:4: FutureWarning: The frame.append method is deprecated and will be removed from pandas in a future version. Use pandas.concat instead.\n",
      "  symb= symb.append(df2, ignore_index = True)\n"
     ]
    },
    {
     "name": "stdout",
     "output_type": "stream",
     "text": [
      "[*********************100%***********************]  1 of 1 completed\n",
      "[*********************100%***********************]  1 of 1 completed\n",
      "[*********************100%***********************]  1 of 1 completed\n",
      "[*********************100%***********************]  1 of 1 completed\n",
      "[*********************100%***********************]  1 of 1 completed\n",
      "[*********************100%***********************]  1 of 1 completed\n",
      "[*********************100%***********************]  1 of 1 completed\n",
      "[*********************100%***********************]  1 of 1 completed\n",
      "{'Stock': 'NTPC.NS', 'P035': 8340.272571073207, 'P05': 8126.7763493713055, 'P1': 5773.8208241396105, 'P2': 1403.316204643543, 'P35': 106.6848144571282, 'R05': 373.1565815475415, 'R1': 2726.1791758603895, 'R03': 85.83255913167783, 'R0': 21.72711552809924}\n",
      "NATIONALUM.NS\n"
     ]
    },
    {
     "name": "stderr",
     "output_type": "stream",
     "text": [
      "C:\\Users\\naman\\AppData\\Local\\Temp\\ipykernel_6796\\1180599731.py:4: FutureWarning: The frame.append method is deprecated and will be removed from pandas in a future version. Use pandas.concat instead.\n",
      "  symb= symb.append(df2, ignore_index = True)\n"
     ]
    },
    {
     "name": "stdout",
     "output_type": "stream",
     "text": [
      "[*********************100%***********************]  1 of 1 completed\n",
      "[*********************100%***********************]  1 of 1 completed\n",
      "[*********************100%***********************]  1 of 1 completed\n",
      "[*********************100%***********************]  1 of 1 completed\n",
      "[*********************100%***********************]  1 of 1 completed\n",
      "[*********************100%***********************]  1 of 1 completed\n",
      "[*********************100%***********************]  1 of 1 completed\n",
      "[*********************100%***********************]  1 of 1 completed\n",
      "{'Stock': 'NATIONALUM.NS', 'P035': 5886.340827888326, 'P05': 5476.517537398399, 'P1': 3662.290704475549, 'P2': 1812.069658661314, 'P35': 1289.7572450067714, 'R05': 3023.4824626016007, 'R1': 4837.709295524451, 'R03': 2603.0432406820255, 'R0': 1335.351027336582}\n",
      "NAVINFLUOR.NS\n"
     ]
    },
    {
     "name": "stderr",
     "output_type": "stream",
     "text": [
      "C:\\Users\\naman\\AppData\\Local\\Temp\\ipykernel_6796\\1180599731.py:4: FutureWarning: The frame.append method is deprecated and will be removed from pandas in a future version. Use pandas.concat instead.\n",
      "  symb= symb.append(df2, ignore_index = True)\n"
     ]
    },
    {
     "name": "stdout",
     "output_type": "stream",
     "text": [
      "[*********************100%***********************]  1 of 1 completed\n",
      "[*********************100%***********************]  1 of 1 completed\n",
      "[*********************100%***********************]  1 of 1 completed\n",
      "[*********************100%***********************]  1 of 1 completed\n",
      "[*********************100%***********************]  1 of 1 completed\n",
      "[*********************100%***********************]  1 of 1 completed\n",
      "[*********************100%***********************]  1 of 1 completed\n",
      "[*********************100%***********************]  1 of 1 completed\n",
      "{'Stock': 'NAVINFLUOR.NS', 'P035': 8137.957698080906, 'P05': 8050.415545325323, 'P1': 4361.884252832451, 'P2': 498.82354562816846, 'P35': 186.0814465961343, 'R05': 449.58445467467595, 'R1': 4138.11574716755, 'R03': 332.40724453440635, 'R0': 303.45744920048503}\n",
      "NESTLEIND.NS\n"
     ]
    },
    {
     "name": "stderr",
     "output_type": "stream",
     "text": [
      "C:\\Users\\naman\\AppData\\Local\\Temp\\ipykernel_6796\\1180599731.py:4: FutureWarning: The frame.append method is deprecated and will be removed from pandas in a future version. Use pandas.concat instead.\n",
      "  symb= symb.append(df2, ignore_index = True)\n"
     ]
    },
    {
     "name": "stdout",
     "output_type": "stream",
     "text": [
      "[*********************100%***********************]  1 of 1 completed\n",
      "[*********************100%***********************]  1 of 1 completed\n",
      "[*********************100%***********************]  1 of 1 completed\n",
      "[*********************100%***********************]  1 of 1 completed\n",
      "[*********************100%***********************]  1 of 1 completed\n",
      "[*********************100%***********************]  1 of 1 completed\n",
      "[*********************100%***********************]  1 of 1 completed\n",
      "[*********************100%***********************]  1 of 1 completed\n",
      "{'Stock': 'NESTLEIND.NS', 'P035': 7011.073033667301, 'P05': 6571.567881837443, 'P1': 4824.626781028374, 'P2': 339.16996573441395, 'P35': 7.778466310720113, 'R05': 1928.4321181625583, 'R1': 3675.373218971626, 'R03': 1409.8923444053298, 'R0': 102.97580610865867}\n",
      "NAM-INDIA.NS\n"
     ]
    },
    {
     "name": "stderr",
     "output_type": "stream",
     "text": [
      "C:\\Users\\naman\\AppData\\Local\\Temp\\ipykernel_6796\\1180599731.py:4: FutureWarning: The frame.append method is deprecated and will be removed from pandas in a future version. Use pandas.concat instead.\n",
      "  symb= symb.append(df2, ignore_index = True)\n"
     ]
    },
    {
     "name": "stdout",
     "output_type": "stream",
     "text": [
      "[*********************100%***********************]  1 of 1 completed\n",
      "[*********************100%***********************]  1 of 1 completed\n",
      "[*********************100%***********************]  1 of 1 completed\n",
      "[*********************100%***********************]  1 of 1 completed\n",
      "[*********************100%***********************]  1 of 1 completed\n",
      "[*********************100%***********************]  1 of 1 completed\n",
      "[*********************100%***********************]  1 of 1 completed\n",
      "[*********************100%***********************]  1 of 1 completed\n",
      "{'Stock': 'NAM-INDIA.NS', 'P035': 7926.542895837975, 'P05': 7773.11826587115, 'P1': 6830.205501403696, 'P2': 2735.529785942329, 'P35': 1213.4653345931395, 'R05': 726.8817341288499, 'R1': 1669.7944985963047, 'R03': 548.9623397892783, 'R0': 123.3827104333013}\n",
      "OBEROIRLTY.NS\n"
     ]
    },
    {
     "name": "stderr",
     "output_type": "stream",
     "text": [
      "C:\\Users\\naman\\AppData\\Local\\Temp\\ipykernel_6796\\1180599731.py:4: FutureWarning: The frame.append method is deprecated and will be removed from pandas in a future version. Use pandas.concat instead.\n",
      "  symb= symb.append(df2, ignore_index = True)\n"
     ]
    },
    {
     "name": "stdout",
     "output_type": "stream",
     "text": [
      "[*********************100%***********************]  1 of 1 completed\n",
      "[*********************100%***********************]  1 of 1 completed\n",
      "[*********************100%***********************]  1 of 1 completed\n",
      "[*********************100%***********************]  1 of 1 completed\n",
      "[*********************100%***********************]  1 of 1 completed\n",
      "[*********************100%***********************]  1 of 1 completed\n",
      "[*********************100%***********************]  1 of 1 completed\n",
      "[*********************100%***********************]  1 of 1 completed\n",
      "{'Stock': 'OBEROIRLTY.NS', 'P035': 6976.351537684946, 'P05': 6892.866432988381, 'P1': 5828.538170202326, 'P2': 2903.943979586441, 'P35': 1431.194168692569, 'R05': 1607.1335670116193, 'R1': 2671.4618297976745, 'R03': 1522.3964447468168, 'R0': 16.968202148561307}\n",
      "ONGC.NS\n"
     ]
    },
    {
     "name": "stderr",
     "output_type": "stream",
     "text": [
      "C:\\Users\\naman\\AppData\\Local\\Temp\\ipykernel_6796\\1180599731.py:4: FutureWarning: The frame.append method is deprecated and will be removed from pandas in a future version. Use pandas.concat instead.\n",
      "  symb= symb.append(df2, ignore_index = True)\n"
     ]
    },
    {
     "name": "stdout",
     "output_type": "stream",
     "text": [
      "[*********************100%***********************]  1 of 1 completed\n",
      "[*********************100%***********************]  1 of 1 completed\n",
      "[*********************100%***********************]  1 of 1 completed\n",
      "[*********************100%***********************]  1 of 1 completed\n",
      "[*********************100%***********************]  1 of 1 completed\n",
      "[*********************100%***********************]  1 of 1 completed\n",
      "[*********************100%***********************]  1 of 1 completed\n",
      "[*********************100%***********************]  1 of 1 completed\n",
      "{'Stock': 'ONGC.NS', 'P035': 5728.4129009737835, 'P05': 5710.062081157051, 'P1': 4761.718266325129, 'P2': 3838.41287439223, 'P35': 2331.210456350073, 'R05': 2789.937918842949, 'R1': 3738.281733674871, 'R03': 2478.9713614157317, 'R0': 1181.43880450008}\n",
      "OIL.NS\n"
     ]
    },
    {
     "name": "stderr",
     "output_type": "stream",
     "text": [
      "C:\\Users\\naman\\AppData\\Local\\Temp\\ipykernel_6796\\1180599731.py:4: FutureWarning: The frame.append method is deprecated and will be removed from pandas in a future version. Use pandas.concat instead.\n",
      "  symb= symb.append(df2, ignore_index = True)\n"
     ]
    },
    {
     "name": "stdout",
     "output_type": "stream",
     "text": [
      "[*********************100%***********************]  1 of 1 completed\n",
      "[*********************100%***********************]  1 of 1 completed\n",
      "[*********************100%***********************]  1 of 1 completed\n",
      "[*********************100%***********************]  1 of 1 completed\n",
      "[*********************100%***********************]  1 of 1 completed\n",
      "[*********************100%***********************]  1 of 1 completed\n",
      "[*********************100%***********************]  1 of 1 completed\n",
      "[*********************100%***********************]  1 of 1 completed\n",
      "{'Stock': 'OIL.NS', 'P035': 7278.969990525751, 'P05': 7109.858837967157, 'P1': 6457.595160392758, 'P2': 1640.0621201981894, 'P35': 65.22715196200804, 'R05': 1390.1411620328433, 'R1': 2042.404839607242, 'R03': 1216.848884789039, 'R0': 16.22870519234955}\n",
      "PAYTM.NS\n"
     ]
    },
    {
     "name": "stderr",
     "output_type": "stream",
     "text": [
      "C:\\Users\\naman\\AppData\\Local\\Temp\\ipykernel_6796\\1180599731.py:4: FutureWarning: The frame.append method is deprecated and will be removed from pandas in a future version. Use pandas.concat instead.\n",
      "  symb= symb.append(df2, ignore_index = True)\n"
     ]
    },
    {
     "name": "stdout",
     "output_type": "stream",
     "text": [
      "[*********************100%***********************]  1 of 1 completed\n",
      "[*********************100%***********************]  1 of 1 completed\n",
      "[*********************100%***********************]  1 of 1 completed\n",
      "[*********************100%***********************]  1 of 1 completed\n",
      "[*********************100%***********************]  1 of 1 completed\n",
      "[*********************100%***********************]  1 of 1 completed\n",
      "[*********************100%***********************]  1 of 1 completed\n",
      "[*********************100%***********************]  1 of 1 completed\n",
      "{'Stock': 'PAYTM.NS', 'P035': 6565.342850692527, 'P05': 6461.829792413788, 'P1': 3222.4810885661645, 'P2': 1464.1294602217458, 'P35': 137.69200918443886, 'R05': 2038.1702075862136, 'R1': 5277.5189114338355, 'R03': 1930.128496833616, 'R0': 1199.6648116763472}\n",
      "OFSS.NS\n"
     ]
    },
    {
     "name": "stderr",
     "output_type": "stream",
     "text": [
      "C:\\Users\\naman\\AppData\\Local\\Temp\\ipykernel_6796\\1180599731.py:4: FutureWarning: The frame.append method is deprecated and will be removed from pandas in a future version. Use pandas.concat instead.\n",
      "  symb= symb.append(df2, ignore_index = True)\n"
     ]
    },
    {
     "name": "stdout",
     "output_type": "stream",
     "text": [
      "[*********************100%***********************]  1 of 1 completed\n",
      "[*********************100%***********************]  1 of 1 completed\n",
      "[*********************100%***********************]  1 of 1 completed\n",
      "[*********************100%***********************]  1 of 1 completed\n",
      "[*********************100%***********************]  1 of 1 completed\n",
      "[*********************100%***********************]  1 of 1 completed\n",
      "[*********************100%***********************]  1 of 1 completed\n",
      "[*********************100%***********************]  1 of 1 completed\n",
      "{'Stock': 'OFSS.NS', 'P035': 5434.406465929364, 'P05': 3850.1779969268123, 'P1': 3112.0035863329545, 'P2': 145.46325183369564, 'P35': 20.67522344395031, 'R05': 4649.822003073188, 'R1': 5387.996413667046, 'R03': 2973.0824936870886, 'R0': 1642.1798615365599}\n",
      "POLICYBZR.NS\n"
     ]
    },
    {
     "name": "stderr",
     "output_type": "stream",
     "text": [
      "C:\\Users\\naman\\AppData\\Local\\Temp\\ipykernel_6796\\1180599731.py:4: FutureWarning: The frame.append method is deprecated and will be removed from pandas in a future version. Use pandas.concat instead.\n",
      "  symb= symb.append(df2, ignore_index = True)\n"
     ]
    },
    {
     "name": "stdout",
     "output_type": "stream",
     "text": [
      "[*********************100%***********************]  1 of 1 completed\n",
      "[*********************100%***********************]  1 of 1 completed\n",
      "[*********************100%***********************]  1 of 1 completed\n",
      "[*********************100%***********************]  1 of 1 completed\n",
      "[*********************100%***********************]  1 of 1 completed\n",
      "[*********************100%***********************]  1 of 1 completed\n",
      "[*********************100%***********************]  1 of 1 completed\n",
      "[*********************100%***********************]  1 of 1 completed\n",
      "{'Stock': 'POLICYBZR.NS', 'P035': 7476.820696294381, 'P05': 6312.856978646452, 'P1': 4405.484821800612, 'P2': 1466.8197726092465, 'P35': 252.40375714059925, 'R05': 2187.1430213535477, 'R1': 4094.515178199389, 'R03': 1004.6299614720667, 'R0': 460.6045827098459}\n",
      "PIIND.NS\n"
     ]
    },
    {
     "name": "stderr",
     "output_type": "stream",
     "text": [
      "C:\\Users\\naman\\AppData\\Local\\Temp\\ipykernel_6796\\1180599731.py:4: FutureWarning: The frame.append method is deprecated and will be removed from pandas in a future version. Use pandas.concat instead.\n",
      "  symb= symb.append(df2, ignore_index = True)\n"
     ]
    },
    {
     "name": "stdout",
     "output_type": "stream",
     "text": [
      "[*********************100%***********************]  1 of 1 completed\n",
      "[*********************100%***********************]  1 of 1 completed\n",
      "[*********************100%***********************]  1 of 1 completed\n",
      "[*********************100%***********************]  1 of 1 completed\n",
      "[*********************100%***********************]  1 of 1 completed\n",
      "[*********************100%***********************]  1 of 1 completed\n",
      "[*********************100%***********************]  1 of 1 completed\n",
      "[*********************100%***********************]  1 of 1 completed\n",
      "{'Stock': 'PIIND.NS', 'P035': 6658.768733310745, 'P05': 6641.017997162023, 'P1': 5891.593674591812, 'P2': 2687.16537034311, 'P35': 117.81403622741249, 'R05': 1858.9820028379784, 'R1': 2608.406325408189, 'R03': 1813.9415333618426, 'R0': 1176.1469909581474}\n",
      "PAGEIND.NS\n"
     ]
    },
    {
     "name": "stderr",
     "output_type": "stream",
     "text": [
      "C:\\Users\\naman\\AppData\\Local\\Temp\\ipykernel_6796\\1180599731.py:4: FutureWarning: The frame.append method is deprecated and will be removed from pandas in a future version. Use pandas.concat instead.\n",
      "  symb= symb.append(df2, ignore_index = True)\n"
     ]
    },
    {
     "name": "stdout",
     "output_type": "stream",
     "text": [
      "[*********************100%***********************]  1 of 1 completed\n",
      "[*********************100%***********************]  1 of 1 completed\n",
      "[*********************100%***********************]  1 of 1 completed\n",
      "[*********************100%***********************]  1 of 1 completed\n",
      "[*********************100%***********************]  1 of 1 completed\n",
      "[*********************100%***********************]  1 of 1 completed\n",
      "[*********************100%***********************]  1 of 1 completed\n",
      "[*********************100%***********************]  1 of 1 completed\n",
      "{'Stock': 'PAGEIND.NS', 'P035': 7964.2001945708735, 'P05': 7762.704623444336, 'P1': 4987.835346254307, 'P2': 3045.543130919327, 'P35': 1460.4018537418383, 'R05': 737.2953765556643, 'R1': 3512.1646537456927, 'R03': 532.0432118447302, 'R0': 324.5531964329595}\n",
      "PERSISTENT.NS\n"
     ]
    },
    {
     "name": "stderr",
     "output_type": "stream",
     "text": [
      "C:\\Users\\naman\\AppData\\Local\\Temp\\ipykernel_6796\\1180599731.py:4: FutureWarning: The frame.append method is deprecated and will be removed from pandas in a future version. Use pandas.concat instead.\n",
      "  symb= symb.append(df2, ignore_index = True)\n"
     ]
    },
    {
     "name": "stdout",
     "output_type": "stream",
     "text": [
      "[*********************100%***********************]  1 of 1 completed\n",
      "[*********************100%***********************]  1 of 1 completed\n",
      "[*********************100%***********************]  1 of 1 completed\n",
      "[*********************100%***********************]  1 of 1 completed\n",
      "[*********************100%***********************]  1 of 1 completed\n",
      "[*********************100%***********************]  1 of 1 completed\n",
      "[*********************100%***********************]  1 of 1 completed\n",
      "[*********************100%***********************]  1 of 1 completed\n",
      "{'Stock': 'PERSISTENT.NS', 'P035': 7058.307124922324, 'P05': 7028.870277598411, 'P1': 6712.325550755347, 'P2': 4380.485859522245, 'P35': 57.80740779011124, 'R05': 1471.1297224015898, 'R1': 1787.2499181438397, 'R03': 212.89006773291788, 'R0': 100.37161195873416}\n",
      "PETRONET.NS\n"
     ]
    },
    {
     "name": "stderr",
     "output_type": "stream",
     "text": [
      "C:\\Users\\naman\\AppData\\Local\\Temp\\ipykernel_6796\\1180599731.py:4: FutureWarning: The frame.append method is deprecated and will be removed from pandas in a future version. Use pandas.concat instead.\n",
      "  symb= symb.append(df2, ignore_index = True)\n"
     ]
    },
    {
     "name": "stdout",
     "output_type": "stream",
     "text": [
      "[*********************100%***********************]  1 of 1 completed\n",
      "[*********************100%***********************]  1 of 1 completed\n",
      "[*********************100%***********************]  1 of 1 completed\n",
      "[*********************100%***********************]  1 of 1 completed\n",
      "[*********************100%***********************]  1 of 1 completed\n",
      "[*********************100%***********************]  1 of 1 completed\n",
      "[*********************100%***********************]  1 of 1 completed\n",
      "[*********************100%***********************]  1 of 1 completed\n",
      "{'Stock': 'PETRONET.NS', 'P035': 8218.596383328271, 'P05': 6554.40247975771, 'P1': 3337.93970806743, 'P2': 116.2893586079758, 'P35': 44.87756503041704, 'R05': 1945.5975202422903, 'R1': 5162.06029193257, 'R03': 275.7692671748212, 'R0': 52.72375572643958}\n",
      "PIDILITIND.NS\n"
     ]
    },
    {
     "name": "stderr",
     "output_type": "stream",
     "text": [
      "C:\\Users\\naman\\AppData\\Local\\Temp\\ipykernel_6796\\1180599731.py:4: FutureWarning: The frame.append method is deprecated and will be removed from pandas in a future version. Use pandas.concat instead.\n",
      "  symb= symb.append(df2, ignore_index = True)\n"
     ]
    },
    {
     "name": "stdout",
     "output_type": "stream",
     "text": [
      "[*********************100%***********************]  1 of 1 completed\n",
      "[*********************100%***********************]  1 of 1 completed\n",
      "[*********************100%***********************]  1 of 1 completed\n",
      "[*********************100%***********************]  1 of 1 completed\n",
      "[*********************100%***********************]  1 of 1 completed\n",
      "[*********************100%***********************]  1 of 1 completed\n",
      "[*********************100%***********************]  1 of 1 completed\n",
      "[*********************100%***********************]  1 of 1 completed\n",
      "{'Stock': 'PIDILITIND.NS', 'P035': 3126.324550933657, 'P05': 1876.1520900804583, 'P1': 1517.1290182021448, 'P2': 271.5649013216524, 'P35': 26.66345410345197, 'R05': 6623.847909919541, 'R1': 6982.870981797854, 'R03': 5365.270703531663, 'R0': 1232.8764586735308}\n",
      "PEL.NS\n"
     ]
    },
    {
     "name": "stderr",
     "output_type": "stream",
     "text": [
      "C:\\Users\\naman\\AppData\\Local\\Temp\\ipykernel_6796\\1180599731.py:4: FutureWarning: The frame.append method is deprecated and will be removed from pandas in a future version. Use pandas.concat instead.\n",
      "  symb= symb.append(df2, ignore_index = True)\n"
     ]
    },
    {
     "name": "stdout",
     "output_type": "stream",
     "text": [
      "[*********************100%***********************]  1 of 1 completed\n",
      "[*********************100%***********************]  1 of 1 completed\n",
      "[*********************100%***********************]  1 of 1 completed\n",
      "[*********************100%***********************]  1 of 1 completed\n",
      "[*********************100%***********************]  1 of 1 completed\n",
      "[*********************100%***********************]  1 of 1 completed\n",
      "[*********************100%***********************]  1 of 1 completed\n",
      "[*********************100%***********************]  1 of 1 completed\n",
      "{'Stock': 'PEL.NS', 'P035': 4325.62330200242, 'P05': 4282.532391766155, 'P1': 3708.2923891899486, 'P2': 3008.360744780326, 'P35': 165.88689281043898, 'R05': 4217.467608233845, 'R1': 4791.707610810051, 'R03': 3034.6426480032205, 'R0': 1732.5206676686962}\n",
      "POLYCAB.NS\n"
     ]
    },
    {
     "name": "stderr",
     "output_type": "stream",
     "text": [
      "C:\\Users\\naman\\AppData\\Local\\Temp\\ipykernel_6796\\1180599731.py:4: FutureWarning: The frame.append method is deprecated and will be removed from pandas in a future version. Use pandas.concat instead.\n",
      "  symb= symb.append(df2, ignore_index = True)\n"
     ]
    },
    {
     "name": "stdout",
     "output_type": "stream",
     "text": [
      "[*********************100%***********************]  1 of 1 completed\n",
      "[*********************100%***********************]  1 of 1 completed\n",
      "[*********************100%***********************]  1 of 1 completed\n",
      "[*********************100%***********************]  1 of 1 completed\n",
      "[*********************100%***********************]  1 of 1 completed\n",
      "[*********************100%***********************]  1 of 1 completed\n",
      "[*********************100%***********************]  1 of 1 completed\n",
      "[*********************100%***********************]  1 of 1 completed\n",
      "{'Stock': 'POLYCAB.NS', 'P035': 7165.990137437841, 'P05': 7144.3516667251015, 'P1': 6379.447013042346, 'P2': 2676.7851822626144, 'P35': 1256.6809863483106, 'R05': 1355.648333274899, 'R1': 2120.5529869576544, 'R03': 1312.4190915098072, 'R0': 57.486457157907665}\n",
      "PFC.NS\n"
     ]
    },
    {
     "name": "stderr",
     "output_type": "stream",
     "text": [
      "C:\\Users\\naman\\AppData\\Local\\Temp\\ipykernel_6796\\1180599731.py:4: FutureWarning: The frame.append method is deprecated and will be removed from pandas in a future version. Use pandas.concat instead.\n",
      "  symb= symb.append(df2, ignore_index = True)\n"
     ]
    },
    {
     "name": "stdout",
     "output_type": "stream",
     "text": [
      "[*********************100%***********************]  1 of 1 completed\n",
      "[*********************100%***********************]  1 of 1 completed\n",
      "[*********************100%***********************]  1 of 1 completed\n",
      "[*********************100%***********************]  1 of 1 completed\n",
      "[*********************100%***********************]  1 of 1 completed\n",
      "[*********************100%***********************]  1 of 1 completed\n",
      "[*********************100%***********************]  1 of 1 completed\n",
      "[*********************100%***********************]  1 of 1 completed\n",
      "{'Stock': 'PFC.NS', 'P035': 6688.7226633330565, 'P05': 3977.3058645761425, 'P1': 779.9943956158427, 'P2': 183.41268246274802, 'P35': 10.727526522838915, 'R05': 4522.694135423858, 'R1': 7720.005604384157, 'R03': 1657.4522076365095, 'R0': 1171.8982563120978}\n",
      "POWERGRID.NS\n"
     ]
    },
    {
     "name": "stderr",
     "output_type": "stream",
     "text": [
      "C:\\Users\\naman\\AppData\\Local\\Temp\\ipykernel_6796\\1180599731.py:4: FutureWarning: The frame.append method is deprecated and will be removed from pandas in a future version. Use pandas.concat instead.\n",
      "  symb= symb.append(df2, ignore_index = True)\n"
     ]
    },
    {
     "name": "stdout",
     "output_type": "stream",
     "text": [
      "[*********************100%***********************]  1 of 1 completed\n",
      "[*********************100%***********************]  1 of 1 completed\n",
      "[*********************100%***********************]  1 of 1 completed\n",
      "[*********************100%***********************]  1 of 1 completed\n",
      "[*********************100%***********************]  1 of 1 completed\n",
      "[*********************100%***********************]  1 of 1 completed\n",
      "[*********************100%***********************]  1 of 1 completed\n",
      "[*********************100%***********************]  1 of 1 completed\n",
      "{'Stock': 'POWERGRID.NS', 'P035': 6785.335012632624, 'P05': 6686.136720538416, 'P1': 4879.810889131753, 'P2': 2824.146463452219, 'P35': 1507.9452381062144, 'R05': 1813.8632794615835, 'R1': 3620.1891108682476, 'R03': 1691.531805808282, 'R0': 32.855567569772546}\n",
      "PRESTIGE.NS\n"
     ]
    },
    {
     "name": "stderr",
     "output_type": "stream",
     "text": [
      "C:\\Users\\naman\\AppData\\Local\\Temp\\ipykernel_6796\\1180599731.py:4: FutureWarning: The frame.append method is deprecated and will be removed from pandas in a future version. Use pandas.concat instead.\n",
      "  symb= symb.append(df2, ignore_index = True)\n"
     ]
    },
    {
     "name": "stdout",
     "output_type": "stream",
     "text": [
      "[*********************100%***********************]  1 of 1 completed\n",
      "[*********************100%***********************]  1 of 1 completed\n",
      "[*********************100%***********************]  1 of 1 completed\n",
      "[*********************100%***********************]  1 of 1 completed\n",
      "[*********************100%***********************]  1 of 1 completed\n",
      "[*********************100%***********************]  1 of 1 completed\n",
      "[*********************100%***********************]  1 of 1 completed\n",
      "[*********************100%***********************]  1 of 1 completed\n",
      "{'Stock': 'PRESTIGE.NS', 'P035': 8098.445182198777, 'P05': 7777.333187039592, 'P1': 7343.009944757943, 'P2': 4421.457952795504, 'P35': 1557.8092294342089, 'R05': 722.6668129604092, 'R1': 1156.9900552420572, 'R03': 400.5261240903397, 'R0': 307.6781872917341}\n",
      "PGHH.NS\n"
     ]
    },
    {
     "name": "stderr",
     "output_type": "stream",
     "text": [
      "C:\\Users\\naman\\AppData\\Local\\Temp\\ipykernel_6796\\1180599731.py:4: FutureWarning: The frame.append method is deprecated and will be removed from pandas in a future version. Use pandas.concat instead.\n",
      "  symb= symb.append(df2, ignore_index = True)\n"
     ]
    },
    {
     "name": "stdout",
     "output_type": "stream",
     "text": [
      "[*********************100%***********************]  1 of 1 completed\n",
      "[*********************100%***********************]  1 of 1 completed\n",
      "[*********************100%***********************]  1 of 1 completed\n",
      "[*********************100%***********************]  1 of 1 completed\n",
      "[*********************100%***********************]  1 of 1 completed\n",
      "[*********************100%***********************]  1 of 1 completed\n",
      "[*********************100%***********************]  1 of 1 completed\n",
      "[*********************100%***********************]  1 of 1 completed\n",
      "{'Stock': 'PGHH.NS', 'P035': 6620.177581959826, 'P05': 5385.003570519177, 'P1': 3336.424148420787, 'P2': 250.80879769736424, 'P35': 9.681336019808782, 'R05': 3114.996429480823, 'R1': 5163.575851579213, 'R03': 1795.5343997930768, 'R0': 1207.6778419271807}\n",
      "PNB.NS\n"
     ]
    },
    {
     "name": "stderr",
     "output_type": "stream",
     "text": [
      "C:\\Users\\naman\\AppData\\Local\\Temp\\ipykernel_6796\\1180599731.py:4: FutureWarning: The frame.append method is deprecated and will be removed from pandas in a future version. Use pandas.concat instead.\n",
      "  symb= symb.append(df2, ignore_index = True)\n"
     ]
    },
    {
     "name": "stdout",
     "output_type": "stream",
     "text": [
      "[*********************100%***********************]  1 of 1 completed\n",
      "[*********************100%***********************]  1 of 1 completed\n",
      "[*********************100%***********************]  1 of 1 completed\n",
      "[*********************100%***********************]  1 of 1 completed\n",
      "[*********************100%***********************]  1 of 1 completed\n",
      "[*********************100%***********************]  1 of 1 completed\n",
      "[*********************100%***********************]  1 of 1 completed\n",
      "[*********************100%***********************]  1 of 1 completed\n",
      "{'Stock': 'PNB.NS', 'P035': 6972.414230831922, 'P05': 5439.370784982369, 'P1': 3817.7035779577664, 'P2': 2325.336248321067, 'P35': 211.99977379202454, 'R05': 3060.629215017632, 'R1': 4682.296422042233, 'R03': 1510.892493013649, 'R0': 1430.6291201324714}\n",
      "RECLTD.NS\n"
     ]
    },
    {
     "name": "stderr",
     "output_type": "stream",
     "text": [
      "C:\\Users\\naman\\AppData\\Local\\Temp\\ipykernel_6796\\1180599731.py:4: FutureWarning: The frame.append method is deprecated and will be removed from pandas in a future version. Use pandas.concat instead.\n",
      "  symb= symb.append(df2, ignore_index = True)\n"
     ]
    },
    {
     "name": "stdout",
     "output_type": "stream",
     "text": [
      "[*********************100%***********************]  1 of 1 completed\n",
      "[*********************100%***********************]  1 of 1 completed\n",
      "[*********************100%***********************]  1 of 1 completed\n",
      "[*********************100%***********************]  1 of 1 completed\n",
      "[*********************100%***********************]  1 of 1 completed\n",
      "[*********************100%***********************]  1 of 1 completed\n",
      "[*********************100%***********************]  1 of 1 completed\n",
      "[*********************100%***********************]  1 of 1 completed\n",
      "{'Stock': 'RECLTD.NS', 'P035': 6833.150622898534, 'P05': 5597.267500035538, 'P1': 2282.244624193276, 'P2': 127.93157982876701, 'P35': 14.2823719840869, 'R05': 2902.732499964462, 'R1': 6217.755375806724, 'R03': 1572.7944896263482, 'R0': 1435.7296053014325}\n",
      "RELIANCE.NS\n"
     ]
    },
    {
     "name": "stderr",
     "output_type": "stream",
     "text": [
      "C:\\Users\\naman\\AppData\\Local\\Temp\\ipykernel_6796\\1180599731.py:4: FutureWarning: The frame.append method is deprecated and will be removed from pandas in a future version. Use pandas.concat instead.\n",
      "  symb= symb.append(df2, ignore_index = True)\n"
     ]
    },
    {
     "name": "stdout",
     "output_type": "stream",
     "text": [
      "[*********************100%***********************]  1 of 1 completed\n",
      "[*********************100%***********************]  1 of 1 completed\n",
      "[*********************100%***********************]  1 of 1 completed\n",
      "[*********************100%***********************]  1 of 1 completed\n",
      "[*********************100%***********************]  1 of 1 completed\n",
      "[*********************100%***********************]  1 of 1 completed\n",
      "[*********************100%***********************]  1 of 1 completed\n",
      "[*********************100%***********************]  1 of 1 completed\n",
      "{'Stock': 'RELIANCE.NS', 'P035': 7158.794153167088, 'P05': 6574.697300492733, 'P1': 3276.6345470332703, 'P2': 1229.7430711948086, 'P35': 1149.503916405066, 'R05': 1925.3026995072667, 'R1': 5223.365452966731, 'R03': 175.92622214103037, 'R0': 100.33655105050555}\n",
      "SBICARD.NS\n"
     ]
    },
    {
     "name": "stderr",
     "output_type": "stream",
     "text": [
      "C:\\Users\\naman\\AppData\\Local\\Temp\\ipykernel_6796\\1180599731.py:4: FutureWarning: The frame.append method is deprecated and will be removed from pandas in a future version. Use pandas.concat instead.\n",
      "  symb= symb.append(df2, ignore_index = True)\n"
     ]
    },
    {
     "name": "stdout",
     "output_type": "stream",
     "text": [
      "[*********************100%***********************]  1 of 1 completed\n",
      "[*********************100%***********************]  1 of 1 completed\n",
      "[*********************100%***********************]  1 of 1 completed\n",
      "[*********************100%***********************]  1 of 1 completed\n",
      "[*********************100%***********************]  1 of 1 completed\n",
      "[*********************100%***********************]  1 of 1 completed\n",
      "[*********************100%***********************]  1 of 1 completed\n",
      "[*********************100%***********************]  1 of 1 completed\n",
      "{'Stock': 'SBICARD.NS', 'P035': 7326.671514983489, 'P05': 7260.6270546973865, 'P1': 4310.5067475634905, 'P2': 239.01335949500046, 'P35': 144.71808213144055, 'R05': 1239.3729453026147, 'R1': 4189.49325243651, 'R03': 1147.5811621958408, 'R0': 405.20180334550855}\n",
      "SBILIFE.NS\n"
     ]
    },
    {
     "name": "stderr",
     "output_type": "stream",
     "text": [
      "C:\\Users\\naman\\AppData\\Local\\Temp\\ipykernel_6796\\1180599731.py:4: FutureWarning: The frame.append method is deprecated and will be removed from pandas in a future version. Use pandas.concat instead.\n",
      "  symb= symb.append(df2, ignore_index = True)\n"
     ]
    },
    {
     "name": "stdout",
     "output_type": "stream",
     "text": [
      "[*********************100%***********************]  1 of 1 completed\n",
      "[*********************100%***********************]  1 of 1 completed\n",
      "[*********************100%***********************]  1 of 1 completed\n",
      "[*********************100%***********************]  1 of 1 completed\n",
      "[*********************100%***********************]  1 of 1 completed\n",
      "[*********************100%***********************]  1 of 1 completed\n",
      "[*********************100%***********************]  1 of 1 completed\n",
      "[*********************100%***********************]  1 of 1 completed\n",
      "{'Stock': 'SBILIFE.NS', 'P035': 6617.16939686722, 'P05': 5072.640577836019, 'P1': 4542.8267756123205, 'P2': 305.85375019654094, 'P35': 25.146157393286554, 'R05': 3427.359422163982, 'R1': 3957.173224387681, 'R03': 1851.026856017388, 'R0': 308.28642884386176}\n",
      "SRF.NS\n"
     ]
    },
    {
     "name": "stderr",
     "output_type": "stream",
     "text": [
      "C:\\Users\\naman\\AppData\\Local\\Temp\\ipykernel_6796\\1180599731.py:4: FutureWarning: The frame.append method is deprecated and will be removed from pandas in a future version. Use pandas.concat instead.\n",
      "  symb= symb.append(df2, ignore_index = True)\n"
     ]
    },
    {
     "name": "stdout",
     "output_type": "stream",
     "text": [
      "[*********************100%***********************]  1 of 1 completed\n",
      "[*********************100%***********************]  1 of 1 completed\n",
      "[*********************100%***********************]  1 of 1 completed\n",
      "[*********************100%***********************]  1 of 1 completed\n",
      "[*********************100%***********************]  1 of 1 completed\n",
      "[*********************100%***********************]  1 of 1 completed\n",
      "[*********************100%***********************]  1 of 1 completed\n",
      "[*********************100%***********************]  1 of 1 completed\n",
      "{'Stock': 'SRF.NS', 'P035': 6786.12112748985, 'P05': 6451.713427143114, 'P1': 5484.026107780205, 'P2': 2695.2491770169036, 'P35': 180.73059566138735, 'R05': 2048.286572856886, 'R1': 3015.9738922197953, 'R03': 1693.363370275003, 'R0': 1170.8474459873223}\n",
      "SHREECEM.NS\n"
     ]
    },
    {
     "name": "stderr",
     "output_type": "stream",
     "text": [
      "C:\\Users\\naman\\AppData\\Local\\Temp\\ipykernel_6796\\1180599731.py:4: FutureWarning: The frame.append method is deprecated and will be removed from pandas in a future version. Use pandas.concat instead.\n",
      "  symb= symb.append(df2, ignore_index = True)\n"
     ]
    },
    {
     "name": "stdout",
     "output_type": "stream",
     "text": [
      "[*********************100%***********************]  1 of 1 completed\n",
      "[*********************100%***********************]  1 of 1 completed\n",
      "[*********************100%***********************]  1 of 1 completed\n",
      "[*********************100%***********************]  1 of 1 completed\n",
      "[*********************100%***********************]  1 of 1 completed\n",
      "[*********************100%***********************]  1 of 1 completed\n",
      "[*********************100%***********************]  1 of 1 completed\n",
      "[*********************100%***********************]  1 of 1 completed\n",
      "{'Stock': 'SHREECEM.NS', 'P035': 8376.686121157843, 'P05': 7972.42598934692, 'P1': 4854.063726699598, 'P2': 3347.9127441802166, 'P35': 1666.5900643418408, 'R05': 527.5740106530817, 'R1': 3645.936273300402, 'R03': 112.04709527165576, 'R0': 16.18674990777362}\n",
      "SRTRANSFIN.NS\n"
     ]
    },
    {
     "name": "stderr",
     "output_type": "stream",
     "text": [
      "C:\\Users\\naman\\AppData\\Local\\Temp\\ipykernel_6796\\1180599731.py:4: FutureWarning: The frame.append method is deprecated and will be removed from pandas in a future version. Use pandas.concat instead.\n",
      "  symb= symb.append(df2, ignore_index = True)\n"
     ]
    },
    {
     "name": "stdout",
     "output_type": "stream",
     "text": [
      "[*********************100%***********************]  1 of 1 completed\n",
      "[*********************100%***********************]  1 of 1 completed\n",
      "[*********************100%***********************]  1 of 1 completed\n",
      "[*********************100%***********************]  1 of 1 completed\n",
      "[*********************100%***********************]  1 of 1 completed\n",
      "[*********************100%***********************]  1 of 1 completed\n",
      "[*********************100%***********************]  1 of 1 completed\n",
      "[*********************100%***********************]  1 of 1 completed\n",
      "{'Stock': 'SRTRANSFIN.NS', 'P035': 8020.018079195453, 'P05': 7922.700175782423, 'P1': 6841.746132378317, 'P2': 2602.512348778565, 'P35': 79.6602843360407, 'R05': 577.2998242175779, 'R1': 1658.2538676216827, 'R03': 474.37160334484514, 'R0': 62.71647674458087}\n",
      "SIEMENS.NS\n"
     ]
    },
    {
     "name": "stderr",
     "output_type": "stream",
     "text": [
      "C:\\Users\\naman\\AppData\\Local\\Temp\\ipykernel_6796\\1180599731.py:4: FutureWarning: The frame.append method is deprecated and will be removed from pandas in a future version. Use pandas.concat instead.\n",
      "  symb= symb.append(df2, ignore_index = True)\n"
     ]
    },
    {
     "name": "stdout",
     "output_type": "stream",
     "text": [
      "[*********************100%***********************]  1 of 1 completed\n",
      "[*********************100%***********************]  1 of 1 completed\n",
      "[*********************100%***********************]  1 of 1 completed\n",
      "[*********************100%***********************]  1 of 1 completed\n",
      "[*********************100%***********************]  1 of 1 completed\n",
      "[*********************100%***********************]  1 of 1 completed\n",
      "[*********************100%***********************]  1 of 1 completed\n",
      "[*********************100%***********************]  1 of 1 completed\n",
      "{'Stock': 'SIEMENS.NS', 'P035': 7095.973403431963, 'P05': 6761.856096023735, 'P1': 5869.106267873222, 'P2': 372.68698355500425, 'P35': 94.10049524652851, 'R05': 1738.143903976266, 'R1': 2630.893732126779, 'R03': 1398.6605233957455, 'R0': 17.683011763420012}\n",
      "SONACOMS.NS\n"
     ]
    },
    {
     "name": "stderr",
     "output_type": "stream",
     "text": [
      "C:\\Users\\naman\\AppData\\Local\\Temp\\ipykernel_6796\\1180599731.py:4: FutureWarning: The frame.append method is deprecated and will be removed from pandas in a future version. Use pandas.concat instead.\n",
      "  symb= symb.append(df2, ignore_index = True)\n"
     ]
    },
    {
     "name": "stdout",
     "output_type": "stream",
     "text": [
      "[*********************100%***********************]  1 of 1 completed\n",
      "[*********************100%***********************]  1 of 1 completed\n",
      "[*********************100%***********************]  1 of 1 completed\n",
      "[*********************100%***********************]  1 of 1 completed\n",
      "[*********************100%***********************]  1 of 1 completed\n",
      "[*********************100%***********************]  1 of 1 completed\n",
      "[*********************100%***********************]  1 of 1 completed\n",
      "[*********************100%***********************]  1 of 1 completed\n",
      "{'Stock': 'SONACOMS.NS', 'P035': 6513.067965443997, 'P05': 6021.830704276112, 'P1': 4568.765799117067, 'P2': 1749.6890889880176, 'P35': 128.87495308196674, 'R05': 2478.1692957238893, 'R1': 3931.2342008829337, 'R03': 1975.5267453698461, 'R0': 32.931371557622946}\n",
      "SBIN.NS\n"
     ]
    },
    {
     "name": "stderr",
     "output_type": "stream",
     "text": [
      "C:\\Users\\naman\\AppData\\Local\\Temp\\ipykernel_6796\\1180599731.py:4: FutureWarning: The frame.append method is deprecated and will be removed from pandas in a future version. Use pandas.concat instead.\n",
      "  symb= symb.append(df2, ignore_index = True)\n"
     ]
    },
    {
     "name": "stdout",
     "output_type": "stream",
     "text": [
      "[*********************100%***********************]  1 of 1 completed\n",
      "[*********************100%***********************]  1 of 1 completed\n",
      "[*********************100%***********************]  1 of 1 completed\n",
      "[*********************100%***********************]  1 of 1 completed\n",
      "[*********************100%***********************]  1 of 1 completed\n",
      "[*********************100%***********************]  1 of 1 completed\n",
      "[*********************100%***********************]  1 of 1 completed\n",
      "[*********************100%***********************]  1 of 1 completed\n",
      "{'Stock': 'SBIN.NS', 'P035': 8218.506335134212, 'P05': 7883.581025103791, 'P1': 4682.988131631139, 'P2': 1396.6215765486925, 'P35': 102.8600700322057, 'R05': 616.4189748962101, 'R1': 3817.0118683688615, 'R03': 239.47549551396068, 'R0': 156.10638118923987}\n",
      "SAIL.NS\n"
     ]
    },
    {
     "name": "stderr",
     "output_type": "stream",
     "text": [
      "C:\\Users\\naman\\AppData\\Local\\Temp\\ipykernel_6796\\1180599731.py:4: FutureWarning: The frame.append method is deprecated and will be removed from pandas in a future version. Use pandas.concat instead.\n",
      "  symb= symb.append(df2, ignore_index = True)\n"
     ]
    },
    {
     "name": "stdout",
     "output_type": "stream",
     "text": [
      "[*********************100%***********************]  1 of 1 completed\n",
      "[*********************100%***********************]  1 of 1 completed\n",
      "[*********************100%***********************]  1 of 1 completed\n",
      "[*********************100%***********************]  1 of 1 completed\n",
      "[*********************100%***********************]  1 of 1 completed\n",
      "[*********************100%***********************]  1 of 1 completed\n",
      "[*********************100%***********************]  1 of 1 completed\n",
      "[*********************100%***********************]  1 of 1 completed\n",
      "{'Stock': 'SAIL.NS', 'P035': 6750.507786557312, 'P05': 6360.773916192428, 'P1': 6036.429616554355, 'P2': 2601.3656199073857, 'P35': 1269.2820754171398, 'R05': 2139.2260838075726, 'R1': 2463.5703834456453, 'R03': 1744.150713187288, 'R0': 63.228997356605376}\n",
      "SUNPHARMA.NS\n"
     ]
    },
    {
     "name": "stderr",
     "output_type": "stream",
     "text": [
      "C:\\Users\\naman\\AppData\\Local\\Temp\\ipykernel_6796\\1180599731.py:4: FutureWarning: The frame.append method is deprecated and will be removed from pandas in a future version. Use pandas.concat instead.\n",
      "  symb= symb.append(df2, ignore_index = True)\n"
     ]
    },
    {
     "name": "stdout",
     "output_type": "stream",
     "text": [
      "[*********************100%***********************]  1 of 1 completed\n",
      "[*********************100%***********************]  1 of 1 completed\n",
      "[*********************100%***********************]  1 of 1 completed\n",
      "[*********************100%***********************]  1 of 1 completed\n",
      "[*********************100%***********************]  1 of 1 completed\n",
      "[*********************100%***********************]  1 of 1 completed\n",
      "[*********************100%***********************]  1 of 1 completed\n",
      "[*********************100%***********************]  1 of 1 completed\n",
      "{'Stock': 'SUNPHARMA.NS', 'P035': 7169.987916085757, 'P05': 6689.937590145291, 'P1': 5682.619037718265, 'P2': 2719.833096978548, 'P35': 1221.2511313239959, 'R05': 1810.0624098547098, 'R1': 2817.3809622817353, 'R03': 1299.3262162047795, 'R0': 21.549170593231725}\n",
      "SUNTV.NS\n"
     ]
    },
    {
     "name": "stderr",
     "output_type": "stream",
     "text": [
      "C:\\Users\\naman\\AppData\\Local\\Temp\\ipykernel_6796\\1180599731.py:4: FutureWarning: The frame.append method is deprecated and will be removed from pandas in a future version. Use pandas.concat instead.\n",
      "  symb= symb.append(df2, ignore_index = True)\n"
     ]
    },
    {
     "name": "stdout",
     "output_type": "stream",
     "text": [
      "[*********************100%***********************]  1 of 1 completed\n",
      "[*********************100%***********************]  1 of 1 completed\n",
      "[*********************100%***********************]  1 of 1 completed\n",
      "[*********************100%***********************]  1 of 1 completed\n",
      "[*********************100%***********************]  1 of 1 completed\n",
      "[*********************100%***********************]  1 of 1 completed\n",
      "[*********************100%***********************]  1 of 1 completed\n",
      "[*********************100%***********************]  1 of 1 completed\n",
      "{'Stock': 'SUNTV.NS', 'P035': 7724.662677523805, 'P05': 7670.399508473308, 'P1': 7054.205049312451, 'P2': 1942.218653803463, 'P35': 1532.0281656829254, 'R05': 829.6004915266928, 'R1': 1445.7949506875486, 'R03': 470.61082816524487, 'R0': 370.49352203003383}\n",
      "SYNGENE.NS\n"
     ]
    },
    {
     "name": "stderr",
     "output_type": "stream",
     "text": [
      "C:\\Users\\naman\\AppData\\Local\\Temp\\ipykernel_6796\\1180599731.py:4: FutureWarning: The frame.append method is deprecated and will be removed from pandas in a future version. Use pandas.concat instead.\n",
      "  symb= symb.append(df2, ignore_index = True)\n"
     ]
    },
    {
     "name": "stdout",
     "output_type": "stream",
     "text": [
      "[*********************100%***********************]  1 of 1 completed\n",
      "[*********************100%***********************]  1 of 1 completed\n",
      "[*********************100%***********************]  1 of 1 completed\n",
      "[*********************100%***********************]  1 of 1 completed\n",
      "[*********************100%***********************]  1 of 1 completed\n",
      "[*********************100%***********************]  1 of 1 completed\n",
      "[*********************100%***********************]  1 of 1 completed\n",
      "[*********************100%***********************]  1 of 1 completed\n",
      "{'Stock': 'SYNGENE.NS', 'P035': 8139.604117694235, 'P05': 7806.624173537163, 'P1': 5937.313325177348, 'P2': 193.00579392246453, 'P35': 78.36050317208907, 'R05': 693.3758264628362, 'R1': 2562.6866748226525, 'R03': 215.6023189136606, 'R0': 30.109630024426245}\n",
      "TVSMOTOR.NS\n"
     ]
    },
    {
     "name": "stderr",
     "output_type": "stream",
     "text": [
      "C:\\Users\\naman\\AppData\\Local\\Temp\\ipykernel_6796\\1180599731.py:4: FutureWarning: The frame.append method is deprecated and will be removed from pandas in a future version. Use pandas.concat instead.\n",
      "  symb= symb.append(df2, ignore_index = True)\n"
     ]
    },
    {
     "name": "stdout",
     "output_type": "stream",
     "text": [
      "[*********************100%***********************]  1 of 1 completed\n",
      "[*********************100%***********************]  1 of 1 completed\n",
      "[*********************100%***********************]  1 of 1 completed\n",
      "[*********************100%***********************]  1 of 1 completed\n",
      "[*********************100%***********************]  1 of 1 completed\n",
      "[*********************100%***********************]  1 of 1 completed\n",
      "[*********************100%***********************]  1 of 1 completed\n",
      "[*********************100%***********************]  1 of 1 completed\n",
      "{'Stock': 'TVSMOTOR.NS', 'P035': 6578.294726571157, 'P05': 6531.986949048078, 'P1': 5999.331500110247, 'P2': 2918.1677821565563, 'P35': 128.98894895094494, 'R05': 1968.0130509519224, 'R1': 2500.6684998897545, 'R03': 1819.741674368525, 'R0': 304.0378086222741}\n",
      "TATACHEM.NS\n"
     ]
    },
    {
     "name": "stderr",
     "output_type": "stream",
     "text": [
      "C:\\Users\\naman\\AppData\\Local\\Temp\\ipykernel_6796\\1180599731.py:4: FutureWarning: The frame.append method is deprecated and will be removed from pandas in a future version. Use pandas.concat instead.\n",
      "  symb= symb.append(df2, ignore_index = True)\n"
     ]
    },
    {
     "name": "stdout",
     "output_type": "stream",
     "text": [
      "[*********************100%***********************]  1 of 1 completed\n",
      "[*********************100%***********************]  1 of 1 completed\n",
      "[*********************100%***********************]  1 of 1 completed\n",
      "[*********************100%***********************]  1 of 1 completed\n",
      "[*********************100%***********************]  1 of 1 completed\n",
      "[*********************100%***********************]  1 of 1 completed\n",
      "[*********************100%***********************]  1 of 1 completed\n",
      "[*********************100%***********************]  1 of 1 completed\n",
      "{'Stock': 'TATACHEM.NS', 'P035': 8187.166373394385, 'P05': 8169.932351224206, 'P1': 6816.537108858962, 'P2': 5155.976673369761, 'P35': 1586.791056204772, 'R05': 330.0676487757937, 'R1': 1683.4628911410373, 'R03': 304.92048125290245, 'R0': 39.64982338695283}\n",
      "TATACOMM.NS\n"
     ]
    },
    {
     "name": "stderr",
     "output_type": "stream",
     "text": [
      "C:\\Users\\naman\\AppData\\Local\\Temp\\ipykernel_6796\\1180599731.py:4: FutureWarning: The frame.append method is deprecated and will be removed from pandas in a future version. Use pandas.concat instead.\n",
      "  symb= symb.append(df2, ignore_index = True)\n"
     ]
    },
    {
     "name": "stdout",
     "output_type": "stream",
     "text": [
      "[*********************100%***********************]  1 of 1 completed\n",
      "[*********************100%***********************]  1 of 1 completed\n",
      "[*********************100%***********************]  1 of 1 completed\n",
      "[*********************100%***********************]  1 of 1 completed\n",
      "[*********************100%***********************]  1 of 1 completed\n",
      "[*********************100%***********************]  1 of 1 completed\n",
      "[*********************100%***********************]  1 of 1 completed\n",
      "[*********************100%***********************]  1 of 1 completed\n",
      "{'Stock': 'TATACOMM.NS', 'P035': 7473.6304022037575, 'P05': 7371.528231213619, 'P1': 7118.978917784633, 'P2': 2679.527941853775, 'P35': 1216.3562028476977, 'R05': 1128.4717687863822, 'R1': 1381.0210822153674, 'R03': 1023.171673474968, 'R0': 591.8700599363298}\n",
      "TCS.NS\n"
     ]
    },
    {
     "name": "stderr",
     "output_type": "stream",
     "text": [
      "C:\\Users\\naman\\AppData\\Local\\Temp\\ipykernel_6796\\1180599731.py:4: FutureWarning: The frame.append method is deprecated and will be removed from pandas in a future version. Use pandas.concat instead.\n",
      "  symb= symb.append(df2, ignore_index = True)\n"
     ]
    },
    {
     "name": "stdout",
     "output_type": "stream",
     "text": [
      "[*********************100%***********************]  1 of 1 completed\n",
      "[*********************100%***********************]  1 of 1 completed\n",
      "[*********************100%***********************]  1 of 1 completed\n",
      "[*********************100%***********************]  1 of 1 completed\n",
      "[*********************100%***********************]  1 of 1 completed\n",
      "[*********************100%***********************]  1 of 1 completed\n",
      "[*********************100%***********************]  1 of 1 completed\n",
      "[*********************100%***********************]  1 of 1 completed\n",
      "{'Stock': 'TCS.NS', 'P035': 6843.085032251923, 'P05': 6427.847542474092, 'P1': 3152.833003691666, 'P2': 2619.351793578619, 'P35': 1.2520175682362502, 'R05': 2072.152457525908, 'R1': 5347.166996308335, 'R03': 1648.5317979476022, 'R0': 164.21041577115753}\n",
      "TATACONSUM.NS\n"
     ]
    },
    {
     "name": "stderr",
     "output_type": "stream",
     "text": [
      "C:\\Users\\naman\\AppData\\Local\\Temp\\ipykernel_6796\\1180599731.py:4: FutureWarning: The frame.append method is deprecated and will be removed from pandas in a future version. Use pandas.concat instead.\n",
      "  symb= symb.append(df2, ignore_index = True)\n"
     ]
    },
    {
     "name": "stdout",
     "output_type": "stream",
     "text": [
      "[*********************100%***********************]  1 of 1 completed\n",
      "[*********************100%***********************]  1 of 1 completed\n",
      "[*********************100%***********************]  1 of 1 completed\n",
      "[*********************100%***********************]  1 of 1 completed\n",
      "[*********************100%***********************]  1 of 1 completed\n",
      "[*********************100%***********************]  1 of 1 completed\n",
      "[*********************100%***********************]  1 of 1 completed\n",
      "[*********************100%***********************]  1 of 1 completed\n",
      "{'Stock': 'TATACONSUM.NS', 'P035': 7020.59212054554, 'P05': 6533.162319143365, 'P1': 3220.8532026964435, 'P2': 570.5318995214448, 'P35': 29.570985486219445, 'R05': 1966.8376808566354, 'R1': 5279.146797303556, 'R03': 1448.2304115630295, 'R0': 164.37290961955566}\n",
      "TATAELXSI.NS\n"
     ]
    },
    {
     "name": "stderr",
     "output_type": "stream",
     "text": [
      "C:\\Users\\naman\\AppData\\Local\\Temp\\ipykernel_6796\\1180599731.py:4: FutureWarning: The frame.append method is deprecated and will be removed from pandas in a future version. Use pandas.concat instead.\n",
      "  symb= symb.append(df2, ignore_index = True)\n"
     ]
    },
    {
     "name": "stdout",
     "output_type": "stream",
     "text": [
      "[*********************100%***********************]  1 of 1 completed\n",
      "[*********************100%***********************]  1 of 1 completed\n",
      "[*********************100%***********************]  1 of 1 completed\n",
      "[*********************100%***********************]  1 of 1 completed\n",
      "[*********************100%***********************]  1 of 1 completed\n",
      "[*********************100%***********************]  1 of 1 completed\n",
      "[*********************100%***********************]  1 of 1 completed\n",
      "[*********************100%***********************]  1 of 1 completed\n",
      "{'Stock': 'TATAELXSI.NS', 'P035': 7160.3391248127255, 'P05': 6550.300802121835, 'P1': 3413.1581968460077, 'P2': 2917.4802306105116, 'P35': 167.99205152236183, 'R05': 1949.6991978781653, 'R1': 5086.841803153992, 'R03': 1253.5867430257097, 'R0': 24.721085412785836}\n",
      "TATAMOTORS.NS\n"
     ]
    },
    {
     "name": "stderr",
     "output_type": "stream",
     "text": [
      "C:\\Users\\naman\\AppData\\Local\\Temp\\ipykernel_6796\\1180599731.py:4: FutureWarning: The frame.append method is deprecated and will be removed from pandas in a future version. Use pandas.concat instead.\n",
      "  symb= symb.append(df2, ignore_index = True)\n"
     ]
    },
    {
     "name": "stdout",
     "output_type": "stream",
     "text": [
      "[*********************100%***********************]  1 of 1 completed\n",
      "[*********************100%***********************]  1 of 1 completed\n",
      "[*********************100%***********************]  1 of 1 completed\n",
      "[*********************100%***********************]  1 of 1 completed\n",
      "[*********************100%***********************]  1 of 1 completed\n",
      "[*********************100%***********************]  1 of 1 completed\n",
      "[*********************100%***********************]  1 of 1 completed\n",
      "[*********************100%***********************]  1 of 1 completed\n",
      "{'Stock': 'TATAMOTORS.NS', 'P035': 6446.716542960351, 'P05': 5783.794531833517, 'P1': 3181.401387458131, 'P2': 2785.0015182263924, 'P35': 20.21053805741, 'R05': 2716.205468166484, 'R1': 5318.5986125418685, 'R03': 2049.3040804775887, 'R0': 298.3847661493849}\n",
      "TATAPOWER.NS\n"
     ]
    },
    {
     "name": "stderr",
     "output_type": "stream",
     "text": [
      "C:\\Users\\naman\\AppData\\Local\\Temp\\ipykernel_6796\\1180599731.py:4: FutureWarning: The frame.append method is deprecated and will be removed from pandas in a future version. Use pandas.concat instead.\n",
      "  symb= symb.append(df2, ignore_index = True)\n"
     ]
    },
    {
     "name": "stdout",
     "output_type": "stream",
     "text": [
      "[*********************100%***********************]  1 of 1 completed\n",
      "[*********************100%***********************]  1 of 1 completed\n",
      "[*********************100%***********************]  1 of 1 completed\n",
      "[*********************100%***********************]  1 of 1 completed\n",
      "[*********************100%***********************]  1 of 1 completed\n",
      "[*********************100%***********************]  1 of 1 completed\n",
      "[*********************100%***********************]  1 of 1 completed\n",
      "[*********************100%***********************]  1 of 1 completed\n",
      "{'Stock': 'TATAPOWER.NS', 'P035': 7858.766602506903, 'P05': 7152.26200933207, 'P1': 3566.9872786227215, 'P2': 1397.9809276024366, 'P35': 67.27747284759481, 'R05': 1347.7379906679303, 'R1': 4933.0127213772785, 'R03': 279.08408716164814, 'R0': 31.293682806366377}\n",
      "TATASTEEL.NS\n"
     ]
    },
    {
     "name": "stderr",
     "output_type": "stream",
     "text": [
      "C:\\Users\\naman\\AppData\\Local\\Temp\\ipykernel_6796\\1180599731.py:4: FutureWarning: The frame.append method is deprecated and will be removed from pandas in a future version. Use pandas.concat instead.\n",
      "  symb= symb.append(df2, ignore_index = True)\n"
     ]
    },
    {
     "name": "stdout",
     "output_type": "stream",
     "text": [
      "[*********************100%***********************]  1 of 1 completed\n",
      "[*********************100%***********************]  1 of 1 completed\n",
      "[*********************100%***********************]  1 of 1 completed\n",
      "[*********************100%***********************]  1 of 1 completed\n",
      "[*********************100%***********************]  1 of 1 completed\n",
      "[*********************100%***********************]  1 of 1 completed\n",
      "[*********************100%***********************]  1 of 1 completed\n",
      "[*********************100%***********************]  1 of 1 completed\n",
      "{'Stock': 'TATASTEEL.NS', 'P035': 6321.537226315409, 'P05': 6284.2967988842, 'P1': 5814.144382621313, 'P2': 1410.8358597334566, 'P35': 1260.6094800130686, 'R05': 2215.7032011158008, 'R1': 2685.8556173786883, 'R03': 1984.1648829917583, 'R0': 504.1850575660936}\n",
      "TECHM.NS\n"
     ]
    },
    {
     "name": "stderr",
     "output_type": "stream",
     "text": [
      "C:\\Users\\naman\\AppData\\Local\\Temp\\ipykernel_6796\\1180599731.py:4: FutureWarning: The frame.append method is deprecated and will be removed from pandas in a future version. Use pandas.concat instead.\n",
      "  symb= symb.append(df2, ignore_index = True)\n"
     ]
    },
    {
     "name": "stdout",
     "output_type": "stream",
     "text": [
      "[*********************100%***********************]  1 of 1 completed\n",
      "[*********************100%***********************]  1 of 1 completed\n",
      "[*********************100%***********************]  1 of 1 completed\n",
      "[*********************100%***********************]  1 of 1 completed\n",
      "[*********************100%***********************]  1 of 1 completed\n",
      "[*********************100%***********************]  1 of 1 completed\n",
      "[*********************100%***********************]  1 of 1 completed\n",
      "[*********************100%***********************]  1 of 1 completed\n",
      "{'Stock': 'TECHM.NS', 'P035': 7218.71350174409, 'P05': 7088.8985029105515, 'P1': 5185.576259602747, 'P2': 2073.6256769563693, 'P35': 14.686949989755318, 'R05': 1411.1014970894491, 'R1': 3314.4237403972534, 'R03': 1261.5719321067786, 'R0': 31.49332945197121}\n",
      "RAMCOCEM.NS\n"
     ]
    },
    {
     "name": "stderr",
     "output_type": "stream",
     "text": [
      "C:\\Users\\naman\\AppData\\Local\\Temp\\ipykernel_6796\\1180599731.py:4: FutureWarning: The frame.append method is deprecated and will be removed from pandas in a future version. Use pandas.concat instead.\n",
      "  symb= symb.append(df2, ignore_index = True)\n"
     ]
    },
    {
     "name": "stdout",
     "output_type": "stream",
     "text": [
      "[*********************100%***********************]  1 of 1 completed\n",
      "[*********************100%***********************]  1 of 1 completed\n",
      "[*********************100%***********************]  1 of 1 completed\n",
      "[*********************100%***********************]  1 of 1 completed\n",
      "[*********************100%***********************]  1 of 1 completed\n",
      "[*********************100%***********************]  1 of 1 completed\n",
      "[*********************100%***********************]  1 of 1 completed\n",
      "[*********************100%***********************]  1 of 1 completed\n",
      "{'Stock': 'RAMCOCEM.NS', 'P035': 8080.340454768831, 'P05': 7764.274477854877, 'P1': 4908.692157439811, 'P2': 3341.644785039213, 'P35': 1256.4724741311818, 'R05': 735.7255221451233, 'R1': 3591.30784256019, 'R03': 390.314880784987, 'R0': 20.90197093921333}\n",
      "TITAN.NS\n"
     ]
    },
    {
     "name": "stderr",
     "output_type": "stream",
     "text": [
      "C:\\Users\\naman\\AppData\\Local\\Temp\\ipykernel_6796\\1180599731.py:4: FutureWarning: The frame.append method is deprecated and will be removed from pandas in a future version. Use pandas.concat instead.\n",
      "  symb= symb.append(df2, ignore_index = True)\n"
     ]
    },
    {
     "name": "stdout",
     "output_type": "stream",
     "text": [
      "[*********************100%***********************]  1 of 1 completed\n",
      "[*********************100%***********************]  1 of 1 completed\n",
      "[*********************100%***********************]  1 of 1 completed\n",
      "[*********************100%***********************]  1 of 1 completed\n",
      "[*********************100%***********************]  1 of 1 completed\n",
      "[*********************100%***********************]  1 of 1 completed\n",
      "[*********************100%***********************]  1 of 1 completed\n",
      "[*********************100%***********************]  1 of 1 completed\n",
      "{'Stock': 'TITAN.NS', 'P035': 5959.128196150222, 'P05': 3845.1941926034788, 'P1': 3304.667668021972, 'P2': 1719.385619089807, 'P35': 1168.3212942369573, 'R05': 4654.80580739652, 'R1': 5195.332331978029, 'R03': 2536.95949636887, 'R0': 2347.279085508165}\n",
      "TORNTPHARM.NS\n"
     ]
    },
    {
     "name": "stderr",
     "output_type": "stream",
     "text": [
      "C:\\Users\\naman\\AppData\\Local\\Temp\\ipykernel_6796\\1180599731.py:4: FutureWarning: The frame.append method is deprecated and will be removed from pandas in a future version. Use pandas.concat instead.\n",
      "  symb= symb.append(df2, ignore_index = True)\n"
     ]
    },
    {
     "name": "stdout",
     "output_type": "stream",
     "text": [
      "[*********************100%***********************]  1 of 1 completed\n",
      "[*********************100%***********************]  1 of 1 completed\n",
      "[*********************100%***********************]  1 of 1 completed\n",
      "[*********************100%***********************]  1 of 1 completed\n",
      "[*********************100%***********************]  1 of 1 completed\n",
      "[*********************100%***********************]  1 of 1 completed\n",
      "[*********************100%***********************]  1 of 1 completed\n",
      "[*********************100%***********************]  1 of 1 completed\n",
      "{'Stock': 'TORNTPHARM.NS', 'P035': 8267.228855368698, 'P05': 6688.796874885994, 'P1': 4829.719162879227, 'P2': 3124.555893916803, 'P35': 30.423585750219353, 'R05': 1811.2031251140074, 'R1': 3670.2808371207725, 'R03': 226.11055772651156, 'R0': 96.714636508104}\n",
      "TORNTPOWER.NS\n"
     ]
    },
    {
     "name": "stderr",
     "output_type": "stream",
     "text": [
      "C:\\Users\\naman\\AppData\\Local\\Temp\\ipykernel_6796\\1180599731.py:4: FutureWarning: The frame.append method is deprecated and will be removed from pandas in a future version. Use pandas.concat instead.\n",
      "  symb= symb.append(df2, ignore_index = True)\n"
     ]
    },
    {
     "name": "stdout",
     "output_type": "stream",
     "text": [
      "[*********************100%***********************]  1 of 1 completed\n",
      "[*********************100%***********************]  1 of 1 completed\n",
      "[*********************100%***********************]  1 of 1 completed\n",
      "[*********************100%***********************]  1 of 1 completed\n",
      "[*********************100%***********************]  1 of 1 completed\n",
      "[*********************100%***********************]  1 of 1 completed\n",
      "[*********************100%***********************]  1 of 1 completed\n",
      "[*********************100%***********************]  1 of 1 completed\n",
      "{'Stock': 'TORNTPOWER.NS', 'P035': 8150.925800843648, 'P05': 8065.6731607841375, 'P1': 4829.661360159108, 'P2': 1641.7307181779877, 'P35': 1204.8894082175714, 'R05': 434.32683921586374, 'R1': 3670.338639840893, 'R03': 343.88895367714986, 'R0': 323.23111260088456}\n",
      "TRENT.NS\n"
     ]
    },
    {
     "name": "stderr",
     "output_type": "stream",
     "text": [
      "C:\\Users\\naman\\AppData\\Local\\Temp\\ipykernel_6796\\1180599731.py:4: FutureWarning: The frame.append method is deprecated and will be removed from pandas in a future version. Use pandas.concat instead.\n",
      "  symb= symb.append(df2, ignore_index = True)\n"
     ]
    },
    {
     "name": "stdout",
     "output_type": "stream",
     "text": [
      "[*********************100%***********************]  1 of 1 completed\n",
      "[*********************100%***********************]  1 of 1 completed\n",
      "[*********************100%***********************]  1 of 1 completed\n",
      "[*********************100%***********************]  1 of 1 completed\n",
      "[*********************100%***********************]  1 of 1 completed\n",
      "[*********************100%***********************]  1 of 1 completed\n",
      "[*********************100%***********************]  1 of 1 completed\n",
      "[*********************100%***********************]  1 of 1 completed\n",
      "{'Stock': 'TRENT.NS', 'P035': 8063.463099443236, 'P05': 5634.262891173619, 'P1': 5172.605852313854, 'P2': 2321.9423159466223, 'P35': 172.3707309641981, 'R05': 2865.7371088263812, 'R1': 3327.3941476861464, 'R03': 434.5915346834128, 'R0': 94.30524055236118}\n",
      "TRIDENT.NS\n"
     ]
    },
    {
     "name": "stderr",
     "output_type": "stream",
     "text": [
      "C:\\Users\\naman\\AppData\\Local\\Temp\\ipykernel_6796\\1180599731.py:4: FutureWarning: The frame.append method is deprecated and will be removed from pandas in a future version. Use pandas.concat instead.\n",
      "  symb= symb.append(df2, ignore_index = True)\n"
     ]
    },
    {
     "name": "stdout",
     "output_type": "stream",
     "text": [
      "[*********************100%***********************]  1 of 1 completed\n",
      "[*********************100%***********************]  1 of 1 completed\n",
      "[*********************100%***********************]  1 of 1 completed\n",
      "[*********************100%***********************]  1 of 1 completed\n",
      "[*********************100%***********************]  1 of 1 completed\n",
      "[*********************100%***********************]  1 of 1 completed\n",
      "[*********************100%***********************]  1 of 1 completed\n",
      "[*********************100%***********************]  1 of 1 completed\n",
      "{'Stock': 'TRIDENT.NS', 'P035': 6462.659248310097, 'P05': 6090.941819691089, 'P1': 3339.5438166590507, 'P2': 1477.0953129157374, 'P35': 142.41547878151866, 'R05': 2409.0581803089112, 'R1': 5160.45618334095, 'R03': 2035.6863196347463, 'R0': 1843.3287057436019}\n",
      "UPL.NS\n"
     ]
    },
    {
     "name": "stderr",
     "output_type": "stream",
     "text": [
      "C:\\Users\\naman\\AppData\\Local\\Temp\\ipykernel_6796\\1180599731.py:4: FutureWarning: The frame.append method is deprecated and will be removed from pandas in a future version. Use pandas.concat instead.\n",
      "  symb= symb.append(df2, ignore_index = True)\n"
     ]
    },
    {
     "name": "stdout",
     "output_type": "stream",
     "text": [
      "[*********************100%***********************]  1 of 1 completed\n",
      "[*********************100%***********************]  1 of 1 completed\n",
      "[*********************100%***********************]  1 of 1 completed\n",
      "[*********************100%***********************]  1 of 1 completed\n",
      "[*********************100%***********************]  1 of 1 completed\n",
      "[*********************100%***********************]  1 of 1 completed\n",
      "[*********************100%***********************]  1 of 1 completed\n",
      "[*********************100%***********************]  1 of 1 completed\n",
      "{'Stock': 'UPL.NS', 'P035': 7231.928169532146, 'P05': 6819.153655311354, 'P1': 5883.551205335475, 'P2': 2790.183537673984, 'P35': 20.87931344563414, 'R05': 1680.846344688647, 'R1': 2616.448794664525, 'R03': 1207.3279252821817, 'R0': 18.55610600225222}\n",
      "ULTRACEMCO.NS\n"
     ]
    },
    {
     "name": "stderr",
     "output_type": "stream",
     "text": [
      "C:\\Users\\naman\\AppData\\Local\\Temp\\ipykernel_6796\\1180599731.py:4: FutureWarning: The frame.append method is deprecated and will be removed from pandas in a future version. Use pandas.concat instead.\n",
      "  symb= symb.append(df2, ignore_index = True)\n"
     ]
    },
    {
     "name": "stdout",
     "output_type": "stream",
     "text": [
      "[*********************100%***********************]  1 of 1 completed\n",
      "[*********************100%***********************]  1 of 1 completed\n",
      "[*********************100%***********************]  1 of 1 completed\n",
      "[*********************100%***********************]  1 of 1 completed\n",
      "[*********************100%***********************]  1 of 1 completed\n",
      "[*********************100%***********************]  1 of 1 completed\n",
      "[*********************100%***********************]  1 of 1 completed\n",
      "[*********************100%***********************]  1 of 1 completed\n",
      "{'Stock': 'ULTRACEMCO.NS', 'P035': 8268.282190237634, 'P05': 7838.790253400748, 'P1': 5146.973577976585, 'P2': 2519.9204389813485, 'P35': 83.05949183637898, 'R05': 661.2097465992523, 'R1': 3353.0264220234144, 'R03': 224.0699435515821, 'R0': 19.607998086401153}\n",
      "UNIONBANK.NS\n"
     ]
    },
    {
     "name": "stderr",
     "output_type": "stream",
     "text": [
      "C:\\Users\\naman\\AppData\\Local\\Temp\\ipykernel_6796\\1180599731.py:4: FutureWarning: The frame.append method is deprecated and will be removed from pandas in a future version. Use pandas.concat instead.\n",
      "  symb= symb.append(df2, ignore_index = True)\n"
     ]
    },
    {
     "name": "stdout",
     "output_type": "stream",
     "text": [
      "[*********************100%***********************]  1 of 1 completed\n",
      "[*********************100%***********************]  1 of 1 completed\n",
      "[*********************100%***********************]  1 of 1 completed\n",
      "[*********************100%***********************]  1 of 1 completed\n",
      "[*********************100%***********************]  1 of 1 completed\n",
      "[*********************100%***********************]  1 of 1 completed\n",
      "[*********************100%***********************]  1 of 1 completed\n",
      "[*********************100%***********************]  1 of 1 completed\n",
      "{'Stock': 'UNIONBANK.NS', 'P035': 8128.082585767836, 'P05': 8085.281527590392, 'P1': 5020.699610405133, 'P2': 2871.9999951074733, 'P35': 1335.1598217707817, 'R05': 414.71847240960784, 'R1': 3479.3003895948673, 'R03': 369.6361620733581, 'R0': 22.153988507449586}\n",
      "UBL.NS\n"
     ]
    },
    {
     "name": "stderr",
     "output_type": "stream",
     "text": [
      "C:\\Users\\naman\\AppData\\Local\\Temp\\ipykernel_6796\\1180599731.py:4: FutureWarning: The frame.append method is deprecated and will be removed from pandas in a future version. Use pandas.concat instead.\n",
      "  symb= symb.append(df2, ignore_index = True)\n"
     ]
    },
    {
     "name": "stdout",
     "output_type": "stream",
     "text": [
      "[*********************100%***********************]  1 of 1 completed\n",
      "[*********************100%***********************]  1 of 1 completed\n",
      "[*********************100%***********************]  1 of 1 completed\n",
      "[*********************100%***********************]  1 of 1 completed\n",
      "[*********************100%***********************]  1 of 1 completed\n",
      "[*********************100%***********************]  1 of 1 completed\n",
      "[*********************100%***********************]  1 of 1 completed\n",
      "[*********************100%***********************]  1 of 1 completed\n",
      "{'Stock': 'UBL.NS', 'P035': 7995.579639434379, 'P05': 7934.565251610649, 'P1': 6191.185886333341, 'P2': 1611.0024687287237, 'P35': 43.901014336001076, 'R05': 565.4347483893514, 'R1': 2308.8141136666577, 'R03': 208.27435041078135, 'R0': 17.839266539619658}\n",
      "MCDOWELL-N.NS\n"
     ]
    },
    {
     "name": "stderr",
     "output_type": "stream",
     "text": [
      "C:\\Users\\naman\\AppData\\Local\\Temp\\ipykernel_6796\\1180599731.py:4: FutureWarning: The frame.append method is deprecated and will be removed from pandas in a future version. Use pandas.concat instead.\n",
      "  symb= symb.append(df2, ignore_index = True)\n"
     ]
    },
    {
     "name": "stdout",
     "output_type": "stream",
     "text": [
      "[*********************100%***********************]  1 of 1 completed\n",
      "[*********************100%***********************]  1 of 1 completed\n",
      "[*********************100%***********************]  1 of 1 completed\n",
      "[*********************100%***********************]  1 of 1 completed\n",
      "[*********************100%***********************]  1 of 1 completed\n",
      "[*********************100%***********************]  1 of 1 completed\n",
      "[*********************100%***********************]  1 of 1 completed\n",
      "[*********************100%***********************]  1 of 1 completed\n",
      "{'Stock': 'MCDOWELL-N.NS', 'P035': 7965.553931750419, 'P05': 6657.48863042896, 'P1': 5257.139581404739, 'P2': 1933.6692393204435, 'P35': 182.52313470228327, 'R05': 1842.51136957104, 'R1': 3242.860418595261, 'R03': 488.2713471294361, 'R0': 33.30455716301536}\n",
      "VBL.NS\n"
     ]
    },
    {
     "name": "stderr",
     "output_type": "stream",
     "text": [
      "C:\\Users\\naman\\AppData\\Local\\Temp\\ipykernel_6796\\1180599731.py:4: FutureWarning: The frame.append method is deprecated and will be removed from pandas in a future version. Use pandas.concat instead.\n",
      "  symb= symb.append(df2, ignore_index = True)\n"
     ]
    },
    {
     "name": "stdout",
     "output_type": "stream",
     "text": [
      "[*********************100%***********************]  1 of 1 completed\n",
      "[*********************100%***********************]  1 of 1 completed\n",
      "[*********************100%***********************]  1 of 1 completed\n",
      "[*********************100%***********************]  1 of 1 completed\n",
      "[*********************100%***********************]  1 of 1 completed\n",
      "[*********************100%***********************]  1 of 1 completed\n",
      "[*********************100%***********************]  1 of 1 completed\n",
      "[*********************100%***********************]  1 of 1 completed\n",
      "{'Stock': 'VBL.NS', 'P035': 7329.938485850434, 'P05': 7278.309587622323, 'P1': 6006.7014859389055, 'P2': 3044.944763931854, 'P35': 1677.6526391803616, 'R05': 1221.6904123776771, 'R1': 2493.2985140610945, 'R03': 1166.77548589262, 'R0': 959.797085799167}\n",
      "VEDL.NS\n"
     ]
    },
    {
     "name": "stderr",
     "output_type": "stream",
     "text": [
      "C:\\Users\\naman\\AppData\\Local\\Temp\\ipykernel_6796\\1180599731.py:4: FutureWarning: The frame.append method is deprecated and will be removed from pandas in a future version. Use pandas.concat instead.\n",
      "  symb= symb.append(df2, ignore_index = True)\n"
     ]
    },
    {
     "name": "stdout",
     "output_type": "stream",
     "text": [
      "[*********************100%***********************]  1 of 1 completed\n",
      "[*********************100%***********************]  1 of 1 completed\n",
      "[*********************100%***********************]  1 of 1 completed\n",
      "[*********************100%***********************]  1 of 1 completed\n",
      "[*********************100%***********************]  1 of 1 completed\n",
      "[*********************100%***********************]  1 of 1 completed\n",
      "[*********************100%***********************]  1 of 1 completed\n",
      "[*********************100%***********************]  1 of 1 completed\n",
      "{'Stock': 'VEDL.NS', 'P035': 8416.964325246303, 'P05': 8013.5578038289805, 'P1': 4101.649505846165, 'P2': 1705.773113907101, 'P35': 138.58055839602093, 'R05': 486.4421961710202, 'R1': 4398.350494153836, 'R03': 80.39696057523363, 'R0': 26.732074193896935}\n",
      "IDEA.NS\n"
     ]
    },
    {
     "name": "stderr",
     "output_type": "stream",
     "text": [
      "C:\\Users\\naman\\AppData\\Local\\Temp\\ipykernel_6796\\1180599731.py:4: FutureWarning: The frame.append method is deprecated and will be removed from pandas in a future version. Use pandas.concat instead.\n",
      "  symb= symb.append(df2, ignore_index = True)\n"
     ]
    },
    {
     "name": "stdout",
     "output_type": "stream",
     "text": [
      "[*********************100%***********************]  1 of 1 completed\n",
      "[*********************100%***********************]  1 of 1 completed\n",
      "[*********************100%***********************]  1 of 1 completed\n",
      "[*********************100%***********************]  1 of 1 completed\n",
      "[*********************100%***********************]  1 of 1 completed\n",
      "[*********************100%***********************]  1 of 1 completed\n",
      "[*********************100%***********************]  1 of 1 completed\n",
      "[*********************100%***********************]  1 of 1 completed\n",
      "{'Stock': 'IDEA.NS', 'P035': 8472.753303716536, 'P05': 8462.421229980335, 'P1': 7914.46973228434, 'P2': 4778.93848353086, 'P35': 3679.825349691751, 'R05': 37.57877001966317, 'R1': 585.5302677156615, 'R03': 26.553347978349006, 'R0': 26.553347978349006}\n",
      "VOLTAS.NS\n"
     ]
    },
    {
     "name": "stderr",
     "output_type": "stream",
     "text": [
      "C:\\Users\\naman\\AppData\\Local\\Temp\\ipykernel_6796\\1180599731.py:4: FutureWarning: The frame.append method is deprecated and will be removed from pandas in a future version. Use pandas.concat instead.\n",
      "  symb= symb.append(df2, ignore_index = True)\n"
     ]
    },
    {
     "name": "stdout",
     "output_type": "stream",
     "text": [
      "[*********************100%***********************]  1 of 1 completed\n",
      "[*********************100%***********************]  1 of 1 completed\n",
      "[*********************100%***********************]  1 of 1 completed\n",
      "[*********************100%***********************]  1 of 1 completed\n",
      "[*********************100%***********************]  1 of 1 completed\n",
      "[*********************100%***********************]  1 of 1 completed\n",
      "[*********************100%***********************]  1 of 1 completed\n",
      "[*********************100%***********************]  1 of 1 completed\n",
      "{'Stock': 'VOLTAS.NS', 'P035': 6468.824340022008, 'P05': 5213.848127746473, 'P1': 4770.822379976765, 'P2': 1648.3499589190512, 'P35': 23.537147055307827, 'R05': 3286.151872253526, 'R1': 3729.1776200232352, 'R03': 2007.4161991949352, 'R0': 461.3005580694159}\n",
      "WHIRLPOOL.NS\n"
     ]
    },
    {
     "name": "stderr",
     "output_type": "stream",
     "text": [
      "C:\\Users\\naman\\AppData\\Local\\Temp\\ipykernel_6796\\1180599731.py:4: FutureWarning: The frame.append method is deprecated and will be removed from pandas in a future version. Use pandas.concat instead.\n",
      "  symb= symb.append(df2, ignore_index = True)\n"
     ]
    },
    {
     "name": "stdout",
     "output_type": "stream",
     "text": [
      "[*********************100%***********************]  1 of 1 completed\n",
      "[*********************100%***********************]  1 of 1 completed\n",
      "[*********************100%***********************]  1 of 1 completed\n",
      "[*********************100%***********************]  1 of 1 completed\n",
      "[*********************100%***********************]  1 of 1 completed\n",
      "[*********************100%***********************]  1 of 1 completed\n",
      "[*********************100%***********************]  1 of 1 completed\n",
      "[*********************100%***********************]  1 of 1 completed\n",
      "{'Stock': 'WHIRLPOOL.NS', 'P035': 6584.91389907106, 'P05': 5415.160300452461, 'P1': 4461.696767801764, 'P2': 309.5762341304688, 'P35': 123.178329541489, 'R05': 3084.8396995475387, 'R1': 4038.3032321982364, 'R03': 1908.8284693907585, 'R0': 376.7937641569414}\n",
      "WIPRO.NS\n"
     ]
    },
    {
     "name": "stderr",
     "output_type": "stream",
     "text": [
      "C:\\Users\\naman\\AppData\\Local\\Temp\\ipykernel_6796\\1180599731.py:4: FutureWarning: The frame.append method is deprecated and will be removed from pandas in a future version. Use pandas.concat instead.\n",
      "  symb= symb.append(df2, ignore_index = True)\n"
     ]
    },
    {
     "name": "stdout",
     "output_type": "stream",
     "text": [
      "[*********************100%***********************]  1 of 1 completed\n",
      "[*********************100%***********************]  1 of 1 completed\n",
      "[*********************100%***********************]  1 of 1 completed\n",
      "[*********************100%***********************]  1 of 1 completed\n",
      "[*********************100%***********************]  1 of 1 completed\n",
      "[*********************100%***********************]  1 of 1 completed\n",
      "[*********************100%***********************]  1 of 1 completed\n",
      "[*********************100%***********************]  1 of 1 completed\n",
      "{'Stock': 'WIPRO.NS', 'P035': 6226.723247920225, 'P05': 6162.688225405939, 'P1': 5582.524926567714, 'P2': 110.62216410484547, 'P35': 6.079915452239511, 'R05': 2337.3117745940604, 'R1': 2916.626011230659, 'R03': 1948.5479314498518, 'R0': 428.7774392527892}\n",
      "YESBANK.NS\n"
     ]
    },
    {
     "name": "stderr",
     "output_type": "stream",
     "text": [
      "C:\\Users\\naman\\AppData\\Local\\Temp\\ipykernel_6796\\1180599731.py:4: FutureWarning: The frame.append method is deprecated and will be removed from pandas in a future version. Use pandas.concat instead.\n",
      "  symb= symb.append(df2, ignore_index = True)\n"
     ]
    },
    {
     "name": "stdout",
     "output_type": "stream",
     "text": [
      "[*********************100%***********************]  1 of 1 completed\n",
      "[*********************100%***********************]  1 of 1 completed\n",
      "[*********************100%***********************]  1 of 1 completed\n",
      "[*********************100%***********************]  1 of 1 completed\n",
      "[*********************100%***********************]  1 of 1 completed\n",
      "[*********************100%***********************]  1 of 1 completed\n",
      "[*********************100%***********************]  1 of 1 completed\n",
      "[*********************100%***********************]  1 of 1 completed\n",
      "{'Stock': 'YESBANK.NS', 'P035': 7699.621835539567, 'P05': 7645.611780434592, 'P1': 3929.190130066608, 'P2': 1927.3351163919926, 'P35': 1332.887070550233, 'R05': 854.3882195654077, 'R1': 4570.809869933393, 'R03': 743.4338899031032, 'R0': 595.9591161682702}\n",
      "ZEEL.NS\n"
     ]
    },
    {
     "name": "stderr",
     "output_type": "stream",
     "text": [
      "C:\\Users\\naman\\AppData\\Local\\Temp\\ipykernel_6796\\1180599731.py:4: FutureWarning: The frame.append method is deprecated and will be removed from pandas in a future version. Use pandas.concat instead.\n",
      "  symb= symb.append(df2, ignore_index = True)\n"
     ]
    },
    {
     "name": "stdout",
     "output_type": "stream",
     "text": [
      "[*********************100%***********************]  1 of 1 completed\n",
      "[*********************100%***********************]  1 of 1 completed\n",
      "[*********************100%***********************]  1 of 1 completed\n",
      "[*********************100%***********************]  1 of 1 completed\n",
      "[*********************100%***********************]  1 of 1 completed\n",
      "[*********************100%***********************]  1 of 1 completed\n",
      "[*********************100%***********************]  1 of 1 completed\n",
      "[*********************100%***********************]  1 of 1 completed\n",
      "{'Stock': 'ZEEL.NS', 'P035': 8003.60266206327, 'P05': 7987.351840257028, 'P1': 7564.657160725842, 'P2': 4687.237378256581, 'P35': 1478.0451720867409, 'R05': 512.6481597429722, 'R1': 935.3428392741577, 'R03': 487.8579133600548, 'R0': 109.56777292300474}\n",
      "ZOMATO.NS\n"
     ]
    },
    {
     "name": "stderr",
     "output_type": "stream",
     "text": [
      "C:\\Users\\naman\\AppData\\Local\\Temp\\ipykernel_6796\\1180599731.py:4: FutureWarning: The frame.append method is deprecated and will be removed from pandas in a future version. Use pandas.concat instead.\n",
      "  symb= symb.append(df2, ignore_index = True)\n"
     ]
    },
    {
     "name": "stdout",
     "output_type": "stream",
     "text": [
      "[*********************100%***********************]  1 of 1 completed\n",
      "[*********************100%***********************]  1 of 1 completed\n",
      "[*********************100%***********************]  1 of 1 completed\n",
      "[*********************100%***********************]  1 of 1 completed\n",
      "[*********************100%***********************]  1 of 1 completed\n",
      "[*********************100%***********************]  1 of 1 completed\n",
      "[*********************100%***********************]  1 of 1 completed\n",
      "[*********************100%***********************]  1 of 1 completed\n",
      "{'Stock': 'ZOMATO.NS', 'P035': 8310.891083646306, 'P05': 8280.552453746888, 'P1': 7807.616811966854, 'P2': 5325.566609763849, 'P35': 1461.4579223832195, 'R05': 219.44754625311205, 'R1': 692.3831880331475, 'R03': 111.1100317954234, 'R0': 70.40975559466737}\n",
      "ZYDUSLIFE.NS\n"
     ]
    },
    {
     "name": "stderr",
     "output_type": "stream",
     "text": [
      "C:\\Users\\naman\\AppData\\Local\\Temp\\ipykernel_6796\\1180599731.py:4: FutureWarning: The frame.append method is deprecated and will be removed from pandas in a future version. Use pandas.concat instead.\n",
      "  symb= symb.append(df2, ignore_index = True)\n"
     ]
    },
    {
     "name": "stdout",
     "output_type": "stream",
     "text": [
      "[*********************100%***********************]  1 of 1 completed\n",
      "[*********************100%***********************]  1 of 1 completed\n",
      "[*********************100%***********************]  1 of 1 completed\n",
      "[*********************100%***********************]  1 of 1 completed\n",
      "[*********************100%***********************]  1 of 1 completed\n",
      "[*********************100%***********************]  1 of 1 completed\n",
      "[*********************100%***********************]  1 of 1 completed\n",
      "[*********************100%***********************]  1 of 1 completed\n",
      "{'Stock': 'ZYDUSLIFE.NS', 'P035': 7806.908324014865, 'P05': 7691.531909146921, 'P1': 5788.432977925155, 'P2': 3745.7308990804813, 'P35': 3455.161907987104, 'R05': 808.4680908530796, 'R1': 2711.5670220748466, 'R03': 297.7734976622692, 'R0': 100.96690921652568}\n"
     ]
    },
    {
     "name": "stderr",
     "output_type": "stream",
     "text": [
      "C:\\Users\\naman\\AppData\\Local\\Temp\\ipykernel_6796\\1180599731.py:4: FutureWarning: The frame.append method is deprecated and will be removed from pandas in a future version. Use pandas.concat instead.\n",
      "  symb= symb.append(df2, ignore_index = True)\n"
     ]
    }
   ],
   "source": [
    "for s in symbols:\n",
    "  print(s)\n",
    "  df2=comb(s)\n",
    "  symb= symb.append(df2, ignore_index = True)\n",
    "  print(df2)  \n",
    "  "
   ]
  },
  {
   "cell_type": "code",
   "execution_count": 12,
   "id": "5374ddca",
   "metadata": {},
   "outputs": [],
   "source": [
    "symb['St']=18*symb['P35'] + 14*symb['P2'] + 10*symb['P1'] + 6*symb['P05'] + 0.5*symb['P035'] \n",
    "symb['Rt']=64*symb['R0']+32*symb['R03']+8*symb['R05']+3*symb['R1']\n",
    "symb['V']=symb['St']*symb['St']/symb['Rt']\n",
    "\n",
    "combined = symb.sort_values(by='V',ascending=False)\n",
    "combined['V']=combined['V']/100000\n"
   ]
  },
  {
   "cell_type": "code",
   "execution_count": 13,
   "id": "e8da3020",
   "metadata": {},
   "outputs": [
    {
     "ename": "NameError",
     "evalue": "name 'weightedprob' is not defined",
     "output_type": "error",
     "traceback": [
      "\u001b[1;31m---------------------------------------------------------------------------\u001b[0m",
      "\u001b[1;31mNameError\u001b[0m                                 Traceback (most recent call last)",
      "Input \u001b[1;32mIn [13]\u001b[0m, in \u001b[0;36m<cell line: 2>\u001b[1;34m()\u001b[0m\n\u001b[0;32m      1\u001b[0m final_05 \u001b[38;5;241m=\u001b[39m pd\u001b[38;5;241m.\u001b[39mDataFrame(columns\u001b[38;5;241m=\u001b[39m[\u001b[38;5;124m'\u001b[39m\u001b[38;5;124mStock\u001b[39m\u001b[38;5;124m'\u001b[39m,\u001b[38;5;124m'\u001b[39m\u001b[38;5;124mW1\u001b[39m\u001b[38;5;124m'\u001b[39m, \u001b[38;5;124m'\u001b[39m\u001b[38;5;124mW2\u001b[39m\u001b[38;5;124m'\u001b[39m, \u001b[38;5;124m'\u001b[39m\u001b[38;5;124mW4\u001b[39m\u001b[38;5;124m'\u001b[39m,\u001b[38;5;124m'\u001b[39m\u001b[38;5;124mW8\u001b[39m\u001b[38;5;124m'\u001b[39m,\u001b[38;5;124m'\u001b[39m\u001b[38;5;124mW16\u001b[39m\u001b[38;5;124m'\u001b[39m,\u001b[38;5;124m'\u001b[39m\u001b[38;5;124mM6\u001b[39m\u001b[38;5;124m'\u001b[39m,\u001b[38;5;124m'\u001b[39m\u001b[38;5;124mY1\u001b[39m\u001b[38;5;124m'\u001b[39m,\u001b[38;5;124m'\u001b[39m\u001b[38;5;124mY2\u001b[39m\u001b[38;5;124m'\u001b[39m])\n\u001b[0;32m      2\u001b[0m \u001b[38;5;28;01mfor\u001b[39;00m s \u001b[38;5;129;01min\u001b[39;00m symbols:\n\u001b[1;32m----> 3\u001b[0m   df2\u001b[38;5;241m=\u001b[39m \u001b[43mweightedprob\u001b[49m(s,\u001b[38;5;241m0.5\u001b[39m)\n\u001b[0;32m      4\u001b[0m   final_05 \u001b[38;5;241m=\u001b[39m final_05\u001b[38;5;241m.\u001b[39mappend(df2, ignore_index \u001b[38;5;241m=\u001b[39m \u001b[38;5;28;01mTrue\u001b[39;00m)\n",
      "\u001b[1;31mNameError\u001b[0m: name 'weightedprob' is not defined"
     ]
    }
   ],
   "source": [
    "final_05 = pd.DataFrame(columns=['Stock','W1', 'W2', 'W4','W8','W16','M6','Y1','Y2'])\n",
    "for s in symbols:\n",
    "  df2= weightedprob(s,0.5)\n",
    "  final_05 = final_05.append(df2, ignore_index = True)\n"
   ]
  },
  {
   "cell_type": "code",
   "execution_count": null,
   "id": "75bf9e23",
   "metadata": {},
   "outputs": [],
   "source": [
    "final_05['Prob05']=256*final_05['W1']+128*final_05['W2']+64*final_05['W4']+32*final_05['W8']+16*final_05['W16']+8*final_05['M6']+4*final_05['Y1']+2*final_05['Y2']"
   ]
  },
  {
   "cell_type": "code",
   "execution_count": null,
   "id": "5fca6e29",
   "metadata": {},
   "outputs": [],
   "source": [
    "forks_05 = final_05.sort_values(by='Prob05',ascending=False)\n",
    "final_1 = pd.DataFrame(columns=['Stock','W1', 'W2', 'W4','W8','W16','M6','Y1','Y2'])\n",
    "\n",
    "for s in symbols:\n",
    "  df2=weightedprob(s,1)\n",
    "  final_1 = final_1.append(df2, ignore_index = True)"
   ]
  },
  {
   "cell_type": "code",
   "execution_count": null,
   "id": "c068d2b8",
   "metadata": {},
   "outputs": [],
   "source": [
    "final_1['Prob1']=256*final_1['W1']+128*final_1['W2']+64*final_1['W4']+32*final_1['W8']+16*final_1['W16']+8*final_1['M6']+4*final_1['Y1']+2*final_1['Y2']"
   ]
  },
  {
   "cell_type": "code",
   "execution_count": null,
   "id": "fffb8251",
   "metadata": {},
   "outputs": [],
   "source": [
    "forks_1 = final_1.sort_values(by='Prob1',ascending=False)\n",
    "final_2 = pd.DataFrame(columns=['Stock','W1', 'W2', 'W4','W8','W16','M6','Y1','Y2'])"
   ]
  },
  {
   "cell_type": "code",
   "execution_count": null,
   "id": "c1256981",
   "metadata": {},
   "outputs": [],
   "source": [
    "for s in symbols:\n",
    "  df2=weightedprob(s,2)\n",
    "  final_2 = final_2.append(df2, ignore_index = True)"
   ]
  },
  {
   "cell_type": "code",
   "execution_count": null,
   "id": "03d935e7",
   "metadata": {},
   "outputs": [],
   "source": [
    "final_2['Prob2']=256*final_2['W1']+128*final_2['W2']+64*final_2['W4']+32*final_2['W8']+16*final_2['W16']+8*final_2['M6']+4*final_2['Y1']+2*final_2['Y2']"
   ]
  },
  {
   "cell_type": "code",
   "execution_count": null,
   "id": "c24261d1",
   "metadata": {},
   "outputs": [],
   "source": [
    "combined=final_1\n",
    "combined=combined.drop(['W1','W2','W4','W8','W16','M6','Y1','Y2'],axis=1)\n",
    "combined=combined.merge(final_05[['Prob05', 'Stock']], on = 'Stock', how = 'left')\n",
    "combined=combined.merge(finale[['Prob03', 'Stock']], on = 'Stock', how = 'left')\n",
    "combined=combined.merge(final_2[['Prob2', 'Stock']], on = 'Stock', how = 'left')"
   ]
  },
  {
   "cell_type": "code",
   "execution_count": null,
   "id": "dd1467c2",
   "metadata": {},
   "outputs": [],
   "source": [
    "combined['Val']=8*combined['Prob2']+4*combined['Prob1']+2*combined['Prob05']+0.25*combined['Prob03']"
   ]
  },
  {
   "cell_type": "code",
   "execution_count": null,
   "id": "9983a08c",
   "metadata": {},
   "outputs": [],
   "source": [
    "combined = combined.sort_values(by='Val',ascending=False)\n"
   ]
  },
  {
   "cell_type": "code",
   "execution_count": null,
   "id": "6aa4147a",
   "metadata": {},
   "outputs": [],
   "source": [
    "def falsesignal(s,k):\n",
    "  Y2=yf.download(s,'2020-09-20','2022-09-20')\n",
    "  W1=yf.download(s,'2022-09-13','2022-09-20')\n",
    "  W2=yf.download(s,'2022-09-06','2022-09-20')\n",
    "  W4=yf.download(s,'2022-08-23','2022-09-20')\n",
    "  W8=yf.download(s,'2022-07-26','2022-09-20')\n",
    "  W16=yf.download(s,'2022-05-31','2022-09-20')\n",
    "  M6=yf.download(s,'2022-03-22','2022-09-20')\n",
    "  Y1=yf.download(s,'2021-09-20','2022-09-20')\n",
    "\n",
    "  high_ch = pd.DataFrame(columns=['Lord'])\n",
    "  high_ch['Lord'] = (((W1['High']-W1['Open'])*100 )/W1['Open'])\n",
    "  final_W1=high_ch[high_ch.Lord < k]\n",
    "\n",
    "  high_ch1 = pd.DataFrame(columns=['Lord'])\n",
    "  high_ch1['Lord'] = (((W2['High']-W2['Open'])*100 )/W2['Open'])\n",
    "  final_W2=high_ch1[high_ch1.Lord < k]\n",
    "\n",
    "  high_ch2 = pd.DataFrame(columns=['Lord'])\n",
    "  high_ch2['Lord'] = (((W4['High']-W4['Open'])*100 )/W4['Open'])\n",
    "  final_W4=high_ch2[high_ch2.Lord < k]\n",
    "\n",
    "  high_ch3 = pd.DataFrame(columns=['Lord'])\n",
    "  high_ch3['Lord'] = (((W8['High']-W8['Open'])*100 )/W8['Open'])\n",
    "  final_W8=high_ch3[high_ch3.Lord < k]\n",
    "\n",
    "  high_ch4 = pd.DataFrame(columns=['Lord'])\n",
    "  high_ch4['Lord'] = (((W16['High']-W16['Open'])*100 )/W16['Open'])\n",
    "  final_W16=high_ch4[high_ch4.Lord < k]\n",
    "\n",
    "  high_ch5 = pd.DataFrame(columns=['Lord'])\n",
    "  high_ch5['Lord'] = (((M6['High']-M6['Open'])*100 )/M6['Open'])\n",
    "  final_M6=high_ch5[high_ch5.Lord < k]\n",
    "\n",
    "  high_ch6 = pd.DataFrame(columns=['Lord'])\n",
    "  high_ch6['Lord'] = (((Y1['High']-Y1['Open'])*100 )/Y1['Open'])\n",
    "  final_Y1=high_ch6[high_ch6.Lord < k]\n",
    "\n",
    "  high_ch7 = pd.DataFrame(columns=['Lord'])\n",
    "  high_ch7['Lord'] = (((Y2['High']-Y2['Open'])*100 )/Y2['Open'])\n",
    "  final_Y2=high_ch7[high_ch7.Lord < k]\n",
    "\n",
    "\n",
    "  df2 = {'Stock': s,'W1':(final_W1.size*100)/(W1.size), 'W2': (final_W2.size*100)/(W2.size), 'W4': (final_W4.size*100)/(W4.size), 'W8' : (final_W8.size*100)/(W8.size), 'W16': (final_W16.size*100)/(W16.size), 'M6': (final_M6.size*100)/(M6.size), 'Y1': (final_Y1.size*100)/(Y1.size), 'Y2': (final_Y2.size*100)/(Y2.size) }\n",
    "  return df2"
   ]
  },
  {
   "cell_type": "code",
   "execution_count": null,
   "id": "889fa0d9",
   "metadata": {},
   "outputs": [],
   "source": [
    "risk_05 = pd.DataFrame(columns=['Stock','W1', 'W2', 'W4','W8','W16','M6','Y1','Y2'])"
   ]
  },
  {
   "cell_type": "code",
   "execution_count": null,
   "id": "a75274f6",
   "metadata": {},
   "outputs": [],
   "source": [
    "for s in symbols:\n",
    "  df2=falsesignal(s,0.5)\n",
    "  risk_05 = risk_05.append(df2, ignore_index = True)"
   ]
  },
  {
   "cell_type": "code",
   "execution_count": null,
   "id": "95248c79",
   "metadata": {},
   "outputs": [],
   "source": [
    "risk_05['Prob1']=256*risk_05['W1']+128*risk_05['W2']+64*risk_05['W4']+32*risk_05['W8']+16*risk_05['W16']+8*risk_05['M6']+4*risk_05['Y1']+2*risk_05['Y2']"
   ]
  },
  {
   "cell_type": "code",
   "execution_count": null,
   "id": "74f17498",
   "metadata": {},
   "outputs": [],
   "source": [
    "best=combined"
   ]
  },
  {
   "cell_type": "code",
   "execution_count": 1,
   "id": "c9f95147",
   "metadata": {},
   "outputs": [
    {
     "ename": "NameError",
     "evalue": "name 'risk_05' is not defined",
     "output_type": "error",
     "traceback": [
      "\u001b[1;31m---------------------------------------------------------------------------\u001b[0m",
      "\u001b[1;31mNameError\u001b[0m                                 Traceback (most recent call last)",
      "Input \u001b[1;32mIn [1]\u001b[0m, in \u001b[0;36m<cell line: 1>\u001b[1;34m()\u001b[0m\n\u001b[1;32m----> 1\u001b[0m risk_05\u001b[38;5;241m=\u001b[39m\u001b[43mrisk_05\u001b[49m\u001b[38;5;241m.\u001b[39mrename(columns\u001b[38;5;241m=\u001b[39m{\u001b[38;5;124m'\u001b[39m\u001b[38;5;124mProb1\u001b[39m\u001b[38;5;124m'\u001b[39m:\u001b[38;5;124m'\u001b[39m\u001b[38;5;124mRisk\u001b[39m\u001b[38;5;124m'\u001b[39m})\n\u001b[0;32m      2\u001b[0m best\u001b[38;5;241m=\u001b[39mbest\u001b[38;5;241m.\u001b[39mmerge(risk_05[[\u001b[38;5;124m'\u001b[39m\u001b[38;5;124mRisk\u001b[39m\u001b[38;5;124m'\u001b[39m, \u001b[38;5;124m'\u001b[39m\u001b[38;5;124mStock\u001b[39m\u001b[38;5;124m'\u001b[39m]], on \u001b[38;5;241m=\u001b[39m \u001b[38;5;124m'\u001b[39m\u001b[38;5;124mStock\u001b[39m\u001b[38;5;124m'\u001b[39m, how \u001b[38;5;241m=\u001b[39m \u001b[38;5;124m'\u001b[39m\u001b[38;5;124mleft\u001b[39m\u001b[38;5;124m'\u001b[39m)\n\u001b[0;32m      3\u001b[0m best[\u001b[38;5;124m'\u001b[39m\u001b[38;5;124mQuotient\u001b[39m\u001b[38;5;124m'\u001b[39m]\u001b[38;5;241m=\u001b[39m(best[\u001b[38;5;124m'\u001b[39m\u001b[38;5;124mVal\u001b[39m\u001b[38;5;124m'\u001b[39m]\u001b[38;5;241m*\u001b[39mbest[\u001b[38;5;124m'\u001b[39m\u001b[38;5;124mVal\u001b[39m\u001b[38;5;124m'\u001b[39m]\u001b[38;5;241m*\u001b[39mbest[\u001b[38;5;124m'\u001b[39m\u001b[38;5;124mVal\u001b[39m\u001b[38;5;124m'\u001b[39m])\u001b[38;5;241m/\u001b[39m(best[\u001b[38;5;124m'\u001b[39m\u001b[38;5;124mRisk\u001b[39m\u001b[38;5;124m'\u001b[39m]\u001b[38;5;241m*\u001b[39m\u001b[38;5;241m1000000000\u001b[39m)\n",
      "\u001b[1;31mNameError\u001b[0m: name 'risk_05' is not defined"
     ]
    }
   ],
   "source": [
    "risk_05=risk_05.rename(columns={'Prob1':'Risk'})\n",
    "best=best.merge(risk_05[['Risk', 'Stock']], on = 'Stock', how = 'left')\n",
    "best['Quotient']=(best['Val']*best['Val']*best['Val'])/(best['Risk']*1000000000)\n",
    "best = best.sort_values(by='Quotient',ascending=False)"
   ]
  }
 ],
 "metadata": {
  "kernelspec": {
   "display_name": "Python 3 (ipykernel)",
   "language": "python",
   "name": "python3"
  },
  "language_info": {
   "codemirror_mode": {
    "name": "ipython",
    "version": 3
   },
   "file_extension": ".py",
   "mimetype": "text/x-python",
   "name": "python",
   "nbconvert_exporter": "python",
   "pygments_lexer": "ipython3",
   "version": "3.7.9"
  }
 },
 "nbformat": 4,
 "nbformat_minor": 5
}
